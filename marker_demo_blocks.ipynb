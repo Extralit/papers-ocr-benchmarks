{
  "cells": [
    {
      "cell_type": "markdown",
      "metadata": {
        "id": "view-in-github",
        "colab_type": "text"
      },
      "source": [
        "<a href=\"https://colab.research.google.com/github/Extralit/papers-ocr-benchmarks/blob/main/marker_demo_blocks.ipynb\" target=\"_parent\"><img src=\"https://colab.research.google.com/assets/colab-badge.svg\" alt=\"Open In Colab\"/></a>"
      ]
    },
    {
      "cell_type": "markdown",
      "id": "41f7e972",
      "metadata": {
        "id": "41f7e972"
      },
      "source": [
        "# Marker Demo: Research Paper Block Extraction & Exploration\n",
        "\n",
        "Self-contained, Google Colab-ready.\n",
        "\n",
        "- Upload a PDF, run Marker to extract JSON structure\n",
        "- Flatten and filter block structure (inspired by TypeScript)\n",
        "- Explore block types, metadata, tables, and figures\n",
        "- No LLM-based summarization or captioning included\n"
      ]
    },
    {
      "cell_type": "code",
      "execution_count": 1,
      "id": "5ec80635",
      "metadata": {
        "id": "5ec80635"
      },
      "outputs": [],
      "source": [
        "# 1. Install marker-pdf and dependencies\n",
        "!uv pip install --quiet marker-pdf[full]\n",
        "!uv pip install -q \"PyMuPDF>=1.23.0\" \"pandas>=1.5.0\"\n",
        "!uv pip install -q \"matplotlib>=3.5.0\" \"seaborn>=0.11.0\" \"textdistance>=4.6.0\"\n",
        "!uv pip install -q torch torchvision torchaudio"
      ]
    },
    {
      "cell_type": "code",
      "source": [
        "# prompt: import HTML and display from ipython\n",
        "\n",
        "from IPython.display import HTML, display, JSON\n",
        "from pprint import pprint"
      ],
      "metadata": {
        "id": "S9g8hddio-km"
      },
      "id": "S9g8hddio-km",
      "execution_count": 23,
      "outputs": []
    },
    {
      "cell_type": "code",
      "execution_count": 11,
      "id": "a878649c",
      "metadata": {
        "colab": {
          "base_uri": "https://localhost:8080/",
          "height": 70
        },
        "id": "a878649c",
        "outputId": "ecd023d5-eceb-4d67-a4d4-a4e19aff3352"
      },
      "outputs": [
        {
          "output_type": "display_data",
          "data": {
            "text/plain": [
              "<IPython.core.display.HTML object>"
            ],
            "text/html": [
              "\n",
              "     <input type=\"file\" id=\"files-dcde9213-ea96-4ab8-b217-004ef07d7e66\" name=\"files[]\" multiple disabled\n",
              "        style=\"border:none\" />\n",
              "     <output id=\"result-dcde9213-ea96-4ab8-b217-004ef07d7e66\">\n",
              "      Upload widget is only available when the cell has been executed in the\n",
              "      current browser session. Please rerun this cell to enable.\n",
              "      </output>\n",
              "      <script>// Copyright 2017 Google LLC\n",
              "//\n",
              "// Licensed under the Apache License, Version 2.0 (the \"License\");\n",
              "// you may not use this file except in compliance with the License.\n",
              "// You may obtain a copy of the License at\n",
              "//\n",
              "//      http://www.apache.org/licenses/LICENSE-2.0\n",
              "//\n",
              "// Unless required by applicable law or agreed to in writing, software\n",
              "// distributed under the License is distributed on an \"AS IS\" BASIS,\n",
              "// WITHOUT WARRANTIES OR CONDITIONS OF ANY KIND, either express or implied.\n",
              "// See the License for the specific language governing permissions and\n",
              "// limitations under the License.\n",
              "\n",
              "/**\n",
              " * @fileoverview Helpers for google.colab Python module.\n",
              " */\n",
              "(function(scope) {\n",
              "function span(text, styleAttributes = {}) {\n",
              "  const element = document.createElement('span');\n",
              "  element.textContent = text;\n",
              "  for (const key of Object.keys(styleAttributes)) {\n",
              "    element.style[key] = styleAttributes[key];\n",
              "  }\n",
              "  return element;\n",
              "}\n",
              "\n",
              "// Max number of bytes which will be uploaded at a time.\n",
              "const MAX_PAYLOAD_SIZE = 100 * 1024;\n",
              "\n",
              "function _uploadFiles(inputId, outputId) {\n",
              "  const steps = uploadFilesStep(inputId, outputId);\n",
              "  const outputElement = document.getElementById(outputId);\n",
              "  // Cache steps on the outputElement to make it available for the next call\n",
              "  // to uploadFilesContinue from Python.\n",
              "  outputElement.steps = steps;\n",
              "\n",
              "  return _uploadFilesContinue(outputId);\n",
              "}\n",
              "\n",
              "// This is roughly an async generator (not supported in the browser yet),\n",
              "// where there are multiple asynchronous steps and the Python side is going\n",
              "// to poll for completion of each step.\n",
              "// This uses a Promise to block the python side on completion of each step,\n",
              "// then passes the result of the previous step as the input to the next step.\n",
              "function _uploadFilesContinue(outputId) {\n",
              "  const outputElement = document.getElementById(outputId);\n",
              "  const steps = outputElement.steps;\n",
              "\n",
              "  const next = steps.next(outputElement.lastPromiseValue);\n",
              "  return Promise.resolve(next.value.promise).then((value) => {\n",
              "    // Cache the last promise value to make it available to the next\n",
              "    // step of the generator.\n",
              "    outputElement.lastPromiseValue = value;\n",
              "    return next.value.response;\n",
              "  });\n",
              "}\n",
              "\n",
              "/**\n",
              " * Generator function which is called between each async step of the upload\n",
              " * process.\n",
              " * @param {string} inputId Element ID of the input file picker element.\n",
              " * @param {string} outputId Element ID of the output display.\n",
              " * @return {!Iterable<!Object>} Iterable of next steps.\n",
              " */\n",
              "function* uploadFilesStep(inputId, outputId) {\n",
              "  const inputElement = document.getElementById(inputId);\n",
              "  inputElement.disabled = false;\n",
              "\n",
              "  const outputElement = document.getElementById(outputId);\n",
              "  outputElement.innerHTML = '';\n",
              "\n",
              "  const pickedPromise = new Promise((resolve) => {\n",
              "    inputElement.addEventListener('change', (e) => {\n",
              "      resolve(e.target.files);\n",
              "    });\n",
              "  });\n",
              "\n",
              "  const cancel = document.createElement('button');\n",
              "  inputElement.parentElement.appendChild(cancel);\n",
              "  cancel.textContent = 'Cancel upload';\n",
              "  const cancelPromise = new Promise((resolve) => {\n",
              "    cancel.onclick = () => {\n",
              "      resolve(null);\n",
              "    };\n",
              "  });\n",
              "\n",
              "  // Wait for the user to pick the files.\n",
              "  const files = yield {\n",
              "    promise: Promise.race([pickedPromise, cancelPromise]),\n",
              "    response: {\n",
              "      action: 'starting',\n",
              "    }\n",
              "  };\n",
              "\n",
              "  cancel.remove();\n",
              "\n",
              "  // Disable the input element since further picks are not allowed.\n",
              "  inputElement.disabled = true;\n",
              "\n",
              "  if (!files) {\n",
              "    return {\n",
              "      response: {\n",
              "        action: 'complete',\n",
              "      }\n",
              "    };\n",
              "  }\n",
              "\n",
              "  for (const file of files) {\n",
              "    const li = document.createElement('li');\n",
              "    li.append(span(file.name, {fontWeight: 'bold'}));\n",
              "    li.append(span(\n",
              "        `(${file.type || 'n/a'}) - ${file.size} bytes, ` +\n",
              "        `last modified: ${\n",
              "            file.lastModifiedDate ? file.lastModifiedDate.toLocaleDateString() :\n",
              "                                    'n/a'} - `));\n",
              "    const percent = span('0% done');\n",
              "    li.appendChild(percent);\n",
              "\n",
              "    outputElement.appendChild(li);\n",
              "\n",
              "    const fileDataPromise = new Promise((resolve) => {\n",
              "      const reader = new FileReader();\n",
              "      reader.onload = (e) => {\n",
              "        resolve(e.target.result);\n",
              "      };\n",
              "      reader.readAsArrayBuffer(file);\n",
              "    });\n",
              "    // Wait for the data to be ready.\n",
              "    let fileData = yield {\n",
              "      promise: fileDataPromise,\n",
              "      response: {\n",
              "        action: 'continue',\n",
              "      }\n",
              "    };\n",
              "\n",
              "    // Use a chunked sending to avoid message size limits. See b/62115660.\n",
              "    let position = 0;\n",
              "    do {\n",
              "      const length = Math.min(fileData.byteLength - position, MAX_PAYLOAD_SIZE);\n",
              "      const chunk = new Uint8Array(fileData, position, length);\n",
              "      position += length;\n",
              "\n",
              "      const base64 = btoa(String.fromCharCode.apply(null, chunk));\n",
              "      yield {\n",
              "        response: {\n",
              "          action: 'append',\n",
              "          file: file.name,\n",
              "          data: base64,\n",
              "        },\n",
              "      };\n",
              "\n",
              "      let percentDone = fileData.byteLength === 0 ?\n",
              "          100 :\n",
              "          Math.round((position / fileData.byteLength) * 100);\n",
              "      percent.textContent = `${percentDone}% done`;\n",
              "\n",
              "    } while (position < fileData.byteLength);\n",
              "  }\n",
              "\n",
              "  // All done.\n",
              "  yield {\n",
              "    response: {\n",
              "      action: 'complete',\n",
              "    }\n",
              "  };\n",
              "}\n",
              "\n",
              "scope.google = scope.google || {};\n",
              "scope.google.colab = scope.google.colab || {};\n",
              "scope.google.colab._files = {\n",
              "  _uploadFiles,\n",
              "  _uploadFilesContinue,\n",
              "};\n",
              "})(self);\n",
              "</script> "
            ]
          },
          "metadata": {}
        },
        {
          "output_type": "stream",
          "name": "stdout",
          "text": [
            "Saving Allossogbe_et_al_2017_Mal_J.pdf to Allossogbe_et_al_2017_Mal_J.pdf\n"
          ]
        }
      ],
      "source": [
        "# 2. Upload a PDF\n",
        "from google.colab import files\n",
        "uploaded = files.upload()\n",
        "pdf_path = next(iter(uploaded))"
      ]
    },
    {
      "cell_type": "code",
      "source": [
        "file_path = \"/content/Allossogbe_et_al_2017_Mal_J.pdf\""
      ],
      "metadata": {
        "id": "UsqxR8ezlgLr"
      },
      "id": "UsqxR8ezlgLr",
      "execution_count": 12,
      "outputs": []
    },
    {
      "cell_type": "code",
      "source": [
        "artifact_dict = create_model_dict()\n",
        "artifact_dict"
      ],
      "metadata": {
        "colab": {
          "base_uri": "https://localhost:8080/"
        },
        "id": "KtnRWV1KoanW",
        "outputId": "82932774-93db-4246-8adc-f901b95f8c83"
      },
      "id": "KtnRWV1KoanW",
      "execution_count": 14,
      "outputs": [
        {
          "output_type": "execute_result",
          "data": {
            "text/plain": [
              "{'layout_model': <surya.layout.LayoutPredictor at 0x784a9e912010>,\n",
              " 'recognition_model': <surya.recognition.RecognitionPredictor at 0x784aea2e9bd0>,\n",
              " 'table_rec_model': <surya.table_rec.TableRecPredictor at 0x784ae0a19190>,\n",
              " 'detection_model': <surya.detection.DetectionPredictor at 0x784af3725210>,\n",
              " 'ocr_error_model': <surya.ocr_error.OCRErrorPredictor at 0x784ae9bf05d0>}"
            ]
          },
          "metadata": {},
          "execution_count": 14
        }
      ]
    },
    {
      "cell_type": "code",
      "source": [
        "from marker.converters.pdf import PdfConverter\n",
        "from marker.models import create_model_dict\n",
        "from marker.schema import BlockTypes\n",
        "\n",
        "converter = PdfConverter(\n",
        "    artifact_dict=create_model_dict(),\n",
        ")\n",
        "\n",
        "document = converter.build_document(file_path)\n",
        "forms = document.contained_blocks((BlockTypes.Form,))"
      ],
      "metadata": {
        "colab": {
          "base_uri": "https://localhost:8080/"
        },
        "id": "DiczzGCekvuu",
        "outputId": "20583692-9c35-42a1-9abb-ffd7e4c6e0ba"
      },
      "id": "DiczzGCekvuu",
      "execution_count": 13,
      "outputs": [
        {
          "output_type": "stream",
          "name": "stderr",
          "text": [
            "Recognizing layout: 100%|██████████| 1/1 [00:01<00:00,  1.79s/it]\n",
            "Running OCR Error Detection: 100%|██████████| 1/1 [00:00<00:00, 26.08it/s]\n",
            "Detecting bboxes: 0it [00:00, ?it/s]\n",
            "Detecting bboxes: 0it [00:00, ?it/s]\n",
            "Recognizing tables: 100%|██████████| 1/1 [00:01<00:00,  1.26s/it]\n"
          ]
        }
      ]
    },
    {
      "cell_type": "code",
      "source": [
        "blocks = document.contained_blocks((BlockTypes.Text,))\n",
        "blocks[0]"
      ],
      "metadata": {
        "id": "eFxT2GGXsmEv",
        "outputId": "86e355a8-9b75-4c18-dce3-fbcbac07974d",
        "colab": {
          "base_uri": "https://localhost:8080/"
        }
      },
      "id": "eFxT2GGXsmEv",
      "execution_count": 31,
      "outputs": [
        {
          "output_type": "execute_result",
          "data": {
            "text/plain": [
              "Text(polygon=PolygonBox(polygon=[[56.45703125, 229.614013671875], [506.076171875, 229.614013671875], [506.076171875, 257.422607421875], [56.45703125, 257.422607421875]], bbox=[56.45703125, 229.614013671875, 506.076171875, 257.422607421875]), block_description='A paragraph or line of text.', block_type=<BlockTypes.Text: '23'>, block_id=6, page_id=0, text_extraction_method='pdftext', structure=[/page/0/Line/40, /page/0/Line/58, /page/0/Line/64, /page/0/Line/67, /page/0/Line/77], ignore_for_output=False, replace_output_newlines=False, source='layout', top_k={<BlockTypes.Text: '23'>: 0.9404296875, <BlockTypes.TextInlineMath: '16'>: 0.05963134765625, <BlockTypes.Code: '10'>: 1.1980533599853516e-05, <BlockTypes.Footnote: '12'>: 4.947185516357422e-06, <BlockTypes.Form: '13'>: 4.827976226806641e-06}, metadata=None, lowres_image=None, highres_image=None, removed=False, has_continuation=False, blockquote=False, blockquote_level=0, html=None)"
            ]
          },
          "metadata": {},
          "execution_count": 31
        }
      ]
    },
    {
      "cell_type": "code",
      "source": [
        "blocks[0].html"
      ],
      "metadata": {
        "id": "pyMlwMNtsp0U"
      },
      "id": "pyMlwMNtsp0U",
      "execution_count": 30,
      "outputs": []
    },
    {
      "cell_type": "code",
      "source": [
        "pprint(blocks)"
      ],
      "metadata": {
        "colab": {
          "base_uri": "https://localhost:8080/"
        },
        "id": "jWTON7SMloQx",
        "outputId": "38d1e9e8-bd87-4cda-c9bf-d5a33cbb53bd"
      },
      "id": "jWTON7SMloQx",
      "execution_count": 32,
      "outputs": [
        {
          "output_type": "stream",
          "name": "stdout",
          "text": [
            "[Text(polygon=PolygonBox(polygon=[[56.45703125, 229.614013671875], [506.076171875, 229.614013671875], [506.076171875, 257.422607421875], [56.45703125, 257.422607421875]], bbox=[56.45703125, 229.614013671875, 506.076171875, 257.422607421875]), block_description='A paragraph or line of text.', block_type=<BlockTypes.Text: '23'>, block_id=6, page_id=0, text_extraction_method='pdftext', structure=[/page/0/Line/40, /page/0/Line/58, /page/0/Line/64, /page/0/Line/67, /page/0/Line/77], ignore_for_output=False, replace_output_newlines=False, source='layout', top_k={<BlockTypes.Text: '23'>: 0.9404296875, <BlockTypes.TextInlineMath: '16'>: 0.05963134765625, <BlockTypes.Code: '10'>: 1.1980533599853516e-05, <BlockTypes.Footnote: '12'>: 4.947185516357422e-06, <BlockTypes.Form: '13'>: 4.827976226806641e-06}, metadata=None, lowres_image=None, highres_image=None, removed=False, has_continuation=False, blockquote=False, blockquote_level=0, html=None),\n",
            " Text(polygon=PolygonBox(polygon=[[62.27734375, 303.5771484375], [521.791015625, 303.5771484375], [521.791015625, 387.0029296875], [62.27734375, 387.0029296875]], bbox=[62.27734375, 303.5771484375, 521.791015625, 387.0029296875]), block_description='A paragraph or line of text.', block_type=<BlockTypes.Text: '23'>, block_id=8, page_id=0, text_extraction_method='pdftext', structure=[/page/0/Line/94, /page/0/Line/98, /page/0/Line/101, /page/0/Line/104, /page/0/Line/106, /page/0/Line/109, /page/0/Line/112], ignore_for_output=False, replace_output_newlines=False, source='layout', top_k={<BlockTypes.Text: '23'>: 1.0, <BlockTypes.TextInlineMath: '16'>: 1.7940998077392578e-05, <BlockTypes.SectionHeader: '21'>: 2.86102294921875e-06, <BlockTypes.Picture: '20'>: 5.364418029785156e-07, <BlockTypes.Form: '13'>: 2.384185791015625e-07}, metadata=None, lowres_image=None, highres_image=None, removed=False, has_continuation=False, blockquote=False, blockquote_level=0, html=None),\n",
            " Text(polygon=PolygonBox(polygon=[[62.1318359375, 389.899658203125], [529.7742919921875, 389.899658203125], [529.7742919921875, 449.95849609375], [62.1318359375, 449.95849609375]], bbox=[62.1318359375, 389.899658203125, 529.7742919921875, 449.95849609375]), block_description='A paragraph or line of text.', block_type=<BlockTypes.Text: '23'>, block_id=9, page_id=0, text_extraction_method='pdftext', structure=[/page/0/Line/116, /page/0/Line/120, /page/0/Line/123, /page/0/Line/125, /page/0/Line/128], ignore_for_output=False, replace_output_newlines=False, source='layout', top_k={<BlockTypes.Text: '23'>: 1.0, <BlockTypes.TextInlineMath: '16'>: 2.586841583251953e-05, <BlockTypes.SectionHeader: '21'>: 2.9206275939941406e-06, <BlockTypes.Form: '13'>: 4.76837158203125e-07, <BlockTypes.Code: '10'>: 4.172325134277344e-07}, metadata=None, lowres_image=None, highres_image=None, removed=False, has_continuation=False, blockquote=False, blockquote_level=0, html=None),\n",
            " Text(polygon=PolygonBox(polygon=[[61.986328125, 453.04833984375], [533.72265625, 453.04833984375], [533.72265625, 561.19287109375], [61.986328125, 561.19287109375]], bbox=[61.986328125, 453.04833984375, 533.72265625, 561.19287109375]), block_description='A paragraph or line of text.', block_type=<BlockTypes.Text: '23'>, block_id=10, page_id=0, text_extraction_method='pdftext', structure=[/page/0/Line/131, /page/0/Line/135, /page/0/Line/138, /page/0/Line/143, /page/0/Line/146, /page/0/Line/153, /page/0/Line/159, /page/0/Line/162, /page/0/Line/165], ignore_for_output=False, replace_output_newlines=False, source='layout', top_k={<BlockTypes.Text: '23'>: 0.99560546875, <BlockTypes.TextInlineMath: '16'>: 0.0041656494140625, <BlockTypes.Code: '10'>: 1.633167266845703e-05, <BlockTypes.SectionHeader: '21'>: 1.2874603271484375e-05, <BlockTypes.Picture: '20'>: 6.139278411865234e-06}, metadata=None, lowres_image=None, highres_image=None, removed=False, has_continuation=False, blockquote=False, blockquote_level=0, html=None),\n",
            " Text(polygon=PolygonBox(polygon=[[61.8408203125, 564.28271484375], [529.6869506835938, 564.28271484375], [529.6869506835938, 611.8030700683594], [61.8408203125, 611.8030700683594]], bbox=[61.8408203125, 564.28271484375, 529.6869506835938, 611.8030700683594]), block_description='A paragraph or line of text.', block_type=<BlockTypes.Text: '23'>, block_id=11, page_id=0, text_extraction_method='pdftext', structure=[/page/0/Line/172, /page/0/Line/177, /page/0/Line/179, /page/0/Line/184], ignore_for_output=False, replace_output_newlines=False, source='layout', top_k={<BlockTypes.Text: '23'>: 1.0, <BlockTypes.TextInlineMath: '16'>: 4.011392593383789e-05, <BlockTypes.Picture: '20'>: 8.940696716308594e-07, <BlockTypes.Code: '10'>: 8.344650268554688e-07, <BlockTypes.Footnote: '12'>: 1.7881393432617188e-07}, metadata=None, lowres_image=None, highres_image=None, removed=False, has_continuation=False, blockquote=False, blockquote_level=0, html=None),\n",
            " Text(polygon=PolygonBox(polygon=[[61.5498046875, 614.87890625], [352.7109375, 614.87890625], [352.7109375, 626.8030700683594], [61.5498046875, 626.8030700683594]], bbox=[61.5498046875, 614.87890625, 352.7109375, 626.8030700683594]), block_description='A paragraph or line of text.', block_type=<BlockTypes.Text: '23'>, block_id=12, page_id=0, text_extraction_method='pdftext', structure=[/page/0/Line/187], ignore_for_output=False, replace_output_newlines=False, source='layout', top_k={<BlockTypes.Text: '23'>: 1.0, <BlockTypes.Picture: '20'>: 4.172325134277344e-07, <BlockTypes.SectionHeader: '21'>: 3.5762786865234375e-07, <BlockTypes.Caption: '9'>: 3.5762786865234375e-07, <BlockTypes.TextInlineMath: '16'>: 1.7881393432617188e-07}, metadata=None, lowres_image=None, highres_image=None, removed=False, has_continuation=False, blockquote=False, blockquote_level=0, html=None),\n",
            " Text(polygon=PolygonBox(polygon=[[56.0205078125, 652.34326171875], [167.58087158203125, 652.34326171875], [167.58087158203125, 661.61279296875], [56.0205078125, 661.61279296875]], bbox=[56.0205078125, 652.34326171875, 167.58087158203125, 661.61279296875]), block_description='A paragraph or line of text.', block_type=<BlockTypes.Text: '23'>, block_id=13, page_id=0, text_extraction_method='pdftext', structure=[/page/0/Line/216], ignore_for_output=False, replace_output_newlines=False, source='layout', top_k={<BlockTypes.Text: '23'>: 0.99853515625, <BlockTypes.Footnote: '12'>: 0.0014781951904296875, <BlockTypes.Caption: '9'>: 3.2186508178710938e-06, <BlockTypes.Picture: '20'>: 1.6093254089355469e-06, <BlockTypes.Figure: '11'>: 4.76837158203125e-07}, metadata=None, lowres_image=None, highres_image=None, removed=False, has_continuation=False, blockquote=False, blockquote_level=0, html=None),\n",
            " Text(polygon=PolygonBox(polygon=[[54.8564453125, 661.6736907958984], [264.0966796875, 661.61279296875], [264.0966796875, 679.4515533447266], [54.8564453125, 679.4515533447266]], bbox=[54.8564453125, 661.61279296875, 264.0966796875, 679.4515533447266]), block_description='A paragraph or line of text.', block_type=<BlockTypes.Text: '23'>, block_id=14, page_id=0, text_extraction_method='pdftext', structure=[/page/0/Line/219, /page/0/Line/222, /page/0/Line/225], ignore_for_output=False, replace_output_newlines=False, source='layout', top_k={<BlockTypes.Text: '23'>: 0.71826171875, <BlockTypes.Footnote: '12'>: 0.28125, <BlockTypes.Code: '10'>: 9.363889694213867e-05, <BlockTypes.Caption: '9'>: 4.220008850097656e-05, <BlockTypes.Handwriting: '15'>: 7.271766662597656e-06}, metadata=None, lowres_image=None, highres_image=None, removed=False, has_continuation=False, blockquote=False, blockquote_level=0, html=None),\n",
            " Text(polygon=PolygonBox(polygon=[[180.54498291015625, 702.1669921875], [532.849609375, 702.1669921875], [532.849609375, 742.514949798584], [180.54498291015625, 742.514949798584]], bbox=[180.54498291015625, 702.1669921875, 532.849609375, 742.514949798584]), block_description='A paragraph or line of text.', block_type=<BlockTypes.Text: '23'>, block_id=17, page_id=0, text_extraction_method='pdftext', structure=[/page/0/Line/192, /page/0/Line/195, /page/0/Line/199, /page/0/Line/202, /page/0/Line/206], ignore_for_output=False, replace_output_newlines=False, source='layout', top_k={<BlockTypes.Text: '23'>: 0.98974609375, <BlockTypes.Footnote: '12'>: 0.01016998291015625, <BlockTypes.TextInlineMath: '16'>: 2.8371810913085938e-05, <BlockTypes.ListItem: '17'>: 1.0728836059570312e-06, <BlockTypes.Caption: '9'>: 8.940696716308594e-07}, metadata=None, lowres_image=None, highres_image=None, removed=False, has_continuation=False, blockquote=False, blockquote_level=0, html=None),\n",
            " Text(polygon=PolygonBox(polygon=[[55.51123046875, 101.11956787109375], [292.8701477050781, 101.11956787109375], [292.8701477050781, 254.9130859375], [55.51123046875, 254.9130859375]], bbox=[55.51123046875, 101.11956787109375, 292.8701477050781, 254.9130859375]), block_description='A paragraph or line of text.', block_type=<BlockTypes.Text: '23'>, block_id=2, page_id=1, text_extraction_method='pdftext', structure=[/page/1/Line/22, /page/1/Line/25, /page/1/Line/28, /page/1/Line/30, /page/1/Line/33, /page/1/Line/37, /page/1/Line/40, /page/1/Line/43, /page/1/Line/45, /page/1/Line/48, /page/1/Line/51, /page/1/Line/53, /page/1/Line/56], ignore_for_output=False, replace_output_newlines=False, source='layout', top_k={<BlockTypes.Text: '23'>: 1.0, <BlockTypes.PageHeader: '19'>: 9.5367431640625e-07, <BlockTypes.TextInlineMath: '16'>: 1.1920928955078125e-07, <BlockTypes.SectionHeader: '21'>: 5.960464477539063e-08, <BlockTypes.Figure: '11'>: 5.960464477539063e-08}, metadata=None, lowres_image=None, highres_image=None, removed=False, has_continuation=False, blockquote=False, blockquote_level=0, html=None),\n",
            " Text(polygon=PolygonBox(polygon=[[55.875, 256.45703125], [292.8778076171875, 256.45703125], [292.8778076171875, 446.9000244140625], [55.875, 446.9000244140625]], bbox=[55.875, 256.45703125, 292.8778076171875, 446.9000244140625]), block_description='A paragraph or line of text.', block_type=<BlockTypes.Text: '23'>, block_id=3, page_id=1, text_extraction_method='pdftext', structure=[/page/1/Line/59, /page/1/Line/62, /page/1/Line/65, /page/1/Line/68, /page/1/Line/70, /page/1/Line/72, /page/1/Line/75, /page/1/Line/80, /page/1/Line/83, /page/1/Line/86, /page/1/Line/88, /page/1/Line/90, /page/1/Line/95, /page/1/Line/98, /page/1/Line/101, /page/1/Line/104], ignore_for_output=False, replace_output_newlines=False, source='layout', top_k={<BlockTypes.Text: '23'>: 1.0, <BlockTypes.TextInlineMath: '16'>: 4.231929779052734e-06, <BlockTypes.PageHeader: '19'>: 1.7881393432617188e-07, <BlockTypes.Figure: '11'>: 5.960464477539063e-08, <BlockTypes.SectionHeader: '21'>: 5.960464477539063e-08}, metadata=None, lowres_image=None, highres_image=None, removed=False, has_continuation=False, blockquote=False, blockquote_level=0, html=None),\n",
            " Text(polygon=PolygonBox(polygon=[[56.09326171875, 449.0951232910156], [292.8752136230469, 449.0951232910156], [292.8752136230469, 507.12060546875], [56.09326171875, 507.12060546875]], bbox=[56.09326171875, 449.0951232910156, 292.8752136230469, 507.12060546875]), block_description='A paragraph or line of text.', block_type=<BlockTypes.Text: '23'>, block_id=4, page_id=1, text_extraction_method='pdftext', structure=[/page/1/Line/109, /page/1/Line/112, /page/1/Line/115, /page/1/Line/123, /page/1/Line/131], ignore_for_output=False, replace_output_newlines=False, source='layout', top_k={<BlockTypes.Text: '23'>: 1.0, <BlockTypes.TextInlineMath: '16'>: 2.2709369659423828e-05, <BlockTypes.SectionHeader: '21'>: 8.344650268554688e-07, <BlockTypes.Code: '10'>: 5.960464477539062e-07, <BlockTypes.PageHeader: '19'>: 4.76837158203125e-07}, metadata=None, lowres_image=None, highres_image=None, removed=False, has_continuation=False, blockquote=False, blockquote_level=0, html=None),\n",
            " Text(polygon=PolygonBox(polygon=[[55.94775390625, 509.07110595703125], [292.8721923828125, 509.07110595703125], [292.8721923828125, 567.37255859375], [55.94775390625, 567.37255859375]], bbox=[55.94775390625, 509.07110595703125, 292.8721923828125, 567.37255859375]), block_description='A paragraph or line of text.', block_type=<BlockTypes.Text: '23'>, block_id=5, page_id=1, text_extraction_method='pdftext', structure=[/page/1/Line/140, /page/1/Line/144, /page/1/Line/147, /page/1/Line/150, /page/1/Line/153], ignore_for_output=False, replace_output_newlines=False, source='layout', top_k={<BlockTypes.Text: '23'>: 1.0, <BlockTypes.TextInlineMath: '16'>: 1.1324882507324219e-05, <BlockTypes.SectionHeader: '21'>: 4.172325134277344e-07, <BlockTypes.Figure: '11'>: 5.960464477539063e-08, <BlockTypes.Form: '13'>: 5.960464477539063e-08}, metadata=None, lowres_image=None, highres_image=None, removed=False, has_continuation=False, blockquote=False, blockquote_level=0, html=None),\n",
            " Text(polygon=PolygonBox(polygon=[[56.166015625, 569.1051177978516], [292.8719482421875, 569.1051177978516], [292.8719482421875, 722.9098663330078], [56.166015625, 722.9098663330078]], bbox=[56.166015625, 569.1051177978516, 292.8719482421875, 722.9098663330078]), block_description='A paragraph or line of text.', block_type=<BlockTypes.Text: '23'>, block_id=6, page_id=1, text_extraction_method='pdftext', structure=[/page/1/Line/159, /page/1/Line/164, /page/1/Line/167, /page/1/Line/171, /page/1/Line/178, /page/1/Line/181, /page/1/Line/183, /page/1/Line/187, /page/1/Line/193, /page/1/Line/196, /page/1/Line/202, /page/1/Line/209, /page/1/Line/212], ignore_for_output=False, replace_output_newlines=False, source='layout', top_k={<BlockTypes.Text: '23'>: 1.0, <BlockTypes.TextInlineMath: '16'>: 5.364418029785156e-07, <BlockTypes.SectionHeader: '21'>: 5.960464477539063e-08, <BlockTypes.PageFooter: '18'>: 0.0, <BlockTypes.Table: '22'>: 0.0}, metadata=None, lowres_image=None, highres_image=None, removed=False, has_continuation=False, blockquote=False, blockquote_level=0, html=None),\n",
            " Text(polygon=PolygonBox(polygon=[[304.40234375, 88.5433349609375], [541.2890625, 88.5433349609375], [541.2890625, 218.390625], [304.40234375, 218.390625]], bbox=[304.40234375, 88.5433349609375, 541.2890625, 218.390625]), block_description='A paragraph or line of text.', block_type=<BlockTypes.Text: '23'>, block_id=8, page_id=1, text_extraction_method='pdftext', structure=[/page/1/Line/219, /page/1/Line/222, /page/1/Line/224, /page/1/Line/227, /page/1/Line/230, /page/1/Line/233, /page/1/Line/237, /page/1/Line/240, /page/1/Line/244, /page/1/Line/247, /page/1/Line/250, /page/1/Line/252, /page/1/Line/255], ignore_for_output=False, replace_output_newlines=False, source='layout', top_k={<BlockTypes.Text: '23'>: 1.0, <BlockTypes.TextInlineMath: '16'>: 1.7881393432617188e-07, <BlockTypes.Picture: '20'>: 0.0, <BlockTypes.Figure: '11'>: 0.0, <BlockTypes.PageFooter: '18'>: 0.0}, metadata=None, lowres_image=None, highres_image=None, removed=False, has_continuation=False, blockquote=False, blockquote_level=0, html=None),\n",
            " Text(polygon=PolygonBox(polygon=[[304.693359375, 220.5859375], [540.998046875, 220.5859375], [540.998046875, 434.39862060546875], [304.693359375, 434.39862060546875]], bbox=[304.693359375, 220.5859375, 540.998046875, 434.39862060546875]), block_description='A paragraph or line of text.', block_type=<BlockTypes.Text: '23'>, block_id=9, page_id=1, text_extraction_method='pdftext', structure=[/page/1/Line/258, /page/1/Line/261, /page/1/Line/266, /page/1/Line/269, /page/1/Line/272, /page/1/Line/277, /page/1/Line/280, /page/1/Line/282, /page/1/Line/285, /page/1/Line/287, /page/1/Line/290, /page/1/Line/295, /page/1/Line/298, /page/1/Line/301, /page/1/Line/310, /page/1/Line/313, /page/1/Line/315, /page/1/Line/317], ignore_for_output=False, replace_output_newlines=False, source='layout', top_k={<BlockTypes.Text: '23'>: 1.0, <BlockTypes.TextInlineMath: '16'>: 7.748603820800781e-07, <BlockTypes.Picture: '20'>: 0.0, <BlockTypes.Figure: '11'>: 0.0, <BlockTypes.PageFooter: '18'>: 0.0}, metadata=None, lowres_image=None, highres_image=None, removed=False, has_continuation=False, blockquote=False, blockquote_level=0, html=None),\n",
            " Text(polygon=PolygonBox(polygon=[[304.72442626953125, 472.5986328125], [541.2890625, 472.5986328125], [541.2890625, 578.3731079101562], [304.72442626953125, 578.3731079101562]], bbox=[304.72442626953125, 472.5986328125, 541.2890625, 578.3731079101562]), block_description='A paragraph or line of text.', block_type=<BlockTypes.Text: '23'>, block_id=12, page_id=1, text_extraction_method='pdftext', structure=[/page/1/Line/326, /page/1/Line/329, /page/1/Line/332, /page/1/Line/337, /page/1/Line/340, /page/1/Line/343, /page/1/Line/346, /page/1/Line/349, /page/1/Line/352], ignore_for_output=False, replace_output_newlines=False, source='layout', top_k={<BlockTypes.Text: '23'>: 1.0, <BlockTypes.SectionHeader: '21'>: 1.1920928955078125e-07, <BlockTypes.TextInlineMath: '16'>: 1.1920928955078125e-07, <BlockTypes.ListItem: '17'>: 5.960464477539063e-08, <BlockTypes.Table: '22'>: 0.0}, metadata=None, lowres_image=None, highres_image=None, removed=False, has_continuation=False, blockquote=False, blockquote_level=0, html=None),\n",
            " Text(polygon=PolygonBox(polygon=[[304.7243957519531, 580.5684051513672], [541.87109375, 580.5684051513672], [541.87109375, 722.3973083496094], [304.7243957519531, 722.3973083496094]], bbox=[304.7243957519531, 580.5684051513672, 541.87109375, 722.3973083496094]), block_description='A paragraph or line of text.', block_type=<BlockTypes.Text: '23'>, block_id=13, page_id=1, text_extraction_method='pdftext', structure=[/page/1/Line/355, /page/1/Line/358, /page/1/Line/361, /page/1/Line/364, /page/1/Line/367, /page/1/Line/370, /page/1/Line/373, /page/1/Line/377, /page/1/Line/379, /page/1/Line/382, /page/1/Line/386, /page/1/Line/389], ignore_for_output=False, replace_output_newlines=False, source='layout', top_k={<BlockTypes.Text: '23'>: 1.0, <BlockTypes.TextInlineMath: '16'>: 1.1920928955078125e-07, <BlockTypes.Picture: '20'>: 0.0, <BlockTypes.Figure: '11'>: 0.0, <BlockTypes.PageFooter: '18'>: 0.0}, metadata=None, lowres_image=None, highres_image=None, removed=False, has_continuation=False, blockquote=False, blockquote_level=0, html=None),\n",
            " Text(polygon=PolygonBox(polygon=[[55.875, 88.5977783203125], [293.634765625, 88.5977783203125], [293.634765625, 134.38287353515625], [55.875, 134.38287353515625]], bbox=[55.875, 88.5977783203125, 293.634765625, 134.38287353515625]), block_description='A paragraph or line of text.', block_type=<BlockTypes.Text: '23'>, block_id=1, page_id=2, text_extraction_method='pdftext', structure=[/page/2/Line/32, /page/2/Line/35, /page/2/Line/38, /page/2/Line/41], ignore_for_output=False, replace_output_newlines=False, source='layout', top_k={<BlockTypes.Text: '23'>: 0.87158203125, <BlockTypes.PageHeader: '19'>: 0.1285400390625, <BlockTypes.TextInlineMath: '16'>: 2.193450927734375e-05, <BlockTypes.SectionHeader: '21'>: 1.4901161193847656e-06, <BlockTypes.Picture: '20'>: 5.364418029785156e-07}, metadata=None, lowres_image=None, highres_image=None, removed=False, has_continuation=False, blockquote=False, blockquote_level=0, html=None),\n",
            " Text(polygon=PolygonBox(polygon=[[55.875, 172.5484619140625], [292.8790588378906, 172.5484619140625], [292.8790588378906, 230.39215087890625], [55.875, 230.39215087890625]], bbox=[55.875, 172.5484619140625, 292.8790588378906, 230.39215087890625]), block_description='A paragraph or line of text.', block_type=<BlockTypes.Text: '23'>, block_id=4, page_id=2, text_extraction_method='pdftext', structure=[/page/2/Line/50, /page/2/Line/52, /page/2/Line/55, /page/2/Line/58, /page/2/Line/62, /page/2/Line/65], ignore_for_output=False, replace_output_newlines=False, source='layout', top_k={<BlockTypes.Text: '23'>: 0.9990234375, <BlockTypes.TextInlineMath: '16'>: 0.0010652542114257812, <BlockTypes.PageHeader: '19'>: 1.3470649719238281e-05, <BlockTypes.Code: '10'>: 9.5367431640625e-07, <BlockTypes.Form: '13'>: 5.960464477539062e-07}, metadata=None, lowres_image=None, highres_image=None, removed=False, has_continuation=False, blockquote=False, blockquote_level=0, html=None),\n",
            " Text(polygon=PolygonBox(polygon=[[55.80224609375, 256.59686279296875], [292.8818054199219, 256.59686279296875], [292.8818054199219, 326.3918151855469], [55.80224609375, 326.3918151855469]], bbox=[55.80224609375, 256.59686279296875, 292.8818054199219, 326.3918151855469]), block_description='A paragraph or line of text.', block_type=<BlockTypes.Text: '23'>, block_id=6, page_id=2, text_extraction_method='pdftext', structure=[/page/2/Line/73, /page/2/Line/76, /page/2/Line/79, /page/2/Line/82, /page/2/Line/85, /page/2/Line/89, /page/2/Line/92], ignore_for_output=False, replace_output_newlines=False, source='layout', top_k={<BlockTypes.Text: '23'>: 1.0, <BlockTypes.TextInlineMath: '16'>: 1.0728836059570312e-06, <BlockTypes.SectionHeader: '21'>: 2.384185791015625e-07, <BlockTypes.Form: '13'>: 1.1920928955078125e-07, <BlockTypes.PageFooter: '18'>: 0.0}, metadata=None, lowres_image=None, highres_image=None, removed=False, has_continuation=False, blockquote=False, blockquote_level=0, html=None),\n",
            " Text(polygon=PolygonBox(polygon=[[55.875, 352.596923828125], [292.8706970214844, 352.596923828125], [292.8706970214844, 410.3918151855469], [55.875, 410.3918151855469]], bbox=[55.875, 352.596923828125, 292.8706970214844, 410.3918151855469]), block_description='A paragraph or line of text.', block_type=<BlockTypes.Text: '23'>, block_id=8, page_id=2, text_extraction_method='pdftext', structure=[/page/2/Line/100, /page/2/Line/103, /page/2/Line/105, /page/2/Line/108, /page/2/Line/112, /page/2/Line/115], ignore_for_output=False, replace_output_newlines=False, source='layout', top_k={<BlockTypes.Text: '23'>: 1.0, <BlockTypes.TextInlineMath: '16'>: 6.681680679321289e-05, <BlockTypes.SectionHeader: '21'>: 1.7881393432617188e-06, <BlockTypes.Form: '13'>: 1.6689300537109375e-06, <BlockTypes.Code: '10'>: 1.1324882507324219e-06}, metadata=None, lowres_image=None, highres_image=None, removed=False, has_continuation=False, blockquote=False, blockquote_level=0, html=None),\n",
            " Text(polygon=PolygonBox(polygon=[[55.875, 436.596923828125], [292.8798522949219, 436.596923828125], [292.8798522949219, 494.3918151855469], [55.875, 494.3918151855469]], bbox=[55.875, 436.596923828125, 292.8798522949219, 494.3918151855469]), block_description='A paragraph or line of text.', block_type=<BlockTypes.Text: '23'>, block_id=10, page_id=2, text_extraction_method='pdftext', structure=[/page/2/Line/123, /page/2/Line/126, /page/2/Line/129, /page/2/Line/132, /page/2/Line/136, /page/2/Line/139], ignore_for_output=False, replace_output_newlines=False, source='layout', top_k={<BlockTypes.Text: '23'>: 1.0, <BlockTypes.SectionHeader: '21'>: 4.76837158203125e-06, <BlockTypes.TextInlineMath: '16'>: 1.2516975402832031e-06, <BlockTypes.Code: '10'>: 5.960464477539063e-08, <BlockTypes.Figure: '11'>: 5.960464477539063e-08}, metadata=None, lowres_image=None, highres_image=None, removed=False, has_continuation=False, blockquote=False, blockquote_level=0, html=None),\n",
            " Text(polygon=PolygonBox(polygon=[[55.94775390625, 520.596923828125], [292.8815612792969, 520.596923828125], [292.8815612792969, 578.3978118896484], [55.94775390625, 578.3978118896484]], bbox=[55.94775390625, 520.596923828125, 292.8815612792969, 578.3978118896484]), block_description='A paragraph or line of text.', block_type=<BlockTypes.Text: '23'>, block_id=12, page_id=2, text_extraction_method='pdftext', structure=[/page/2/Line/147, /page/2/Line/150, /page/2/Line/153, /page/2/Line/156, /page/2/Line/160, /page/2/Line/162], ignore_for_output=False, replace_output_newlines=False, source='layout', top_k={<BlockTypes.Text: '23'>: 1.0, <BlockTypes.TextInlineMath: '16'>: 1.0132789611816406e-06, <BlockTypes.SectionHeader: '21'>: 2.980232238769531e-07, <BlockTypes.Form: '13'>: 5.960464477539063e-08, <BlockTypes.ListItem: '17'>: 5.960464477539063e-08}, metadata=None, lowres_image=None, highres_image=None, removed=False, has_continuation=False, blockquote=False, blockquote_level=0, html=None),\n",
            " Text(polygon=PolygonBox(polygon=[[55.80224609375, 604.5978088378906], [292.8699645996094, 604.5978088378906], [292.8699645996094, 650.3922729492188], [55.80224609375, 650.3922729492188]], bbox=[55.80224609375, 604.5978088378906, 292.8699645996094, 650.3922729492188]), block_description='A paragraph or line of text.', block_type=<BlockTypes.Text: '23'>, block_id=14, page_id=2, text_extraction_method='pdftext', structure=[/page/2/Line/170, /page/2/Line/173, /page/2/Line/176, /page/2/Line/180, /page/2/Line/183], ignore_for_output=False, replace_output_newlines=False, source='layout', top_k={<BlockTypes.Text: '23'>: 1.0, <BlockTypes.TextInlineMath: '16'>: 3.337860107421875e-06, <BlockTypes.SectionHeader: '21'>: 1.6689300537109375e-06, <BlockTypes.Form: '13'>: 5.960464477539063e-08, <BlockTypes.Code: '10'>: 5.960464477539063e-08}, metadata=None, lowres_image=None, highres_image=None, removed=False, has_continuation=False, blockquote=False, blockquote_level=0, html=None),\n",
            " Text(polygon=PolygonBox(polygon=[[55.875, 676.5969085693359], [292.8791809082031, 676.5969085693359], [292.8791809082031, 722.3867111206055], [55.875, 722.3867111206055]], bbox=[55.875, 676.5969085693359, 292.8791809082031, 722.3867111206055]), block_description='A paragraph or line of text.', block_type=<BlockTypes.Text: '23'>, block_id=16, page_id=2, text_extraction_method='pdftext', structure=[/page/2/Line/191, /page/2/Line/193, /page/2/Line/196, /page/2/Line/199], ignore_for_output=False, replace_output_newlines=False, source='layout', top_k={<BlockTypes.Text: '23'>: 1.0, <BlockTypes.TextInlineMath: '16'>: 1.7940998077392578e-05, <BlockTypes.SectionHeader: '21'>: 3.159046173095703e-06, <BlockTypes.Footnote: '12'>: 1.1920928955078125e-07, <BlockTypes.Code: '10'>: 5.960464477539063e-08}, metadata=None, lowres_image=None, highres_image=None, removed=False, has_continuation=True, blockquote=False, blockquote_level=0, html=None),\n",
            " Text(polygon=PolygonBox(polygon=[[303.8203125, 86.8734130859375], [540.910888671875, 86.8734130859375], [540.910888671875, 110.4619140625], [303.8203125, 110.4619140625]], bbox=[303.8203125, 86.8734130859375, 540.910888671875, 110.4619140625]), block_description='A paragraph or line of text.', block_type=<BlockTypes.Text: '23'>, block_id=18, page_id=2, text_extraction_method='pdftext', structure=[/page/2/Line/202, /page/2/Line/206, /page/2/Line/209], ignore_for_output=False, replace_output_newlines=False, source='layout', top_k={<BlockTypes.Text: '23'>: 1.0, <BlockTypes.TextInlineMath: '16'>: 6.616115570068359e-06, <BlockTypes.SectionHeader: '21'>: 4.76837158203125e-07, <BlockTypes.PageHeader: '19'>: 5.960464477539063e-08, <BlockTypes.Table: '22'>: 0.0}, metadata=None, lowres_image=None, highres_image=None, removed=False, has_continuation=False, blockquote=False, blockquote_level=0, html=None),\n",
            " Text(polygon=PolygonBox(polygon=[[304.7239990234375, 136.59686279296875], [541.580078125, 136.59686279296875], [541.580078125, 266.3463134765625], [304.7239990234375, 266.3463134765625]], bbox=[304.7239990234375, 136.59686279296875, 541.580078125, 266.3463134765625]), block_description='A paragraph or line of text.', block_type=<BlockTypes.Text: '23'>, block_id=20, page_id=2, text_extraction_method='pdftext', structure=[/page/2/Line/217, /page/2/Line/220, /page/2/Line/223, /page/2/Line/226, /page/2/Line/229, /page/2/Line/233, /page/2/Line/236, /page/2/Line/239, /page/2/Line/242, /page/2/Line/245, /page/2/Line/247], ignore_for_output=False, replace_output_newlines=False, source='layout', top_k={<BlockTypes.Text: '23'>: 1.0, <BlockTypes.TextInlineMath: '16'>: 2.4437904357910156e-06, <BlockTypes.PageHeader: '19'>: 5.960464477539063e-08, <BlockTypes.Picture: '20'>: 0.0, <BlockTypes.Figure: '11'>: 0.0}, metadata=None, lowres_image=None, highres_image=None, removed=False, has_continuation=False, blockquote=False, blockquote_level=0, html=None),\n",
            " Text(polygon=PolygonBox(polygon=[[304.40234375, 292.5947570800781], [540.8837890625, 292.5947570800781], [540.8837890625, 350.3918151855469], [304.40234375, 350.3918151855469]], bbox=[304.40234375, 292.5947570800781, 540.8837890625, 350.3918151855469]), block_description='A paragraph or line of text.', block_type=<BlockTypes.Text: '23'>, block_id=22, page_id=2, text_extraction_method='pdftext', structure=[/page/2/Line/253, /page/2/Line/255, /page/2/Line/258, /page/2/Line/262, /page/2/Line/267], ignore_for_output=False, replace_output_newlines=False, source='layout', top_k={<BlockTypes.Text: '23'>: 1.0, <BlockTypes.TextInlineMath: '16'>: 7.152557373046875e-07, <BlockTypes.Picture: '20'>: 0.0, <BlockTypes.Figure: '11'>: 0.0, <BlockTypes.PageFooter: '18'>: 0.0}, metadata=None, lowres_image=None, highres_image=None, removed=False, has_continuation=False, blockquote=False, blockquote_level=0, html=None),\n",
            " Text(polygon=PolygonBox(polygon=[[304.40234375, 352.5871276855469], [538.9609375, 352.5871276855469], [538.9609375, 386.3974609375], [304.40234375, 386.3974609375]], bbox=[304.40234375, 352.5871276855469, 538.9609375, 386.3974609375]), block_description='A paragraph or line of text.', block_type=<BlockTypes.Text: '23'>, block_id=23, page_id=2, text_extraction_method='pdftext', structure=[/page/2/Line/272, /page/2/Line/274, /page/2/Line/276], ignore_for_output=False, replace_output_newlines=False, source='layout', top_k={<BlockTypes.Text: '23'>: 1.0, <BlockTypes.TextInlineMath: '16'>: 4.112720489501953e-06, <BlockTypes.SectionHeader: '21'>: 5.960464477539063e-08, <BlockTypes.Form: '13'>: 5.960464477539063e-08, <BlockTypes.PageFooter: '18'>: 0.0}, metadata=None, lowres_image=None, highres_image=None, removed=False, has_continuation=False, blockquote=False, blockquote_level=0, html=None),\n",
            " Text(polygon=PolygonBox(polygon=[[304.7240295410156, 388.591796875], [540.9102783203125, 388.591796875], [540.9102783203125, 506.38671875], [304.7240295410156, 506.38671875]], bbox=[304.7240295410156, 388.591796875, 540.9102783203125, 506.38671875]), block_description='A paragraph or line of text.', block_type=<BlockTypes.Text: '23'>, block_id=24, page_id=2, text_extraction_method='pdftext', structure=[/page/2/Line/285, /page/2/Line/287, /page/2/Line/290, /page/2/Line/293, /page/2/Line/296, /page/2/Line/299, /page/2/Line/304, /page/2/Line/307, /page/2/Line/310, /page/2/Line/313], ignore_for_output=False, replace_output_newlines=False, source='layout', top_k={<BlockTypes.Text: '23'>: 1.0, <BlockTypes.TextInlineMath: '16'>: 4.13060188293457e-05, <BlockTypes.Caption: '9'>: 5.960464477539063e-08, <BlockTypes.Picture: '20'>: 0.0, <BlockTypes.Table: '22'>: 0.0}, metadata=None, lowres_image=None, highres_image=None, removed=False, has_continuation=False, blockquote=False, blockquote_level=0, html=None),\n",
            " Text(polygon=PolygonBox(polygon=[[304.72296142578125, 532.2255859375], [540.917724609375, 532.2255859375], [540.917724609375, 722.3802795410156], [304.72296142578125, 722.3802795410156]], bbox=[304.72296142578125, 532.2255859375, 540.917724609375, 722.3802795410156]), block_description='A paragraph or line of text.', block_type=<BlockTypes.Text: '23'>, block_id=26, page_id=2, text_extraction_method='pdftext', structure=[/page/2/Line/319, /page/2/Line/321, /page/2/Line/324, /page/2/Line/327, /page/2/Line/333, /page/2/Line/336, /page/2/Line/341, /page/2/Line/348, /page/2/Line/351, /page/2/Line/354, /page/2/Line/357, /page/2/Line/362, /page/2/Line/367, /page/2/Line/370, /page/2/Line/375, /page/2/Line/378], ignore_for_output=False, replace_output_newlines=False, source='layout', top_k={<BlockTypes.Text: '23'>: 0.75634765625, <BlockTypes.TextInlineMath: '16'>: 0.24365234375, <BlockTypes.ListItem: '17'>: 6.616115570068359e-06, <BlockTypes.Form: '13'>: 1.3113021850585938e-06, <BlockTypes.Table: '22'>: 8.344650268554688e-07}, metadata=None, lowres_image=None, highres_image=None, removed=False, has_continuation=False, blockquote=False, blockquote_level=0, html=None),\n",
            " Text(polygon=PolygonBox(polygon=[[55.7294921875, 100.29461669921875], [292.8707580566406, 100.29461669921875], [292.8707580566406, 158.08514404296875], [55.7294921875, 158.08514404296875]], bbox=[55.7294921875, 100.29461669921875, 292.8707580566406, 158.08514404296875]), block_description='A paragraph or line of text.', block_type=<BlockTypes.Text: '23'>, block_id=2, page_id=3, text_extraction_method='pdftext', structure=[/page/3/Line/31, /page/3/Line/34, /page/3/Line/36, /page/3/Line/39, /page/3/Line/42], ignore_for_output=False, replace_output_newlines=False, source='layout', top_k={<BlockTypes.Text: '23'>: 1.0, <BlockTypes.PageHeader: '19'>: 8.106231689453125e-06, <BlockTypes.TextInlineMath: '16'>: 2.205371856689453e-06, <BlockTypes.SectionHeader: '21'>: 1.9073486328125e-06, <BlockTypes.Code: '10'>: 5.960464477539063e-08}, metadata=None, lowres_image=None, highres_image=None, removed=False, has_continuation=False, blockquote=False, blockquote_level=0, html=None),\n",
            " Text(polygon=PolygonBox(polygon=[[56.09326171875, 160.28009033203125], [292.8910217285156, 160.28009033203125], [292.8910217285156, 398.20361328125], [56.09326171875, 398.20361328125]], bbox=[56.09326171875, 160.28009033203125, 292.8910217285156, 398.20361328125]), block_description='A paragraph or line of text.', block_type=<BlockTypes.Text: '23'>, block_id=3, page_id=3, text_extraction_method='pdftext', structure=[/page/3/Line/45, /page/3/Line/48, /page/3/Line/51, /page/3/Line/54, /page/3/Line/59, /page/3/Line/62, /page/3/Line/64, /page/3/Line/67, /page/3/Line/72, /page/3/Line/75, /page/3/Line/77, /page/3/Line/80, /page/3/Line/83, /page/3/Line/86, /page/3/Line/89, /page/3/Line/92, /page/3/Line/95, /page/3/Line/97, /page/3/Line/100, /page/3/Line/103], ignore_for_output=False, replace_output_newlines=False, source='layout', top_k={<BlockTypes.Text: '23'>: 1.0, <BlockTypes.TextInlineMath: '16'>: 1.8477439880371094e-06, <BlockTypes.Figure: '11'>: 5.960464477539063e-08, <BlockTypes.SectionHeader: '21'>: 5.960464477539063e-08, <BlockTypes.PageHeader: '19'>: 5.960464477539063e-08}, metadata=None, lowres_image=None, highres_image=None, removed=False, has_continuation=False, blockquote=False, blockquote_level=0, html=None),\n",
            " Text(polygon=PolygonBox(polygon=[[55.94775390625, 424.2955627441406], [292.8882141113281, 424.2955627441406], [292.8882141113281, 566.0626525878906], [55.94775390625, 566.0626525878906]], bbox=[55.94775390625, 424.2955627441406, 292.8882141113281, 566.0626525878906]), block_description='A paragraph or line of text.', block_type=<BlockTypes.Text: '23'>, block_id=5, page_id=3, text_extraction_method='pdftext', structure=[/page/3/Line/113, /page/3/Line/116, /page/3/Line/118, /page/3/Line/121, /page/3/Line/123, /page/3/Line/126, /page/3/Line/129, /page/3/Line/132, /page/3/Line/135, /page/3/Line/137, /page/3/Line/140, /page/3/Line/144], ignore_for_output=False, replace_output_newlines=False, source='layout', top_k={<BlockTypes.Text: '23'>: 1.0, <BlockTypes.TextInlineMath: '16'>: 2.384185791015625e-07, <BlockTypes.SectionHeader: '21'>: 1.7881393432617188e-07, <BlockTypes.Form: '13'>: 5.960464477539063e-08, <BlockTypes.PageFooter: '18'>: 0.0}, metadata=None, lowres_image=None, highres_image=None, removed=False, has_continuation=False, blockquote=False, blockquote_level=0, html=None),\n",
            " Text(polygon=PolygonBox(polygon=[[56.23876953125, 568.2579498291016], [292.8731994628906, 568.2579498291016], [292.8731994628906, 590.54638671875], [56.23876953125, 590.54638671875]], bbox=[56.23876953125, 568.2579498291016, 292.8731994628906, 590.54638671875]), block_description='A paragraph or line of text.', block_type=<BlockTypes.Text: '23'>, block_id=6, page_id=3, text_extraction_method='pdftext', structure=[/page/3/Line/147, /page/3/Line/150], ignore_for_output=False, replace_output_newlines=False, source='layout', top_k={<BlockTypes.Text: '23'>: 1.0, <BlockTypes.TextInlineMath: '16'>: 7.152557373046875e-07, <BlockTypes.SectionHeader: '21'>: 2.980232238769531e-07, <BlockTypes.PageHeader: '19'>: 1.1920928955078125e-07, <BlockTypes.ListItem: '17'>: 1.1920928955078125e-07}, metadata=None, lowres_image=None, highres_image=None, removed=False, has_continuation=False, blockquote=False, blockquote_level=0, html=None),\n",
            " Text(polygon=PolygonBox(polygon=[[56.166015625, 640.2387237548828], [292.8831787109375, 640.2387237548828], [292.8831787109375, 722.0105285644531], [56.166015625, 722.0105285644531]], bbox=[56.166015625, 640.2387237548828, 292.8831787109375, 722.0105285644531]), block_description='A paragraph or line of text.', block_type=<BlockTypes.Text: '23'>, block_id=9, page_id=3, text_extraction_method='pdftext', structure=[/page/3/Line/163, /page/3/Line/166, /page/3/Line/169, /page/3/Line/172, /page/3/Line/175, /page/3/Line/178, /page/3/Line/181], ignore_for_output=False, replace_output_newlines=False, source='layout', top_k={<BlockTypes.Text: '23'>: 1.0, <BlockTypes.TextInlineMath: '16'>: 4.172325134277344e-07, <BlockTypes.SectionHeader: '21'>: 1.1920928955078125e-07, <BlockTypes.PageFooter: '18'>: 0.0, <BlockTypes.Table: '22'>: 0.0}, metadata=None, lowres_image=None, highres_image=None, removed=False, has_continuation=False, blockquote=False, blockquote_level=0, html=None),\n",
            " Text(polygon=PolygonBox(polygon=[[304.111328125, 112.972412109375], [540.8941650390625, 112.972412109375], [540.8941650390625, 230.91455078125], [304.111328125, 230.91455078125]], bbox=[304.111328125, 112.972412109375, 540.8941650390625, 230.91455078125]), block_description='A paragraph or line of text.', block_type=<BlockTypes.Text: '23'>, block_id=13, page_id=3, text_extraction_method='pdftext', structure=[/page/3/Line/213, /page/3/Line/216, /page/3/Line/220, /page/3/Line/223, /page/3/Line/225, /page/3/Line/230, /page/3/Line/233, /page/3/Line/238, /page/3/Line/242, /page/3/Line/247], ignore_for_output=False, replace_output_newlines=False, source='layout', top_k={<BlockTypes.Text: '23'>: 1.0, <BlockTypes.TextInlineMath: '16'>: 8.511543273925781e-05, <BlockTypes.PageHeader: '19'>: 1.2516975402832031e-06, <BlockTypes.Form: '13'>: 1.7881393432617188e-07, <BlockTypes.Caption: '9'>: 5.960464477539063e-08}, metadata=None, lowres_image=None, highres_image=None, removed=False, has_continuation=False, blockquote=False, blockquote_level=0, html=None),\n",
            " Text(polygon=PolygonBox(polygon=[[304.111328125, 257.11883544921875], [540.89208984375, 257.11883544921875], [540.89208984375, 338.919189453125], [304.111328125, 338.919189453125]], bbox=[304.111328125, 257.11883544921875, 540.89208984375, 338.919189453125]), block_description='A paragraph or line of text.', block_type=<BlockTypes.Text: '23'>, block_id=15, page_id=3, text_extraction_method='pdftext', structure=[/page/3/Line/253, /page/3/Line/258, /page/3/Line/261, /page/3/Line/264, /page/3/Line/267, /page/3/Line/272, /page/3/Line/274], ignore_for_output=False, replace_output_newlines=False, source='layout', top_k={<BlockTypes.Text: '23'>: 1.0, <BlockTypes.TextInlineMath: '16'>: 2.3424625396728516e-05, <BlockTypes.SectionHeader: '21'>: 2.384185791015625e-07, <BlockTypes.Form: '13'>: 1.1920928955078125e-07, <BlockTypes.PageHeader: '19'>: 5.960464477539063e-08}, metadata=None, lowres_image=None, highres_image=None, removed=False, has_continuation=False, blockquote=False, blockquote_level=0, html=None),\n",
            " Text(polygon=PolygonBox(polygon=[[304.7240905761719, 341.04150390625], [540.9009399414062, 341.04150390625], [540.9009399414062, 398.9050598144531], [304.7240905761719, 398.9050598144531]], bbox=[304.7240905761719, 341.04150390625, 540.9009399414062, 398.9050598144531]), block_description='A paragraph or line of text.', block_type=<BlockTypes.Text: '23'>, block_id=16, page_id=3, text_extraction_method='pdftext', structure=[/page/3/Line/277, /page/3/Line/279, /page/3/Line/281, /page/3/Line/284, /page/3/Line/287], ignore_for_output=False, replace_output_newlines=False, source='layout', top_k={<BlockTypes.Text: '23'>: 1.0, <BlockTypes.TextInlineMath: '16'>: 1.3113021850585938e-06, <BlockTypes.Form: '13'>: 5.960464477539062e-07, <BlockTypes.SectionHeader: '21'>: 2.384185791015625e-07, <BlockTypes.ListItem: '17'>: 5.960464477539063e-08}, metadata=None, lowres_image=None, highres_image=None, removed=False, has_continuation=False, blockquote=False, blockquote_level=0, html=None),\n",
            " Text(polygon=PolygonBox(polygon=[[304.40234375, 400.52099609375], [540.9031982421875, 400.52099609375], [540.9031982421875, 458.9188232421875], [304.40234375, 458.9188232421875]], bbox=[304.40234375, 400.52099609375, 540.9031982421875, 458.9188232421875]), block_description='A paragraph or line of text.', block_type=<BlockTypes.Text: '23'>, block_id=17, page_id=3, text_extraction_method='pdftext', structure=[/page/3/Line/292, /page/3/Line/295, /page/3/Line/298, /page/3/Line/301, /page/3/Line/303], ignore_for_output=False, replace_output_newlines=False, source='layout', top_k={<BlockTypes.Text: '23'>: 1.0, <BlockTypes.TextInlineMath: '16'>: 7.987022399902344e-06, <BlockTypes.SectionHeader: '21'>: 1.1920928955078125e-07, <BlockTypes.Caption: '9'>: 5.960464477539063e-08, <BlockTypes.Form: '13'>: 5.960464477539063e-08}, metadata=None, lowres_image=None, highres_image=None, removed=False, has_continuation=False, blockquote=False, blockquote_level=0, html=None),\n",
            " Text(polygon=PolygonBox(polygon=[[304.7239990234375, 461.1141357421875], [540.921142578125, 461.1141357421875], [540.921142578125, 554.8819274902344], [304.7239990234375, 554.8819274902344]], bbox=[304.7239990234375, 461.1141357421875, 540.921142578125, 554.8819274902344]), block_description='A paragraph or line of text.', block_type=<BlockTypes.Text: '23'>, block_id=18, page_id=3, text_extraction_method='pdftext', structure=[/page/3/Line/308, /page/3/Line/313, /page/3/Line/316, /page/3/Line/319, /page/3/Line/322, /page/3/Line/325, /page/3/Line/328, /page/3/Line/330], ignore_for_output=False, replace_output_newlines=False, source='layout', top_k={<BlockTypes.Text: '23'>: 1.0, <BlockTypes.TextInlineMath: '16'>: 4.708766937255859e-06, <BlockTypes.Picture: '20'>: 0.0, <BlockTypes.Figure: '11'>: 0.0, <BlockTypes.PageFooter: '18'>: 0.0}, metadata=None, lowres_image=None, highres_image=None, removed=False, has_continuation=False, blockquote=False, blockquote_level=0, html=None),\n",
            " Text(polygon=PolygonBox(polygon=[[304.7235107421875, 579.73193359375], [540.898681640625, 579.73193359375], [540.898681640625, 650.9003143310547], [304.7235107421875, 650.9003143310547]], bbox=[304.7235107421875, 579.73193359375, 540.898681640625, 650.9003143310547]), block_description='A paragraph or line of text.', block_type=<BlockTypes.Text: '23'>, block_id=20, page_id=3, text_extraction_method='pdftext', structure=[/page/3/Line/340, /page/3/Line/342, /page/3/Line/345, /page/3/Line/350, /page/3/Line/353, /page/3/Line/356], ignore_for_output=False, replace_output_newlines=False, source='layout', top_k={<BlockTypes.Text: '23'>: 1.0, <BlockTypes.TextInlineMath: '16'>: 5.960464477539063e-08, <BlockTypes.Form: '13'>: 5.960464477539063e-08, <BlockTypes.Picture: '20'>: 0.0, <BlockTypes.PageFooter: '18'>: 0.0}, metadata=None, lowres_image=None, highres_image=None, removed=False, has_continuation=False, blockquote=False, blockquote_level=0, html=None),\n",
            " Text(polygon=PolygonBox(polygon=[[304.693359375, 689.1194152832031], [540.9015502929688, 689.1194152832031], [540.9015502929688, 722.9194030761719], [304.693359375, 722.9194030761719]], bbox=[304.693359375, 689.1194152832031, 540.9015502929688, 722.9194030761719]), block_description='A paragraph or line of text.', block_type=<BlockTypes.Text: '23'>, block_id=22, page_id=3, text_extraction_method='pdftext', structure=[/page/3/Line/367, /page/3/Line/372, /page/3/Line/376], ignore_for_output=False, replace_output_newlines=False, source='layout', top_k={<BlockTypes.Text: '23'>: 1.0, <BlockTypes.TextInlineMath: '16'>: 5.364418029785156e-07, <BlockTypes.Form: '13'>: 5.960464477539063e-08, <BlockTypes.Picture: '20'>: 0.0, <BlockTypes.PageFooter: '18'>: 0.0}, metadata=None, lowres_image=None, highres_image=None, removed=False, has_continuation=False, blockquote=False, blockquote_level=0, html=None),\n",
            " Text(polygon=PolygonBox(polygon=[[55.65673828125, 276.38653564453125], [272.97265625, 276.38653564453125], [272.97265625, 285.231201171875], [55.65673828125, 285.231201171875]], bbox=[55.65673828125, 276.38653564453125, 272.97265625, 285.231201171875]), block_description='A paragraph or line of text.', block_type=<BlockTypes.Text: '23'>, block_id=3, page_id=5, text_extraction_method='pdftext', structure=[/page/5/Line/149], ignore_for_output=False, replace_output_newlines=False, source='layout', top_k={<BlockTypes.Text: '23'>: 1.0, <BlockTypes.Caption: '9'>: 4.8160552978515625e-05, <BlockTypes.Figure: '11'>: 1.7881393432617188e-07, <BlockTypes.SectionHeader: '21'>: 1.1920928955078125e-07, <BlockTypes.TextInlineMath: '16'>: 1.1920928955078125e-07}, metadata=None, lowres_image=None, highres_image=None, removed=False, has_continuation=False, blockquote=False, blockquote_level=0, html=None),\n",
            " Text(polygon=PolygonBox(polygon=[[56.67529296875, 682.0830078125], [292.8719177246094, 682.0830078125], [292.8719177246094, 716.84375], [56.67529296875, 716.84375]], bbox=[56.67529296875, 682.0830078125, 292.8719177246094, 716.84375]), block_description='A paragraph or line of text.', block_type=<BlockTypes.Text: '23'>, block_id=6, page_id=5, text_extraction_method='pdftext', structure=[/page/5/Reference/595, /page/5/Line/21, /page/5/Line/25, /page/5/Line/28], ignore_for_output=False, replace_output_newlines=False, source='layout', top_k={<BlockTypes.Text: '23'>: 0.97119140625, <BlockTypes.SectionHeader: '21'>: 0.0287628173828125, <BlockTypes.Figure: '11'>: 8.940696716308594e-06, <BlockTypes.Caption: '9'>: 5.900859832763672e-06, <BlockTypes.PageHeader: '19'>: 2.9206275939941406e-06}, metadata=None, lowres_image=None, highres_image=None, removed=False, has_continuation=False, blockquote=False, blockquote_level=0, html=None),\n",
            " Text(polygon=PolygonBox(polygon=[[304.7239685058594, 331.578857421875], [541.87109375, 331.578857421875], [541.87109375, 415.34869384765625], [304.7239685058594, 415.34869384765625]], bbox=[304.7239685058594, 331.578857421875, 541.87109375, 415.34869384765625]), block_description='A paragraph or line of text.', block_type=<BlockTypes.Text: '23'>, block_id=8, page_id=5, text_extraction_method='pdftext', structure=[/page/5/Line/37, /page/5/Line/40, /page/5/Line/42, /page/5/Line/45, /page/5/Line/51, /page/5/Line/54, /page/5/Line/57], ignore_for_output=False, replace_output_newlines=False, source='layout', top_k={<BlockTypes.Text: '23'>: 1.0, <BlockTypes.TextInlineMath: '16'>: 1.0728836059570312e-06, <BlockTypes.SectionHeader: '21'>: 5.960464477539063e-08, <BlockTypes.PageFooter: '18'>: 0.0, <BlockTypes.Table: '22'>: 0.0}, metadata=None, lowres_image=None, highres_image=None, removed=False, has_continuation=False, blockquote=False, blockquote_level=0, html=None),\n",
            " Text(polygon=PolygonBox(polygon=[[303.8203125, 417.12890625], [541.2890625, 417.12890625], [541.2890625, 511.3570556640625], [303.8203125, 511.3570556640625]], bbox=[303.8203125, 417.12890625, 541.2890625, 511.3570556640625]), block_description='A paragraph or line of text.', block_type=<BlockTypes.Text: '23'>, block_id=9, page_id=5, text_extraction_method='pdftext', structure=[/page/5/Line/60, /page/5/Line/62, /page/5/Line/65, /page/5/Line/70, /page/5/Line/73, /page/5/Line/77, /page/5/Line/80, /page/5/Line/83], ignore_for_output=False, replace_output_newlines=False, source='layout', top_k={<BlockTypes.Text: '23'>: 0.990234375, <BlockTypes.TextInlineMath: '16'>: 0.00963592529296875, <BlockTypes.SectionHeader: '21'>: 1.1920928955078125e-07, <BlockTypes.Caption: '9'>: 1.1920928955078125e-07, <BlockTypes.PageHeader: '19'>: 0.0}, metadata=None, lowres_image=None, highres_image=None, removed=False, has_continuation=False, blockquote=False, blockquote_level=0, html=None),\n",
            " Text(polygon=PolygonBox(polygon=[[304.40234375, 549.2197265625], [540.9149169921875, 549.2197265625], [540.9149169921875, 619.3429718017578], [304.40234375, 619.3429718017578]], bbox=[304.40234375, 549.2197265625, 540.9149169921875, 619.3429718017578]), block_description='A paragraph or line of text.', block_type=<BlockTypes.Text: '23'>, block_id=11, page_id=5, text_extraction_method='pdftext', structure=[/page/5/Line/94, /page/5/Line/98, /page/5/Line/101, /page/5/Line/104, /page/5/Line/107, /page/5/Line/110], ignore_for_output=False, replace_output_newlines=False, source='layout', top_k={<BlockTypes.Text: '23'>: 1.0, <BlockTypes.TextInlineMath: '16'>: 8.344650268554688e-07, <BlockTypes.SectionHeader: '21'>: 1.1920928955078125e-07, <BlockTypes.Picture: '20'>: 5.960464477539063e-08, <BlockTypes.PageFooter: '18'>: 0.0}, metadata=None, lowres_image=None, highres_image=None, removed=False, has_continuation=False, blockquote=False, blockquote_level=0, html=None),\n",
            " Text(polygon=PolygonBox(polygon=[[302.947265625, 669.5671844482422], [540.998046875, 669.5671844482422], [540.998046875, 692.125], [302.947265625, 692.125]], bbox=[302.947265625, 669.5671844482422, 540.998046875, 692.125]), block_description='A paragraph or line of text.', block_type=<BlockTypes.Text: '23'>, block_id=13, page_id=5, text_extraction_method='pdftext', structure=[/page/5/Line/123, /page/5/Line/126], ignore_for_output=False, replace_output_newlines=False, source='layout', top_k={<BlockTypes.Text: '23'>: 1.0, <BlockTypes.TextInlineMath: '16'>: 1.2755393981933594e-05, <BlockTypes.SectionHeader: '21'>: 2.9802322387695312e-06, <BlockTypes.ListItem: '17'>: 7.152557373046875e-07, <BlockTypes.Picture: '20'>: 4.172325134277344e-07}, metadata=None, lowres_image=None, highres_image=None, removed=False, has_continuation=False, blockquote=False, blockquote_level=0, html=None),\n",
            " Text(polygon=PolygonBox(polygon=[[303.529296875, 692.8974609375], [541.580078125, 692.8974609375], [541.580078125, 727.3483123779297], [303.529296875, 727.3483123779297]], bbox=[303.529296875, 692.8974609375, 541.580078125, 727.3483123779297]), block_description='A paragraph or line of text.', block_type=<BlockTypes.Text: '23'>, block_id=14, page_id=5, text_extraction_method='pdftext', structure=[/page/5/Line/131, /page/5/Line/134, /page/5/Line/137], ignore_for_output=False, replace_output_newlines=False, source='layout', top_k={<BlockTypes.Text: '23'>: 1.0, <BlockTypes.TextInlineMath: '16'>: 3.159046173095703e-06, <BlockTypes.SectionHeader: '21'>: 4.76837158203125e-07, <BlockTypes.Picture: '20'>: 5.960464477539063e-08, <BlockTypes.Caption: '9'>: 5.960464477539063e-08}, metadata=None, lowres_image=None, highres_image=None, removed=False, has_continuation=False, blockquote=False, blockquote_level=0, html=None),\n",
            " Text(polygon=PolygonBox(polygon=[[55.7294921875, 367.93853759765625], [264.9697265625, 367.93853759765625], [264.9697265625, 375.5775146484375], [55.7294921875, 375.5775146484375]], bbox=[55.7294921875, 367.93853759765625, 264.9697265625, 375.5775146484375]), block_description='A paragraph or line of text.', block_type=<BlockTypes.Text: '23'>, block_id=4, page_id=6, text_extraction_method='pdftext', structure=[/page/6/Line/191], ignore_for_output=False, replace_output_newlines=False, source='layout', top_k={<BlockTypes.Text: '23'>: 1.0, <BlockTypes.TextInlineMath: '16'>: 3.874301910400391e-06, <BlockTypes.Caption: '9'>: 1.9669532775878906e-06, <BlockTypes.Footnote: '12'>: 2.384185791015625e-07, <BlockTypes.Table: '22'>: 1.1920928955078125e-07}, metadata=None, lowres_image=None, highres_image=None, removed=False, has_continuation=False, blockquote=False, blockquote_level=0, html=None),\n",
            " Text(polygon=PolygonBox(polygon=[[55.94775390625, 400.52099609375], [292.8818054199219, 400.52099609375], [292.8818054199219, 555.78564453125], [55.94775390625, 555.78564453125]], bbox=[55.94775390625, 400.52099609375, 292.8818054199219, 555.78564453125]), block_description='A paragraph or line of text.', block_type=<BlockTypes.Text: '23'>, block_id=5, page_id=6, text_extraction_method='pdftext', structure=[/page/6/Line/18, /page/6/Line/21, /page/6/Line/24, /page/6/Line/27, /page/6/Line/30, /page/6/Line/33, /page/6/Line/35, /page/6/Line/38, /page/6/Line/41, /page/6/Line/44, /page/6/Line/46, /page/6/Line/49, /page/6/Line/52], ignore_for_output=False, replace_output_newlines=False, source='layout', top_k={<BlockTypes.Text: '23'>: 1.0, <BlockTypes.SectionHeader: '21'>: 1.5079975128173828e-05, <BlockTypes.TextInlineMath: '16'>: 2.0265579223632812e-06, <BlockTypes.Figure: '11'>: 3.5762786865234375e-07, <BlockTypes.Table: '22'>: 1.1920928955078125e-07}, metadata=None, lowres_image=None, highres_image=None, removed=False, has_continuation=False, blockquote=False, blockquote_level=0, html=None),\n",
            " Text(polygon=PolygonBox(polygon=[[56.166015625, 556.9879913330078], [292.8799133300781, 556.9879913330078], [292.8799133300781, 723.0234375], [56.166015625, 723.0234375]], bbox=[56.166015625, 556.9879913330078, 292.8799133300781, 723.0234375]), block_description='A paragraph or line of text.', block_type=<BlockTypes.Text: '23'>, block_id=6, page_id=6, text_extraction_method='pdftext', structure=[/page/6/Line/55, /page/6/Line/58, /page/6/Line/61, /page/6/Line/64, /page/6/Line/70, /page/6/Line/73, /page/6/Line/76, /page/6/Line/80, /page/6/Line/85, /page/6/Line/88, /page/6/Line/90, /page/6/Line/93, /page/6/Line/97, /page/6/Line/100], ignore_for_output=False, replace_output_newlines=False, source='layout', top_k={<BlockTypes.Text: '23'>: 1.0, <BlockTypes.TextInlineMath: '16'>: 4.231929779052734e-06, <BlockTypes.SectionHeader: '21'>: 3.814697265625e-06, <BlockTypes.Picture: '20'>: 5.960464477539063e-08, <BlockTypes.Figure: '11'>: 5.960464477539063e-08}, metadata=None, lowres_image=None, highres_image=None, removed=False, has_continuation=False, blockquote=False, blockquote_level=0, html=None),\n",
            " Text(polygon=PolygonBox(polygon=[[303.8203125, 410.94921875], [541.2890625, 410.94921875], [541.2890625, 506.4778137207031], [303.8203125, 506.4778137207031]], bbox=[303.8203125, 410.94921875, 541.2890625, 506.4778137207031]), block_description='A paragraph or line of text.', block_type=<BlockTypes.Text: '23'>, block_id=8, page_id=6, text_extraction_method='pdftext', structure=[/page/6/Line/108, /page/6/Line/111, /page/6/Line/113, /page/6/Line/116, /page/6/Line/119, /page/6/Line/122, /page/6/Line/125, /page/6/Line/128], ignore_for_output=False, replace_output_newlines=False, source='layout', top_k={<BlockTypes.Text: '23'>: 0.94873046875, <BlockTypes.TextInlineMath: '16'>: 0.05145263671875, <BlockTypes.Code: '10'>: 1.1920928955078125e-06, <BlockTypes.SectionHeader: '21'>: 4.76837158203125e-07, <BlockTypes.ListItem: '17'>: 1.1920928955078125e-07}, metadata=None, lowres_image=None, highres_image=None, removed=False, has_continuation=False, blockquote=False, blockquote_level=0, html=None),\n",
            " Text(polygon=PolygonBox(polygon=[[304.724609375, 530.29443359375], [541.2890625, 530.29443359375], [541.2890625, 626.85205078125], [304.724609375, 626.85205078125]], bbox=[304.724609375, 530.29443359375, 541.2890625, 626.85205078125]), block_description='A paragraph or line of text.', block_type=<BlockTypes.Text: '23'>, block_id=10, page_id=6, text_extraction_method='pdftext', structure=[/page/6/Line/136, /page/6/Line/139, /page/6/Line/143, /page/6/Line/146, /page/6/Line/148, /page/6/Line/151, /page/6/Line/154, /page/6/Line/157], ignore_for_output=False, replace_output_newlines=False, source='layout', top_k={<BlockTypes.Text: '23'>: 1.0, <BlockTypes.TextInlineMath: '16'>: 0.00010269880294799805, <BlockTypes.SectionHeader: '21'>: 5.960464477539063e-08, <BlockTypes.Table: '22'>: 5.960464477539063e-08, <BlockTypes.Equation: '14'>: 0.0}, metadata=None, lowres_image=None, highres_image=None, removed=False, has_continuation=False, blockquote=False, blockquote_level=0, html=None),\n",
            " Text(polygon=PolygonBox(polygon=[[304.693359375, 652.7013092041016], [540.998046875, 652.7013092041016], [540.998046875, 722.4825134277344], [304.693359375, 722.4825134277344]], bbox=[304.693359375, 652.7013092041016, 540.998046875, 722.4825134277344]), block_description='A paragraph or line of text.', block_type=<BlockTypes.Text: '23'>, block_id=12, page_id=6, text_extraction_method='pdftext', structure=[/page/6/Line/165, /page/6/Line/167, /page/6/Line/170, /page/6/Line/173, /page/6/Line/176, /page/6/Line/179], ignore_for_output=False, replace_output_newlines=False, source='layout', top_k={<BlockTypes.Text: '23'>: 0.99951171875, <BlockTypes.TextInlineMath: '16'>: 0.00036263465881347656, <BlockTypes.SectionHeader: '21'>: 1.043081283569336e-05, <BlockTypes.ListItem: '17'>: 7.152557373046875e-07, <BlockTypes.Caption: '9'>: 5.960464477539062e-07}, metadata=None, lowres_image=None, highres_image=None, removed=False, has_continuation=False, blockquote=False, blockquote_level=0, html=None),\n",
            " Text(polygon=PolygonBox(polygon=[[56.692955017089844, 499.39599609375], [265.40625, 499.39599609375], [265.40625, 507.5774841308594], [56.692955017089844, 507.5774841308594]], bbox=[56.692955017089844, 499.39599609375, 265.40625, 507.5774841308594]), block_description='A paragraph or line of text.', block_type=<BlockTypes.Text: '23'>, block_id=4, page_id=7, text_extraction_method='pdftext', structure=[/page/7/Line/76], ignore_for_output=False, replace_output_newlines=False, source='layout', top_k={<BlockTypes.Text: '23'>: 1.0, <BlockTypes.Caption: '9'>: 9.5367431640625e-07, <BlockTypes.SectionHeader: '21'>: 2.980232238769531e-07, <BlockTypes.Table: '22'>: 5.960464477539063e-08, <BlockTypes.TextInlineMath: '16'>: 5.960464477539063e-08}, metadata=None, lowres_image=None, highres_image=None, removed=False, has_continuation=False, blockquote=False, blockquote_level=0, html=None),\n",
            " Text(polygon=PolygonBox(polygon=[[56.6025390625, 710.0975723266602], [275.1552734375, 710.0975723266602], [275.1552734375, 726.2345962524414], [56.6025390625, 726.2345962524414]], bbox=[56.6025390625, 710.0975723266602, 275.1552734375, 726.2345962524414]), block_description='A paragraph or line of text.', block_type=<BlockTypes.Text: '23'>, block_id=7, page_id=7, text_extraction_method='pdftext', structure=[/page/7/Line/195, /page/7/Line/204], ignore_for_output=False, replace_output_newlines=False, source='layout', top_k={<BlockTypes.Text: '23'>: 1.0, <BlockTypes.TextInlineMath: '16'>: 5.960464477539063e-08, <BlockTypes.Picture: '20'>: 0.0, <BlockTypes.Figure: '11'>: 0.0, <BlockTypes.PageFooter: '18'>: 0.0}, metadata=None, lowres_image=None, highres_image=None, removed=False, has_continuation=False, blockquote=False, blockquote_level=0, html=None),\n",
            " Text(polygon=PolygonBox(polygon=[[303.23828125, 537.24658203125], [540.911865234375, 537.24658203125], [540.911865234375, 584.36669921875], [303.23828125, 584.36669921875]], bbox=[303.23828125, 537.24658203125, 540.911865234375, 584.36669921875]), block_description='A paragraph or line of text.', block_type=<BlockTypes.Text: '23'>, block_id=8, page_id=7, text_extraction_method='pdftext', structure=[/page/7/Line/15, /page/7/Line/18, /page/7/Line/21, /page/7/Line/26], ignore_for_output=False, replace_output_newlines=False, source='layout', top_k={<BlockTypes.Text: '23'>: 1.0, <BlockTypes.Caption: '9'>: 4.947185516357422e-06, <BlockTypes.SectionHeader: '21'>: 3.5762786865234375e-07, <BlockTypes.Picture: '20'>: 0.0, <BlockTypes.Figure: '11'>: 0.0}, metadata=None, lowres_image=None, highres_image=None, removed=False, has_continuation=False, blockquote=False, blockquote_level=0, html=None),\n",
            " Text(polygon=PolygonBox(polygon=[[304.693359375, 586.4846343994141], [540.998046875, 586.4846343994141], [540.998046875, 716.3021774291992], [304.693359375, 716.3021774291992]], bbox=[304.693359375, 586.4846343994141, 540.998046875, 716.3021774291992]), block_description='A paragraph or line of text.', block_type=<BlockTypes.Text: '23'>, block_id=9, page_id=7, text_extraction_method='pdftext', structure=[/page/7/Line/29, /page/7/Line/31, /page/7/Line/34, /page/7/Line/39, /page/7/Line/42, /page/7/Line/45, /page/7/Line/48, /page/7/Line/51, /page/7/Line/54, /page/7/Line/57, /page/7/Line/59], ignore_for_output=False, replace_output_newlines=False, source='layout', top_k={<BlockTypes.Text: '23'>: 1.0, <BlockTypes.TextInlineMath: '16'>: 2.6226043701171875e-05, <BlockTypes.SectionHeader: '21'>: 2.9206275939941406e-06, <BlockTypes.Table: '22'>: 1.0132789611816406e-06, <BlockTypes.Footnote: '12'>: 2.384185791015625e-07}, metadata=None, lowres_image=None, highres_image=None, removed=False, has_continuation=True, blockquote=False, blockquote_level=0, html=None),\n",
            " Text(polygon=PolygonBox(polygon=[[56.0205078125, 243.904541015625], [292.8811340332031, 243.904541015625], [292.8811340332031, 314.3878173828125], [56.0205078125, 314.3878173828125]], bbox=[56.0205078125, 243.904541015625, 292.8811340332031, 314.3878173828125]), block_description='A paragraph or line of text.', block_type=<BlockTypes.Text: '23'>, block_id=2, page_id=8, text_extraction_method='pdftext', structure=[/page/8/Line/73, /page/8/Line/76, /page/8/Line/78, /page/8/Line/80, /page/8/Line/83, /page/8/Line/86], ignore_for_output=False, replace_output_newlines=False, source='layout', top_k={<BlockTypes.Text: '23'>: 0.9970703125, <BlockTypes.TextInlineMath: '16'>: 0.0029926300048828125, <BlockTypes.PageHeader: '19'>: 2.8014183044433594e-06, <BlockTypes.SectionHeader: '21'>: 2.3245811462402344e-06, <BlockTypes.Code: '10'>: 5.960464477539062e-07}, metadata=None, lowres_image=None, highres_image=None, removed=False, has_continuation=False, blockquote=False, blockquote_level=0, html=None),\n",
            " Text(polygon=PolygonBox(polygon=[[55.94775390625, 316.5831298828125], [292.8808898925781, 316.5831298828125], [292.8808898925781, 470.3919982910156], [55.94775390625, 470.3919982910156]], bbox=[55.94775390625, 316.5831298828125, 292.8808898925781, 470.3919982910156]), block_description='A paragraph or line of text.', block_type=<BlockTypes.Text: '23'>, block_id=3, page_id=8, text_extraction_method='pdftext', structure=[/page/8/Line/98, /page/8/Line/101, /page/8/Line/103, /page/8/Line/105, /page/8/Line/108, /page/8/Line/110, /page/8/Line/112, /page/8/Line/115, /page/8/Line/118, /page/8/Line/120, /page/8/Line/123, /page/8/Line/125, /page/8/Line/128], ignore_for_output=False, replace_output_newlines=False, source='layout', top_k={<BlockTypes.Text: '23'>: 1.0, <BlockTypes.TextInlineMath: '16'>: 2.8014183044433594e-06, <BlockTypes.PageHeader: '19'>: 1.1324882507324219e-06, <BlockTypes.Picture: '20'>: 1.1920928955078125e-07, <BlockTypes.SectionHeader: '21'>: 1.1920928955078125e-07}, metadata=None, lowres_image=None, highres_image=None, removed=False, has_continuation=False, blockquote=False, blockquote_level=0, html=None),\n",
            " Text(polygon=PolygonBox(polygon=[[55.875, 472.35986328125], [292.8834228515625, 472.35986328125], [292.8834228515625, 722.63720703125], [55.875, 722.63720703125]], bbox=[55.875, 472.35986328125, 292.8834228515625, 722.63720703125]), block_description='A paragraph or line of text.', block_type=<BlockTypes.Text: '23'>, block_id=4, page_id=8, text_extraction_method='pdftext', structure=[/page/8/Line/131, /page/8/Line/134, /page/8/Line/139, /page/8/Line/142, /page/8/Line/145, /page/8/Line/148, /page/8/Line/151, /page/8/Line/154, /page/8/Line/157, /page/8/Line/163, /page/8/Line/166, /page/8/Line/169, /page/8/Line/176, /page/8/Line/181, /page/8/Line/184, /page/8/Line/186, /page/8/Line/191, /page/8/Line/196, /page/8/Line/199, /page/8/Line/202, /page/8/Line/205], ignore_for_output=False, replace_output_newlines=False, source='layout', top_k={<BlockTypes.Text: '23'>: 0.83642578125, <BlockTypes.TextInlineMath: '16'>: 0.1634521484375, <BlockTypes.Code: '10'>: 1.9550323486328125e-05, <BlockTypes.PageHeader: '19'>: 1.2695789337158203e-05, <BlockTypes.Form: '13'>: 1.0788440704345703e-05}, metadata=None, lowres_image=None, highres_image=None, removed=False, has_continuation=True, blockquote=False, blockquote_level=0, html=None),\n",
            " Text(polygon=PolygonBox(polygon=[[304.72100830078125, 88.57830810546875], [540.8997192382812, 88.57830810546875], [540.8997192382812, 134.3643798828125], [304.72100830078125, 134.3643798828125]], bbox=[304.72100830078125, 88.57830810546875, 540.8997192382812, 134.3643798828125]), block_description='A paragraph or line of text.', block_type=<BlockTypes.Text: '23'>, block_id=6, page_id=8, text_extraction_method='pdftext', structure=[/page/8/Line/208, /page/8/Line/213, /page/8/Line/216, /page/8/Line/219], ignore_for_output=False, replace_output_newlines=False, source='layout', top_k={<BlockTypes.Text: '23'>: 1.0, <BlockTypes.TextInlineMath: '16'>: 9.5367431640625e-07, <BlockTypes.PageHeader: '19'>: 5.960464477539063e-08, <BlockTypes.Picture: '20'>: 0.0, <BlockTypes.Figure: '11'>: 0.0}, metadata=None, lowres_image=None, highres_image=None, removed=False, has_continuation=False, blockquote=False, blockquote_level=0, html=None),\n",
            " Text(polygon=PolygonBox(polygon=[[304.693359375, 136.146240234375], [540.8955078125, 136.146240234375], [540.8955078125, 242.3184814453125], [304.693359375, 242.3184814453125]], bbox=[304.693359375, 136.146240234375, 540.8955078125, 242.3184814453125]), block_description='A paragraph or line of text.', block_type=<BlockTypes.Text: '23'>, block_id=7, page_id=8, text_extraction_method='pdftext', structure=[/page/8/Line/223, /page/8/Line/226, /page/8/Line/231, /page/8/Line/234, /page/8/Line/237, /page/8/Line/240, /page/8/Line/243, /page/8/Line/246, /page/8/Line/249], ignore_for_output=False, replace_output_newlines=False, source='layout', top_k={<BlockTypes.Text: '23'>: 1.0, <BlockTypes.TextInlineMath: '16'>: 3.635883331298828e-06, <BlockTypes.PageHeader: '19'>: 1.1920928955078125e-07, <BlockTypes.Form: '13'>: 5.960464477539063e-08, <BlockTypes.Picture: '20'>: 0.0}, metadata=None, lowres_image=None, highres_image=None, removed=False, has_continuation=False, blockquote=False, blockquote_level=0, html=None),\n",
            " Text(polygon=PolygonBox(polygon=[[304.40234375, 244.48388671875], [540.9094848632812, 244.48388671875], [540.9094848632812, 326.38519287109375], [304.40234375, 326.38519287109375]], bbox=[304.40234375, 244.48388671875, 540.9094848632812, 326.38519287109375]), block_description='A paragraph or line of text.', block_type=<BlockTypes.Text: '23'>, block_id=8, page_id=8, text_extraction_method='pdftext', structure=[/page/8/Line/252, /page/8/Line/255, /page/8/Line/258, /page/8/Line/261, /page/8/Line/263, /page/8/Line/266, /page/8/Line/269], ignore_for_output=False, replace_output_newlines=False, source='layout', top_k={<BlockTypes.Text: '23'>: 1.0, <BlockTypes.TextInlineMath: '16'>: 7.748603820800781e-07, <BlockTypes.SectionHeader: '21'>: 1.7881393432617188e-07, <BlockTypes.Form: '13'>: 5.960464477539063e-08, <BlockTypes.PageFooter: '18'>: 0.0}, metadata=None, lowres_image=None, highres_image=None, removed=False, has_continuation=False, blockquote=False, blockquote_level=0, html=None),\n",
            " Text(polygon=PolygonBox(polygon=[[304.40234375, 327.90966796875], [540.9124755859375, 327.90966796875], [540.9124755859375, 470.3977966308594], [304.40234375, 470.3977966308594]], bbox=[304.40234375, 327.90966796875, 540.9124755859375, 470.3977966308594]), block_description='A paragraph or line of text.', block_type=<BlockTypes.Text: '23'>, block_id=9, page_id=8, text_extraction_method='pdftext', structure=[/page/8/Line/272, /page/8/Line/275, /page/8/Line/278, /page/8/Line/281, /page/8/Line/283, /page/8/Line/286, /page/8/Line/289, /page/8/Line/292, /page/8/Line/294, /page/8/Line/296, /page/8/Line/301, /page/8/Line/303], ignore_for_output=False, replace_output_newlines=False, source='layout', top_k={<BlockTypes.Text: '23'>: 1.0, <BlockTypes.TextInlineMath: '16'>: 1.3768672943115234e-05, <BlockTypes.Form: '13'>: 5.960464477539063e-08, <BlockTypes.Picture: '20'>: 0.0, <BlockTypes.PageFooter: '18'>: 0.0}, metadata=None, lowres_image=None, highres_image=None, removed=False, has_continuation=False, blockquote=False, blockquote_level=0, html=None),\n",
            " Text(polygon=PolygonBox(polygon=[[304.40234375, 496.5978088378906], [540.9098510742188, 496.5978088378906], [540.9098510742188, 662.3878784179688], [304.40234375, 662.3878784179688]], bbox=[304.40234375, 496.5978088378906, 540.9098510742188, 662.3878784179688]), block_description='A paragraph or line of text.', block_type=<BlockTypes.Text: '23'>, block_id=11, page_id=8, text_extraction_method='pdftext', structure=[/page/8/Line/309, /page/8/Line/313, /page/8/Line/317, /page/8/Line/320, /page/8/Line/323, /page/8/Line/325, /page/8/Line/328, /page/8/Line/331, /page/8/Line/335, /page/8/Line/338, /page/8/Line/341, /page/8/Line/343, /page/8/Line/348, /page/8/Line/351], ignore_for_output=False, replace_output_newlines=False, source='layout', top_k={<BlockTypes.Text: '23'>: 1.0, <BlockTypes.TextInlineMath: '16'>: 3.6597251892089844e-05, <BlockTypes.Footnote: '12'>: 1.7881393432617188e-07, <BlockTypes.Figure: '11'>: 5.960464477539063e-08, <BlockTypes.Caption: '9'>: 5.960464477539063e-08}, metadata=None, lowres_image=None, highres_image=None, removed=False, has_continuation=False, blockquote=False, blockquote_level=0, html=None),\n",
            " Text(polygon=PolygonBox(polygon=[[302.365234375, 681.1794128417969], [539.5183715820312, 681.1794128417969], [539.5183715820312, 724.6794128417969], [302.365234375, 724.6794128417969]], bbox=[302.365234375, 681.1794128417969, 539.5183715820312, 724.6794128417969]), block_description='A paragraph or line of text.', block_type=<BlockTypes.Text: '23'>, block_id=13, page_id=8, text_extraction_method='pdftext', structure=[/page/8/Line/357, /page/8/Line/360, /page/8/Line/363, /page/8/Line/366, /page/8/Line/369], ignore_for_output=False, replace_output_newlines=False, source='layout', top_k={<BlockTypes.Text: '23'>: 1.0, <BlockTypes.Footnote: '12'>: 7.62939453125e-06, <BlockTypes.Form: '13'>: 3.5762786865234375e-07, <BlockTypes.TextInlineMath: '16'>: 2.384185791015625e-07, <BlockTypes.Code: '10'>: 1.1920928955078125e-07}, metadata=None, lowres_image=None, highres_image=None, removed=False, has_continuation=False, blockquote=False, blockquote_level=0, html=None),\n",
            " Text(polygon=PolygonBox(polygon=[[55.80224609375, 96.323486328125], [278.501953125, 96.323486328125], [278.501953125, 123.6903076171875], [55.80224609375, 123.6903076171875]], bbox=[55.80224609375, 96.323486328125, 278.501953125, 123.6903076171875]), block_description='A paragraph or line of text.', block_type=<BlockTypes.Text: '23'>, block_id=2, page_id=9, text_extraction_method='pdftext', structure=[/page/9/Line/56, /page/9/Line/61, /page/9/Line/70], ignore_for_output=False, replace_output_newlines=False, source='layout', top_k={<BlockTypes.Text: '23'>: 1.0, <BlockTypes.PageHeader: '19'>: 2.9206275939941406e-06, <BlockTypes.TextInlineMath: '16'>: 1.1920928955078125e-06, <BlockTypes.SectionHeader: '21'>: 7.152557373046875e-07, <BlockTypes.Form: '13'>: 6.556510925292969e-07}, metadata=None, lowres_image=None, highres_image=None, removed=False, has_continuation=False, blockquote=False, blockquote_level=0, html=None),\n",
            " Text(polygon=PolygonBox(polygon=[[55.94775390625, 142.0362548828125], [278.2109375, 142.0362548828125], [278.2109375, 150.10064697265625], [55.94775390625, 150.10064697265625]], bbox=[55.94775390625, 142.0362548828125, 278.2109375, 150.10064697265625]), block_description='A paragraph or line of text.', block_type=<BlockTypes.Text: '23'>, block_id=4, page_id=9, text_extraction_method='pdftext', structure=[/page/9/Line/78], ignore_for_output=False, replace_output_newlines=False, source='layout', top_k={<BlockTypes.Text: '23'>: 1.0, <BlockTypes.TextInlineMath: '16'>: 3.814697265625e-06, <BlockTypes.PageHeader: '19'>: 1.0728836059570312e-06, <BlockTypes.SectionHeader: '21'>: 5.364418029785156e-07, <BlockTypes.ListItem: '17'>: 4.172325134277344e-07}, metadata=None, lowres_image=None, highres_image=None, removed=False, has_continuation=False, blockquote=False, blockquote_level=0, html=None),\n",
            " Text(polygon=PolygonBox(polygon=[[56.0205078125, 169.362060546875], [233.9765625, 169.362060546875], [233.9765625, 177.27978515625], [56.0205078125, 177.27978515625]], bbox=[56.0205078125, 169.362060546875, 233.9765625, 177.27978515625]), block_description='A paragraph or line of text.', block_type=<BlockTypes.Text: '23'>, block_id=6, page_id=9, text_extraction_method='pdftext', structure=[/page/9/Line/84], ignore_for_output=False, replace_output_newlines=False, source='layout', top_k={<BlockTypes.Text: '23'>: 1.0, <BlockTypes.TextInlineMath: '16'>: 2.7894973754882812e-05, <BlockTypes.ListItem: '17'>: 7.450580596923828e-06, <BlockTypes.PageHeader: '19'>: 4.708766937255859e-06, <BlockTypes.SectionHeader: '21'>: 1.1920928955078125e-06}, metadata=None, lowres_image=None, highres_image=None, removed=False, has_continuation=False, blockquote=False, blockquote_level=0, html=None),\n",
            " Text(polygon=PolygonBox(polygon=[[55.7294921875, 195.7222900390625], [285.0498046875, 195.7222900390625], [285.0498046875, 213.10064697265625], [55.7294921875, 213.10064697265625]], bbox=[55.7294921875, 195.7222900390625, 285.0498046875, 213.10064697265625]), block_description='A paragraph or line of text.', block_type=<BlockTypes.Text: '23'>, block_id=8, page_id=9, text_extraction_method='pdftext', structure=[/page/9/Line/90, /page/9/Line/93], ignore_for_output=False, replace_output_newlines=False, source='layout', top_k={<BlockTypes.Text: '23'>: 1.0, <BlockTypes.SectionHeader: '21'>: 6.556510925292969e-06, <BlockTypes.TextInlineMath: '16'>: 1.1324882507324219e-06, <BlockTypes.Code: '10'>: 6.556510925292969e-07, <BlockTypes.PageHeader: '19'>: 6.556510925292969e-07}, metadata=None, lowres_image=None, highres_image=None, removed=False, has_continuation=False, blockquote=False, blockquote_level=0, html=None),\n",
            " Text(polygon=PolygonBox(polygon=[[55.80224609375, 232.12451171875], [286.068359375, 232.12451171875], [286.068359375, 249.11865234375], [55.80224609375, 249.11865234375]], bbox=[55.80224609375, 232.12451171875, 286.068359375, 249.11865234375]), block_description='A paragraph or line of text.', block_type=<BlockTypes.Text: '23'>, block_id=10, page_id=9, text_extraction_method='pdftext', structure=[/page/9/Line/99, /page/9/Line/102], ignore_for_output=False, replace_output_newlines=False, source='layout', top_k={<BlockTypes.Text: '23'>: 1.0, <BlockTypes.TextInlineMath: '16'>: 5.364418029785156e-07, <BlockTypes.SectionHeader: '21'>: 2.384185791015625e-07, <BlockTypes.Form: '13'>: 1.7881393432617188e-07, <BlockTypes.ListItem: '17'>: 1.7881393432617188e-07}, metadata=None, lowres_image=None, highres_image=None, removed=False, has_continuation=False, blockquote=False, blockquote_level=0, html=None),\n",
            " Text(polygon=PolygonBox(polygon=[[319.7234802246094, 88.3502197265625], [540.70703125, 88.3502197265625], [540.70703125, 105.10064697265625], [319.7234802246094, 105.10064697265625]], bbox=[319.7234802246094, 88.3502197265625, 540.70703125, 105.10064697265625]), block_description='A paragraph or line of text.', block_type=<BlockTypes.Text: '23'>, block_id=7, page_id=10, text_extraction_method='pdftext', structure=[/page/10/Line/152, /page/10/Line/157], ignore_for_output=False, replace_output_newlines=False, source='layout', top_k={<BlockTypes.Text: '23'>: 0.8046875, <BlockTypes.PageHeader: '19'>: 0.1634521484375, <BlockTypes.ListItem: '17'>: 0.030487060546875, <BlockTypes.TextInlineMath: '16'>: 0.0011472702026367188, <BlockTypes.Figure: '11'>: 5.739927291870117e-05}, metadata=None, lowres_image=None, highres_image=None, removed=False, has_continuation=False, blockquote=False, blockquote_level=0, html=None),\n",
            " Text(polygon=PolygonBox(polygon=[[323.676025390625, 710.4744186401367], [425.5470275878906, 710.4744186401367], [425.5470275878906, 717.4744186401367], [323.676025390625, 717.4744186401367]], bbox=[323.676025390625, 710.4744186401367, 425.5470275878906, 717.4744186401367]), block_description='A paragraph or line of text.', block_type=<BlockTypes.Text: '23'>, block_id=23, page_id=10, text_extraction_method='pdftext', structure=[/page/10/Line/221], ignore_for_output=False, replace_output_newlines=False, source='heuristics', top_k=None, metadata=None, lowres_image=None, highres_image=None, removed=False, has_continuation=False, blockquote=False, blockquote_level=0, html=None),\n",
            " Text(polygon=PolygonBox(polygon=[[450.201171875, 704.484375], [524.119140625, 704.484375], [524.119140625, 715.298828125], [450.201171875, 715.298828125]], bbox=[450.201171875, 704.484375, 524.119140625, 715.298828125]), block_description='A paragraph or line of text.', block_type=<BlockTypes.Text: '23'>, block_id=21, page_id=10, text_extraction_method=None, structure=None, ignore_for_output=False, replace_output_newlines=False, source='layout', top_k={<BlockTypes.Text: '23'>: 0.591796875, <BlockTypes.Picture: '20'>: 0.383544921875, <BlockTypes.PageHeader: '19'>: 0.024139404296875, <BlockTypes.Figure: '11'>: 0.00021970272064208984, <BlockTypes.ListItem: '17'>: 8.654594421386719e-05}, metadata=None, lowres_image=None, highres_image=None, removed=False, has_continuation=False, blockquote=False, blockquote_level=0, html=None)]\n"
          ]
        }
      ]
    },
    {
      "cell_type": "code",
      "source": [],
      "metadata": {
        "id": "apj9p1gvkviI"
      },
      "id": "apj9p1gvkviI",
      "execution_count": null,
      "outputs": []
    },
    {
      "cell_type": "code",
      "execution_count": null,
      "id": "a5018f48",
      "metadata": {
        "id": "a5018f48"
      },
      "outputs": [],
      "source": [
        "# 3. Run Marker to extract JSON structure\n",
        "import os\n",
        "output_dir = 'marker_output'\n",
        "os.makedirs(output_dir, exist_ok=True)\n",
        "json_out = os.path.join(output_dir, os.path.splitext(os.path.basename(pdf_path))[0] + '_structure.json')\n",
        "\n",
        "!marker_single \"{pdf_path}\" --output_format json --output_dir \"{output_dir}\""
      ]
    },
    {
      "cell_type": "code",
      "execution_count": null,
      "id": "df4ea443",
      "metadata": {
        "id": "df4ea443"
      },
      "outputs": [],
      "source": [
        "# 4. Load the Marker JSON\n",
        "import json\n",
        "with open(json_out, 'r') as f:\n",
        "    marker_json = json.load(f)"
      ]
    },
    {
      "cell_type": "code",
      "execution_count": null,
      "id": "456e8cf8",
      "metadata": {
        "id": "456e8cf8"
      },
      "outputs": [],
      "source": [
        "# 5. Data models and flattening utilities (Python version of your TypeScript)\n",
        "from typing import List, Dict, Any\n",
        "\n",
        "class SimplifiedBlock:\n",
        "    def __init__(self, type: str, content: str, page: int, bbox: list):\n",
        "        self.type = type\n",
        "        self.content = content\n",
        "        self.page = page\n",
        "        self.bbox = bbox\n",
        "\n",
        "    def as_dict(self):\n",
        "        return {\n",
        "            'type': self.type,\n",
        "            'content': self.content,\n",
        "            'page': self.page,\n",
        "            'bbox': self.bbox,\n",
        "        }\n",
        "\n",
        "import html\n",
        "\n",
        "def decode_html_entities(text: str) -> str:\n",
        "    return html.unescape(text)\n",
        "\n",
        "def flatten_marker_json(blocks: List[Dict[str, Any]], page_number: int = 0) -> List[SimplifiedBlock]:\n",
        "    flat_blocks = []\n",
        "    for block in blocks:\n",
        "        # Skip Page blocks but process their children\n",
        "        if block.get('block_type') == 'Page':\n",
        "            child_page = int(block.get('id', '0/0/0').split('/')[2]) if 'id' in block else 0\n",
        "            flat_blocks.extend(flatten_marker_json(block.get('children', []), child_page))\n",
        "            continue\n",
        "\n",
        "        # Process current block\n",
        "        content = ''\n",
        "        if block.get('images') and isinstance(block['images'], dict) and block['images']:\n",
        "            content = next(iter(block['images'].values()))\n",
        "        elif block.get('block_type') == 'Table':\n",
        "            content = block.get('html', '').strip()\n",
        "        elif block.get('html'):\n",
        "            import re\n",
        "            content = re.sub(r'<[^>]*>', ' ', block['html']).strip()\n",
        "        content = decode_html_entities(content)\n",
        "\n",
        "        page = (int(block.get('id', '0/0/0').split('/')[2]) if 'id' in block else page_number) + 1\n",
        "        bbox = block.get('bbox', [0,0,0,0])\n",
        "\n",
        "        flat_blocks.append(SimplifiedBlock(\n",
        "            type=block.get('block_type', ''),\n",
        "            content=content,\n",
        "            page=page,\n",
        "            bbox=bbox\n",
        "        ))\n",
        "\n",
        "        # Recursively process children (except for Page blocks)\n",
        "        if block.get('children'):\n",
        "            flat_blocks.extend(flatten_marker_json(block['children'], page))\n",
        "    return flat_blocks\n",
        "\n",
        "def filter_and_flatten_marker_json(blocks: List[Dict[str, Any]], page_number: int = 0) -> List[SimplifiedBlock]:\n",
        "    unfiltered = flatten_marker_json(blocks, page_number)\n",
        "    remove_types = {\n",
        "        'TableCell', 'TableGroup', 'FigureGroup', 'ListGroup', 'Reference',\n",
        "        'PageFooter', 'PageHeader', 'Footnote'\n",
        "    }\n",
        "    return [b for b in unfiltered if b.type not in remove_types and b.content]"
      ]
    },
    {
      "cell_type": "code",
      "execution_count": null,
      "id": "8788d923",
      "metadata": {
        "id": "8788d923"
      },
      "outputs": [],
      "source": [
        "# 6. Flatten and filter the Marker output\n",
        "flat_blocks = filter_and_flatten_marker_json(marker_json.get('children', []))"
      ]
    },
    {
      "cell_type": "code",
      "execution_count": null,
      "id": "8c7a9664",
      "metadata": {
        "id": "8c7a9664"
      },
      "outputs": [],
      "source": [
        "# 7. Explore block types and content\n",
        "import pandas as pd\n",
        "\n",
        "df = pd.DataFrame([b.as_dict() for b in flat_blocks])\n",
        "print('Block types found:', df['type'].unique())\n",
        "df.head(20)  # Show first 20 blocks"
      ]
    },
    {
      "cell_type": "code",
      "execution_count": null,
      "id": "5a0e173d",
      "metadata": {
        "id": "5a0e173d"
      },
      "outputs": [],
      "source": [
        "# 8. Simple metadata extraction (title, authors, abstract)\n",
        "def extract_metadata(blocks: List[SimplifiedBlock]):\n",
        "    title = next((b.content for b in blocks if b.type.lower() in {'title', 'main_title'}), '')\n",
        "    authors = next((b.content for b in blocks if 'author' in b.type.lower()), '')\n",
        "    abstract = next((b.content for b in blocks if 'abstract' in b.type.lower()), '')\n",
        "    return {'title': title, 'authors': authors, 'abstract': abstract}\n",
        "\n",
        "metadata = extract_metadata(flat_blocks)\n",
        "print('Extracted Metadata:', metadata)"
      ]
    },
    {
      "cell_type": "code",
      "execution_count": null,
      "id": "7b8b19d2",
      "metadata": {
        "id": "7b8b19d2"
      },
      "outputs": [],
      "source": [
        "# 9. Find and display all tables and figures (with extensibility for custom processing)\n",
        "tables = [b for b in flat_blocks if b.type == 'Table']\n",
        "figures = [b for b in flat_blocks if b.type == 'Figure' or b.type == 'Picture']\n",
        "\n",
        "print(f'Found {len(tables)} tables and {len(figures)} figures.')\n",
        "\n",
        "# Example: Show first table's HTML (for further processing)\n",
        "if tables:\n",
        "    from IPython.display import display, HTML\n",
        "    print('First table HTML:')\n",
        "    display(HTML(tables[0].content))\n",
        "\n",
        "# Example: Show first figure as image (if base64-encoded)\n",
        "import base64\n",
        "from IPython.display import Image\n",
        "\n",
        "def show_base64_image(b64str):\n",
        "    try:\n",
        "        display(Image(data=base64.b64decode(b64str)))\n",
        "    except Exception as e:\n",
        "        print('Could not display image:', e)\n",
        "\n",
        "if figures:\n",
        "    print('First figure (if image):')\n",
        "    show_base64_image(figures[0].content)"
      ]
    },
    {
      "cell_type": "code",
      "execution_count": null,
      "id": "67298ff1",
      "metadata": {
        "id": "67298ff1"
      },
      "outputs": [],
      "source": [
        "# 10. (Optional) Extensible: Add your own logic to process tables/figures, e.g., send table HTML to a model, extract captions, etc.\n",
        "# (No LLM-based summarization or captioning included)"
      ]
    },
    {
      "cell_type": "code",
      "execution_count": null,
      "id": "3b0329a2",
      "metadata": {
        "id": "3b0329a2"
      },
      "outputs": [],
      "source": [
        "# 11. Save flattened blocks for further analysis\n",
        "df.to_json('flattened_blocks.json', orient='records', indent=2)\n",
        "from google.colab import files\n",
        "files.download('flattened_blocks.json')"
      ]
    }
  ],
  "metadata": {
    "kernelspec": {
      "display_name": "Python 3",
      "name": "python3"
    },
    "language_info": {
      "name": "python",
      "version": "3.10.17"
    },
    "colab": {
      "provenance": [],
      "gpuType": "T4",
      "include_colab_link": true
    },
    "accelerator": "GPU"
  },
  "nbformat": 4,
  "nbformat_minor": 5
}