{
 "cells": [
  {
   "cell_type": "markdown",
   "id": "41f7e972",
   "metadata": {},
   "source": [
    "# Marker Demo: Research Paper Block Extraction & Exploration\n",
    "\n",
    "Self-contained, Google Colab-ready.\n",
    "\n",
    "- Upload a PDF, run Marker to extract JSON structure\n",
    "- Flatten and filter block structure (inspired by TypeScript)\n",
    "- Explore block types, metadata, tables, and figures\n",
    "- No LLM-based summarization or captioning included\n"
   ]
  },
  {
   "cell_type": "code",
   "execution_count": null,
   "id": "5ec80635",
   "metadata": {},
   "outputs": [],
   "source": [
    "# 1. Install marker-pdf and dependencies\n",
    "!pip install --quiet marker-pdf"
   ]
  },
  {
   "cell_type": "code",
   "execution_count": null,
   "id": "a878649c",
   "metadata": {},
   "outputs": [],
   "source": [
    "# 2. Upload a PDF\n",
    "from google.colab import files\n",
    "uploaded = files.upload()\n",
    "pdf_path = next(iter(uploaded))"
   ]
  },
  {
   "cell_type": "code",
   "execution_count": null,
   "id": "a5018f48",
   "metadata": {},
   "outputs": [],
   "source": [
    "# 3. Run Marker to extract JSON structure\n",
    "import os\n",
    "output_dir = 'marker_output'\n",
    "os.makedirs(output_dir, exist_ok=True)\n",
    "json_out = os.path.join(output_dir, os.path.splitext(os.path.basename(pdf_path))[0] + '_structure.json')\n",
    "\n",
    "!marker_single \"{pdf_path}\" --output_format json --output_dir \"{output_dir}\""
   ]
  },
  {
   "cell_type": "code",
   "execution_count": null,
   "id": "df4ea443",
   "metadata": {},
   "outputs": [],
   "source": [
    "# 4. Load the Marker JSON\n",
    "import json\n",
    "with open(json_out, 'r') as f:\n",
    "    marker_json = json.load(f)"
   ]
  },
  {
   "cell_type": "code",
   "execution_count": null,
   "id": "456e8cf8",
   "metadata": {},
   "outputs": [],
   "source": [
    "# 5. Data models and flattening utilities (Python version of your TypeScript)\n",
    "from typing import List, Dict, Any\n",
    "\n",
    "class SimplifiedBlock:\n",
    "    def __init__(self, type: str, content: str, page: int, bbox: list):\n",
    "        self.type = type\n",
    "        self.content = content\n",
    "        self.page = page\n",
    "        self.bbox = bbox\n",
    "\n",
    "    def as_dict(self):\n",
    "        return {\n",
    "            'type': self.type,\n",
    "            'content': self.content,\n",
    "            'page': self.page,\n",
    "            'bbox': self.bbox,\n",
    "        }\n",
    "\n",
    "import html\n",
    "\n",
    "def decode_html_entities(text: str) -> str:\n",
    "    return html.unescape(text)\n",
    "\n",
    "def flatten_marker_json(blocks: List[Dict[str, Any]], page_number: int = 0) -> List[SimplifiedBlock]:\n",
    "    flat_blocks = []\n",
    "    for block in blocks:\n",
    "        # Skip Page blocks but process their children\n",
    "        if block.get('block_type') == 'Page':\n",
    "            child_page = int(block.get('id', '0/0/0').split('/')[2]) if 'id' in block else 0\n",
    "            flat_blocks.extend(flatten_marker_json(block.get('children', []), child_page))\n",
    "            continue\n",
    "\n",
    "        # Process current block\n",
    "        content = ''\n",
    "        if block.get('images') and isinstance(block['images'], dict) and block['images']:\n",
    "            content = next(iter(block['images'].values()))\n",
    "        elif block.get('block_type') == 'Table':\n",
    "            content = block.get('html', '').strip()\n",
    "        elif block.get('html'):\n",
    "            import re\n",
    "            content = re.sub(r'<[^>]*>', ' ', block['html']).strip()\n",
    "        content = decode_html_entities(content)\n",
    "\n",
    "        page = (int(block.get('id', '0/0/0').split('/')[2]) if 'id' in block else page_number) + 1\n",
    "        bbox = block.get('bbox', [0,0,0,0])\n",
    "\n",
    "        flat_blocks.append(SimplifiedBlock(\n",
    "            type=block.get('block_type', ''),\n",
    "            content=content,\n",
    "            page=page,\n",
    "            bbox=bbox\n",
    "        ))\n",
    "\n",
    "        # Recursively process children (except for Page blocks)\n",
    "        if block.get('children'):\n",
    "            flat_blocks.extend(flatten_marker_json(block['children'], page))\n",
    "    return flat_blocks\n",
    "\n",
    "def filter_and_flatten_marker_json(blocks: List[Dict[str, Any]], page_number: int = 0) -> List[SimplifiedBlock]:\n",
    "    unfiltered = flatten_marker_json(blocks, page_number)\n",
    "    remove_types = {\n",
    "        'TableCell', 'TableGroup', 'FigureGroup', 'ListGroup', 'Reference',\n",
    "        'PageFooter', 'PageHeader', 'Footnote'\n",
    "    }\n",
    "    return [b for b in unfiltered if b.type not in remove_types and b.content]"
   ]
  },
  {
   "cell_type": "code",
   "execution_count": null,
   "id": "8788d923",
   "metadata": {},
   "outputs": [],
   "source": [
    "# 6. Flatten and filter the Marker output\n",
    "flat_blocks = filter_and_flatten_marker_json(marker_json.get('children', []))"
   ]
  },
  {
   "cell_type": "code",
   "execution_count": null,
   "id": "8c7a9664",
   "metadata": {},
   "outputs": [],
   "source": [
    "# 7. Explore block types and content\n",
    "import pandas as pd\n",
    "\n",
    "df = pd.DataFrame([b.as_dict() for b in flat_blocks])\n",
    "print('Block types found:', df['type'].unique())\n",
    "df.head(20)  # Show first 20 blocks"
   ]
  },
  {
   "cell_type": "code",
   "execution_count": null,
   "id": "5a0e173d",
   "metadata": {},
   "outputs": [],
   "source": [
    "# 8. Simple metadata extraction (title, authors, abstract)\n",
    "def extract_metadata(blocks: List[SimplifiedBlock]):\n",
    "    title = next((b.content for b in blocks if b.type.lower() in {'title', 'main_title'}), '')\n",
    "    authors = next((b.content for b in blocks if 'author' in b.type.lower()), '')\n",
    "    abstract = next((b.content for b in blocks if 'abstract' in b.type.lower()), '')\n",
    "    return {'title': title, 'authors': authors, 'abstract': abstract}\n",
    "\n",
    "metadata = extract_metadata(flat_blocks)\n",
    "print('Extracted Metadata:', metadata)"
   ]
  },
  {
   "cell_type": "code",
   "execution_count": null,
   "id": "7b8b19d2",
   "metadata": {},
   "outputs": [],
   "source": [
    "# 9. Find and display all tables and figures (with extensibility for custom processing)\n",
    "tables = [b for b in flat_blocks if b.type == 'Table']\n",
    "figures = [b for b in flat_blocks if b.type == 'Figure' or b.type == 'Picture']\n",
    "\n",
    "print(f'Found {len(tables)} tables and {len(figures)} figures.')\n",
    "\n",
    "# Example: Show first table's HTML (for further processing)\n",
    "if tables:\n",
    "    from IPython.display import display, HTML\n",
    "    print('First table HTML:')\n",
    "    display(HTML(tables[0].content))\n",
    "\n",
    "# Example: Show first figure as image (if base64-encoded)\n",
    "import base64\n",
    "from IPython.display import Image\n",
    "\n",
    "def show_base64_image(b64str):\n",
    "    try:\n",
    "        display(Image(data=base64.b64decode(b64str)))\n",
    "    except Exception as e:\n",
    "        print('Could not display image:', e)\n",
    "\n",
    "if figures:\n",
    "    print('First figure (if image):')\n",
    "    show_base64_image(figures[0].content)"
   ]
  },
  {
   "cell_type": "code",
   "execution_count": null,
   "id": "67298ff1",
   "metadata": {},
   "outputs": [],
   "source": [
    "# 10. (Optional) Extensible: Add your own logic to process tables/figures, e.g., send table HTML to a model, extract captions, etc.\n",
    "# (No LLM-based summarization or captioning included)"
   ]
  },
  {
   "cell_type": "code",
   "execution_count": null,
   "id": "3b0329a2",
   "metadata": {},
   "outputs": [],
   "source": [
    "# 11. Save flattened blocks for further analysis\n",
    "df.to_json('flattened_blocks.json', orient='records', indent=2)\n",
    "from google.colab import files\n",
    "files.download('flattened_blocks.json')"
   ]
  }
 ],
 "metadata": {
  "kernelspec": {
   "display_name": "Python 3",
   "language": "python",
   "name": "python3"
  },
  "language_info": {
   "name": "python",
   "version": "3.10.17"
  }
 },
 "nbformat": 4,
 "nbformat_minor": 5
}
