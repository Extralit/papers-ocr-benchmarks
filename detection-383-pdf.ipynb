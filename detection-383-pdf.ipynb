{
 "cells": [
  {
   "cell_type": "code",
   "execution_count": 11,
   "id": "b85a29f7",
   "metadata": {},
   "outputs": [],
   "source": [
    "import os\n",
    "import fitz  \n",
    "import pandas as pd\n",
    "from pymupdf4llm import to_markdown"
   ]
  },
  {
   "cell_type": "code",
   "execution_count": 12,
   "id": "e48f2000",
   "metadata": {},
   "outputs": [],
   "source": [
    "def is_scanned_pdf(pdf_path):\n",
    "    \"\"\"\n",
    "    Returns True if the PDF likely lacks embedded text, False if born-digital/text-PDF.\n",
    "    Returns None on error.\n",
    "    \"\"\"\n",
    "    try:\n",
    "        doc = fitz.open(pdf_path)\n",
    "        # Consider all pages for robust detection\n",
    "        pages_to_check = min(3, len(doc))\n",
    "        for i in range(pages_to_check):\n",
    "            text = doc[i].get_text().strip()\n",
    "            if text:\n",
    "                return False  # Found embedded text, so not scanned\n",
    "        return True  # No text found in checked pages\n",
    "    except Exception:\n",
    "        return None\n",
    "\n",
    "def analyze_pdf(pdf_path):\n",
    "    \"\"\"Analyze a single PDF file and return a dict with its properties\"\"\"\n",
    "    record = {\n",
    "        'filename': os.path.basename(pdf_path),\n",
    "        'file_size_mb': round(os.path.getsize(pdf_path) / (1024*1024), 3)\n",
    "    }\n",
    "    try:\n",
    "        doc = fitz.open(pdf_path)\n",
    "        record['page_count'] = len(doc)\n",
    "        toc = doc.get_toc()\n",
    "        record['has_toc'] = bool(toc)\n",
    "        record['toc_entries'] = len(toc) if toc else 0\n",
    "        record['is_scanned'] = is_scanned_pdf(pdf_path)\n",
    "        try:\n",
    "            md = to_markdown(doc, pages=[0])  # check only first page for output\n",
    "            record['markdown_status'] = 'success' if md.strip() else 'empty'\n",
    "        except Exception:\n",
    "            record['markdown_status'] = 'error'\n",
    "    except Exception as e:\n",
    "        record['page_count'] = None\n",
    "        record['has_toc'] = None\n",
    "        record['toc_entries'] = None\n",
    "        record['is_scanned'] = None\n",
    "        record['markdown_status'] = 'error'\n",
    "    return record\n",
    "\n",
    "# PDF Folder with 383 pdfs\n",
    "pdf_folder = \"383-pdfs\"  "
   ]
  },
  {
   "cell_type": "code",
   "execution_count": 13,
   "id": "def22e5d",
   "metadata": {},
   "outputs": [
    {
     "name": "stdout",
     "output_type": "stream",
     "text": [
      "MuPDF error: format error: cmsOpenProfileFromMem failed\n",
      "\n",
      "MuPDF error: format error: cmsOpenProfileFromMem failed\n",
      "\n",
      "MuPDF error: format error: cmsOpenProfileFromMem failed\n",
      "\n",
      "MuPDF error: format error: cmsOpenProfileFromMem failed\n",
      "\n"
     ]
    }
   ],
   "source": [
    "# List all PDFs in the folder, analyze each, store results\n",
    "records = []\n",
    "file_list = sorted([f for f in os.listdir(pdf_folder) if f.lower().endswith('.pdf')])\n",
    "\n",
    "for fname in file_list:\n",
    "    fpath = os.path.join(pdf_folder, fname)\n",
    "    rec = analyze_pdf(fpath)\n",
    "    records.append(rec)"
   ]
  },
  {
   "cell_type": "code",
   "execution_count": 14,
   "id": "b43064bf",
   "metadata": {},
   "outputs": [
    {
     "name": "stdout",
     "output_type": "stream",
     "text": [
      "✅ Saved detail table to pdfs_analysis_table.csv\n"
     ]
    },
    {
     "data": {
      "text/html": [
       "<div>\n",
       "<style scoped>\n",
       "    .dataframe tbody tr th:only-of-type {\n",
       "        vertical-align: middle;\n",
       "    }\n",
       "\n",
       "    .dataframe tbody tr th {\n",
       "        vertical-align: top;\n",
       "    }\n",
       "\n",
       "    .dataframe thead th {\n",
       "        text-align: right;\n",
       "    }\n",
       "</style>\n",
       "<table border=\"1\" class=\"dataframe\">\n",
       "  <thead>\n",
       "    <tr style=\"text-align: right;\">\n",
       "      <th></th>\n",
       "      <th>filename</th>\n",
       "      <th>file_size_mb</th>\n",
       "      <th>page_count</th>\n",
       "      <th>has_toc</th>\n",
       "      <th>toc_entries</th>\n",
       "      <th>is_scanned</th>\n",
       "      <th>markdown_status</th>\n",
       "    </tr>\n",
       "  </thead>\n",
       "  <tbody>\n",
       "    <tr>\n",
       "      <th>0</th>\n",
       "      <td>12936_2015_Article_885_pdf.pdf</td>\n",
       "      <td>0.641</td>\n",
       "      <td>15</td>\n",
       "      <td>True</td>\n",
       "      <td>30</td>\n",
       "      <td>False</td>\n",
       "      <td>success</td>\n",
       "    </tr>\n",
       "    <tr>\n",
       "      <th>1</th>\n",
       "      <td>1_s20_S2667114X21000248_main.pdf</td>\n",
       "      <td>0.235</td>\n",
       "      <td>6</td>\n",
       "      <td>True</td>\n",
       "      <td>25</td>\n",
       "      <td>False</td>\n",
       "      <td>success</td>\n",
       "    </tr>\n",
       "    <tr>\n",
       "      <th>2</th>\n",
       "      <td>1_s20_S2667114X21000418_main.pdf</td>\n",
       "      <td>1.320</td>\n",
       "      <td>13</td>\n",
       "      <td>True</td>\n",
       "      <td>26</td>\n",
       "      <td>False</td>\n",
       "      <td>success</td>\n",
       "    </tr>\n",
       "    <tr>\n",
       "      <th>3</th>\n",
       "      <td>2010-Incidence_of_malaria_and_efficacy_of_comb...</td>\n",
       "      <td>0.530</td>\n",
       "      <td>8</td>\n",
       "      <td>False</td>\n",
       "      <td>0</td>\n",
       "      <td>False</td>\n",
       "      <td>success</td>\n",
       "    </tr>\n",
       "    <tr>\n",
       "      <th>4</th>\n",
       "      <td>2011-Intermittent_preventive_treatment_of_mala...</td>\n",
       "      <td>0.390</td>\n",
       "      <td>14</td>\n",
       "      <td>False</td>\n",
       "      <td>0</td>\n",
       "      <td>False</td>\n",
       "      <td>success</td>\n",
       "    </tr>\n",
       "  </tbody>\n",
       "</table>\n",
       "</div>"
      ],
      "text/plain": [
       "                                            filename  file_size_mb  \\\n",
       "0                     12936_2015_Article_885_pdf.pdf         0.641   \n",
       "1                   1_s20_S2667114X21000248_main.pdf         0.235   \n",
       "2                   1_s20_S2667114X21000418_main.pdf         1.320   \n",
       "3  2010-Incidence_of_malaria_and_efficacy_of_comb...         0.530   \n",
       "4  2011-Intermittent_preventive_treatment_of_mala...         0.390   \n",
       "\n",
       "   page_count  has_toc  toc_entries  is_scanned markdown_status  \n",
       "0          15     True           30       False         success  \n",
       "1           6     True           25       False         success  \n",
       "2          13     True           26       False         success  \n",
       "3           8    False            0       False         success  \n",
       "4          14    False            0       False         success  "
      ]
     },
     "execution_count": 14,
     "metadata": {},
     "output_type": "execute_result"
    }
   ],
   "source": [
    "df = pd.DataFrame(records)\n",
    "df.to_csv(\"pdfs_analysis_table.csv\", index=False)\n",
    "print(\"✅ Saved detail table to pdfs_analysis_table.csv\")\n",
    "df.head()  # show first rows for confirmation"
   ]
  },
  {
   "cell_type": "code",
   "execution_count": 15,
   "id": "9c6e90b2",
   "metadata": {},
   "outputs": [
    {
     "name": "stdout",
     "output_type": "stream",
     "text": [
      "✅ Saved detail table to 383-pdfs\\pdfs_analysis_table.csv\n"
     ]
    }
   ],
   "source": [
    "df.to_csv(os.path.join(pdf_folder, \"pdfs_analysis_table.csv\"), index=False)\n",
    "print(f\"✅ Saved detail table to {os.path.join(pdf_folder, 'pdfs_analysis_table.csv')}\")"
   ]
  }
 ],
 "metadata": {
  "kernelspec": {
   "display_name": "venv",
   "language": "python",
   "name": "python3"
  },
  "language_info": {
   "codemirror_mode": {
    "name": "ipython",
    "version": 3
   },
   "file_extension": ".py",
   "mimetype": "text/x-python",
   "name": "python",
   "nbconvert_exporter": "python",
   "pygments_lexer": "ipython3",
   "version": "3.12.4"
  }
 },
 "nbformat": 4,
 "nbformat_minor": 5
}
