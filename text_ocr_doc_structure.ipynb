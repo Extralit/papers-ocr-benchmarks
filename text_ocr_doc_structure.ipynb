{
  "cells": [
    {
      "cell_type": "markdown",
      "metadata": {
        "id": "view-in-github",
        "colab_type": "text"
      },
      "source": [
        "<a href=\"https://colab.research.google.com/github/Extralit/papers-ocr-benchmarks/blob/main/text_ocr_doc_structure.ipynb\" target=\"_parent\"><img src=\"https://colab.research.google.com/assets/colab-badge.svg\" alt=\"Open In Colab\"/></a>"
      ]
    },
    {
      "cell_type": "markdown",
      "id": "41f7e972",
      "metadata": {
        "id": "41f7e972"
      },
      "source": [
        "# Explore doc OCR methods for text and header structure extraction\n",
        "\n",
        "Self-contained, Google Colab-ready.\n",
        "\n",
        "- Upload a PDF and extract markdown\n"
      ]
    },
    {
      "cell_type": "code",
      "execution_count": 74,
      "id": "5ec80635",
      "metadata": {
        "id": "5ec80635"
      },
      "outputs": [],
      "source": [
        "# 1. Install marker-pdf and dependencies\n",
        "!uv pip install --quiet marker-pdf[full] docling\n",
        "!uv pip install -q \"mineru[all]\"\n",
        "!uv pip install -q \"PyMuPDF>=1.23.0\" \"pandas>=1.5.0\"\n",
        "!uv pip install -q pymupdf4llm pdf4llm llama_index\n",
        "!uv pip install -q \"matplotlib>=3.5.0\" \"seaborn>=0.11.0\" \"textdistance>=4.6.0\""
      ]
    },
    {
      "cell_type": "code",
      "source": [
        "from IPython.display import HTML, display, JSON, Markdown\n",
        "from pprint import pprint"
      ],
      "metadata": {
        "id": "S9g8hddio-km"
      },
      "id": "S9g8hddio-km",
      "execution_count": 128,
      "outputs": []
    },
    {
      "cell_type": "code",
      "execution_count": 70,
      "id": "a878649c",
      "metadata": {
        "colab": {
          "base_uri": "https://localhost:8080/"
        },
        "id": "a878649c",
        "outputId": "13345f41-7dfc-421b-ce20-acca8f165796"
      },
      "outputs": [
        {
          "output_type": "stream",
          "name": "stdout",
          "text": [
            "\u001b[33mhint: Using 'master' as the name for the initial branch. This default branch name\u001b[m\n",
            "\u001b[33mhint: is subject to change. To configure the initial branch name to use in all\u001b[m\n",
            "\u001b[33mhint: of your new repositories, which will suppress this warning, call:\u001b[m\n",
            "\u001b[33mhint: \u001b[m\n",
            "\u001b[33mhint: \tgit config --global init.defaultBranch <name>\u001b[m\n",
            "\u001b[33mhint: \u001b[m\n",
            "\u001b[33mhint: Names commonly chosen instead of 'master' are 'main', 'trunk' and\u001b[m\n",
            "\u001b[33mhint: 'development'. The just-created branch can be renamed via this command:\u001b[m\n",
            "\u001b[33mhint: \u001b[m\n",
            "\u001b[33mhint: \tgit branch -m <name>\u001b[m\n",
            "Initialized empty Git repository in /content/.git/\n",
            "remote: Enumerating objects: 108, done.\u001b[K\n",
            "remote: Counting objects: 100% (108/108), done.\u001b[K\n",
            "remote: Compressing objects: 100% (79/79), done.\u001b[K\n",
            "remote: Total 108 (delta 46), reused 68 (delta 26), pack-reused 0 (from 0)\u001b[K\n",
            "Receiving objects: 100% (108/108), 15.18 MiB | 8.83 MiB/s, done.\n",
            "Resolving deltas: 100% (46/46), done.\n",
            "From https://github.com/Extralit/papers-ocr-benchmarks\n",
            " * branch            main       -> FETCH_HEAD\n",
            " * [new branch]      main       -> origin/main\n"
          ]
        }
      ],
      "source": [
        "# prompt: clone from this repo sub dir https://github.com/Extralit/papers-ocr-benchmarks/tree/main/pdfs\n",
        "\n",
        "!git init .\n",
        "!git remote add origin https://github.com/Extralit/papers-ocr-benchmarks.git\n",
        "!git config core.sparseCheckout true\n",
        "!echo \"pdfs/*\" >> .git/info/sparse-checkout\n",
        "!git pull origin main\n",
        "\n",
        "\n",
        "# from google.colab import files\n",
        "# uploaded = files.upload()\n",
        "# pdf_path = next(iter(uploaded))"
      ]
    },
    {
      "cell_type": "code",
      "source": [
        "file_path = \"/content/pdfs/Allossogbe_et_al_2017_Mal_J.pdf\"\n",
        "# file_path = \"/content/pdfs/Mbogo_et_al_1996_Med_Vet_Ento.pdf\""
      ],
      "metadata": {
        "id": "UsqxR8ezlgLr"
      },
      "id": "UsqxR8ezlgLr",
      "execution_count": 130,
      "outputs": []
    },
    {
      "cell_type": "markdown",
      "source": [
        "## MinerU"
      ],
      "metadata": {
        "id": "D9q3Jl4Kl-YU"
      },
      "id": "D9q3Jl4Kl-YU"
    },
    {
      "cell_type": "code",
      "source": [
        "%%time\n",
        "!mineru -p /content/Allossogbe_et_al_2017_Mal_J.pdf -o /content/mineru_output/"
      ],
      "metadata": {
        "colab": {
          "base_uri": "https://localhost:8080/"
        },
        "id": "WuFa8Vw9l_mJ",
        "outputId": "c182d611-d611-4720-87a9-560e959101ee"
      },
      "id": "WuFa8Vw9l_mJ",
      "execution_count": 29,
      "outputs": [
        {
          "output_type": "stream",
          "name": "stdout",
          "text": [
            "\u001b[32m2025-07-08 20:03:55.332\u001b[0m | \u001b[1mINFO    \u001b[0m | \u001b[36mmineru.backend.pipeline.pipeline_analyze\u001b[0m:\u001b[36mdoc_analyze\u001b[0m:\u001b[36m124\u001b[0m - \u001b[1mBatch 1/1: 11 pages/11 pages\u001b[0m\n",
            "\u001b[32m2025-07-08 20:03:55.334\u001b[0m | \u001b[1mINFO    \u001b[0m | \u001b[36mmineru.backend.pipeline.pipeline_analyze\u001b[0m:\u001b[36mbatch_image_analyze\u001b[0m:\u001b[36m187\u001b[0m - \u001b[1mgpu_memory: 15 GB, batch_ratio: 8\u001b[0m\n",
            "\u001b[32m2025-07-08 20:03:55.334\u001b[0m | \u001b[1mINFO    \u001b[0m | \u001b[36mmineru.backend.pipeline.model_init\u001b[0m:\u001b[36m__init__\u001b[0m:\u001b[36m137\u001b[0m - \u001b[1mDocAnalysis init, this may take some times......\u001b[0m\n",
            "\u001b[32m2025-07-08 20:04:09.188\u001b[0m | \u001b[1mINFO    \u001b[0m | \u001b[36mmineru.backend.pipeline.model_init\u001b[0m:\u001b[36m__init__\u001b[0m:\u001b[36m182\u001b[0m - \u001b[1mDocAnalysis init done!\u001b[0m\n",
            "\u001b[32m2025-07-08 20:04:09.189\u001b[0m | \u001b[1mINFO    \u001b[0m | \u001b[36mmineru.backend.pipeline.pipeline_analyze\u001b[0m:\u001b[36mcustom_model_init\u001b[0m:\u001b[36m64\u001b[0m - \u001b[1mmodel init cost: 13.854581832885742\u001b[0m\n",
            "Layout Predict: 100% 11/11 [00:02<00:00,  4.03it/s]\n",
            "MFD Predict: 100% 11/11 [00:04<00:00,  2.23it/s]\n",
            "MFR Predict: 100% 140/140 [00:06<00:00, 21.88it/s]\n",
            "OCR-det ch: 100% 65/65 [00:09<00:00,  7.19it/s]\n",
            "Table Predict: 100% 4/4 [00:07<00:00,  1.76s/it]\n",
            "Processing pages: 100% 11/11 [00:09<00:00,  1.15it/s]\n",
            "OCR-rec Predict: 100% 5/5 [00:00<00:00, 44.46it/s]\n",
            "\u001b[32m2025-07-08 20:04:56.216\u001b[0m | \u001b[1mINFO    \u001b[0m | \u001b[36mmineru.cli.common\u001b[0m:\u001b[36m_process_output\u001b[0m:\u001b[36m156\u001b[0m - \u001b[1mlocal output dir is /content/mineru_output/Allossogbe_et_al_2017_Mal_J/auto\u001b[0m\n",
            "CPU times: user 1min 20s, sys: 3.46 s, total: 1min 23s\n",
            "Wall time: 1min 45s\n"
          ]
        }
      ]
    },
    {
      "cell_type": "markdown",
      "source": [
        "## Docling"
      ],
      "metadata": {
        "id": "ohTKa7CgdLJJ"
      },
      "id": "ohTKa7CgdLJJ"
    },
    {
      "cell_type": "code",
      "source": [
        "%%time\n",
        "from docling.document_converter import DocumentConverter\n",
        "converter = DocumentConverter()\n",
        "result = converter.convert(file_path)"
      ],
      "metadata": {
        "colab": {
          "base_uri": "https://localhost:8080/",
          "height": 401
        },
        "id": "ORt9zc6IdMS9",
        "outputId": "4ed6fdad-56bf-4750-c48b-993111cfb7fc"
      },
      "id": "ORt9zc6IdMS9",
      "execution_count": 81,
      "outputs": [
        {
          "output_type": "error",
          "ename": "KeyboardInterrupt",
          "evalue": "",
          "traceback": [
            "\u001b[0;31m---------------------------------------------------------------------------\u001b[0m",
            "\u001b[0;31mKeyboardInterrupt\u001b[0m                         Traceback (most recent call last)",
            "\u001b[0;32m<timed exec>\u001b[0m in \u001b[0;36m<module>\u001b[0;34m\u001b[0m\n",
            "\u001b[0;32m/usr/local/lib/python3.11/dist-packages/pydantic/_internal/_validate_call.py\u001b[0m in \u001b[0;36mwrapper_function\u001b[0;34m(*args, **kwargs)\u001b[0m\n\u001b[1;32m     37\u001b[0m         \u001b[0;34m@\u001b[0m\u001b[0mfunctools\u001b[0m\u001b[0;34m.\u001b[0m\u001b[0mwraps\u001b[0m\u001b[0;34m(\u001b[0m\u001b[0mwrapped\u001b[0m\u001b[0;34m)\u001b[0m\u001b[0;34m\u001b[0m\u001b[0;34m\u001b[0m\u001b[0m\n\u001b[1;32m     38\u001b[0m         \u001b[0;32mdef\u001b[0m \u001b[0mwrapper_function\u001b[0m\u001b[0;34m(\u001b[0m\u001b[0;34m*\u001b[0m\u001b[0margs\u001b[0m\u001b[0;34m,\u001b[0m \u001b[0;34m**\u001b[0m\u001b[0mkwargs\u001b[0m\u001b[0;34m)\u001b[0m\u001b[0;34m:\u001b[0m\u001b[0;34m\u001b[0m\u001b[0;34m\u001b[0m\u001b[0m\n\u001b[0;32m---> 39\u001b[0;31m             \u001b[0;32mreturn\u001b[0m \u001b[0mwrapper\u001b[0m\u001b[0;34m(\u001b[0m\u001b[0;34m*\u001b[0m\u001b[0margs\u001b[0m\u001b[0;34m,\u001b[0m \u001b[0;34m**\u001b[0m\u001b[0mkwargs\u001b[0m\u001b[0;34m)\u001b[0m\u001b[0;34m\u001b[0m\u001b[0;34m\u001b[0m\u001b[0m\n\u001b[0m\u001b[1;32m     40\u001b[0m \u001b[0;34m\u001b[0m\u001b[0m\n\u001b[1;32m     41\u001b[0m     \u001b[0;31m# We need to manually update this because `partial` object has no `__name__` and `__qualname__`.\u001b[0m\u001b[0;34m\u001b[0m\u001b[0;34m\u001b[0m\u001b[0m\n",
            "\u001b[0;32m/usr/local/lib/python3.11/dist-packages/pydantic/_internal/_validate_call.py\u001b[0m in \u001b[0;36m__call__\u001b[0;34m(self, *args, **kwargs)\u001b[0m\n\u001b[1;32m    134\u001b[0m             \u001b[0mself\u001b[0m\u001b[0;34m.\u001b[0m\u001b[0m_create_validators\u001b[0m\u001b[0;34m(\u001b[0m\u001b[0;34m)\u001b[0m\u001b[0;34m\u001b[0m\u001b[0;34m\u001b[0m\u001b[0m\n\u001b[1;32m    135\u001b[0m \u001b[0;34m\u001b[0m\u001b[0m\n\u001b[0;32m--> 136\u001b[0;31m         \u001b[0mres\u001b[0m \u001b[0;34m=\u001b[0m \u001b[0mself\u001b[0m\u001b[0;34m.\u001b[0m\u001b[0m__pydantic_validator__\u001b[0m\u001b[0;34m.\u001b[0m\u001b[0mvalidate_python\u001b[0m\u001b[0;34m(\u001b[0m\u001b[0mpydantic_core\u001b[0m\u001b[0;34m.\u001b[0m\u001b[0mArgsKwargs\u001b[0m\u001b[0;34m(\u001b[0m\u001b[0margs\u001b[0m\u001b[0;34m,\u001b[0m \u001b[0mkwargs\u001b[0m\u001b[0;34m)\u001b[0m\u001b[0;34m)\u001b[0m\u001b[0;34m\u001b[0m\u001b[0;34m\u001b[0m\u001b[0m\n\u001b[0m\u001b[1;32m    137\u001b[0m         \u001b[0;32mif\u001b[0m \u001b[0mself\u001b[0m\u001b[0;34m.\u001b[0m\u001b[0m__return_pydantic_validator__\u001b[0m\u001b[0;34m:\u001b[0m\u001b[0;34m\u001b[0m\u001b[0;34m\u001b[0m\u001b[0m\n\u001b[1;32m    138\u001b[0m             \u001b[0;32mreturn\u001b[0m \u001b[0mself\u001b[0m\u001b[0;34m.\u001b[0m\u001b[0m__return_pydantic_validator__\u001b[0m\u001b[0;34m(\u001b[0m\u001b[0mres\u001b[0m\u001b[0;34m)\u001b[0m\u001b[0;34m\u001b[0m\u001b[0;34m\u001b[0m\u001b[0m\n",
            "\u001b[0;32m/usr/local/lib/python3.11/dist-packages/docling/document_converter.py\u001b[0m in \u001b[0;36mconvert\u001b[0;34m(self, source, headers, raises_on_error, max_num_pages, max_file_size, page_range)\u001b[0m\n\u001b[1;32m    233\u001b[0m             \u001b[0mpage_range\u001b[0m\u001b[0;34m=\u001b[0m\u001b[0mpage_range\u001b[0m\u001b[0;34m,\u001b[0m\u001b[0;34m\u001b[0m\u001b[0;34m\u001b[0m\u001b[0m\n\u001b[1;32m    234\u001b[0m         )\n\u001b[0;32m--> 235\u001b[0;31m         \u001b[0;32mreturn\u001b[0m \u001b[0mnext\u001b[0m\u001b[0;34m(\u001b[0m\u001b[0mall_res\u001b[0m\u001b[0;34m)\u001b[0m\u001b[0;34m\u001b[0m\u001b[0;34m\u001b[0m\u001b[0m\n\u001b[0m\u001b[1;32m    236\u001b[0m \u001b[0;34m\u001b[0m\u001b[0m\n\u001b[1;32m    237\u001b[0m     \u001b[0;34m@\u001b[0m\u001b[0mvalidate_call\u001b[0m\u001b[0;34m(\u001b[0m\u001b[0mconfig\u001b[0m\u001b[0;34m=\u001b[0m\u001b[0mConfigDict\u001b[0m\u001b[0;34m(\u001b[0m\u001b[0mstrict\u001b[0m\u001b[0;34m=\u001b[0m\u001b[0;32mTrue\u001b[0m\u001b[0;34m)\u001b[0m\u001b[0;34m)\u001b[0m\u001b[0;34m\u001b[0m\u001b[0;34m\u001b[0m\u001b[0m\n",
            "\u001b[0;32m/usr/local/lib/python3.11/dist-packages/docling/document_converter.py\u001b[0m in \u001b[0;36mconvert_all\u001b[0;34m(self, source, headers, raises_on_error, max_num_pages, max_file_size, page_range)\u001b[0m\n\u001b[1;32m    256\u001b[0m \u001b[0;34m\u001b[0m\u001b[0m\n\u001b[1;32m    257\u001b[0m         \u001b[0mhad_result\u001b[0m \u001b[0;34m=\u001b[0m \u001b[0;32mFalse\u001b[0m\u001b[0;34m\u001b[0m\u001b[0;34m\u001b[0m\u001b[0m\n\u001b[0;32m--> 258\u001b[0;31m         \u001b[0;32mfor\u001b[0m \u001b[0mconv_res\u001b[0m \u001b[0;32min\u001b[0m \u001b[0mconv_res_iter\u001b[0m\u001b[0;34m:\u001b[0m\u001b[0;34m\u001b[0m\u001b[0;34m\u001b[0m\u001b[0m\n\u001b[0m\u001b[1;32m    259\u001b[0m             \u001b[0mhad_result\u001b[0m \u001b[0;34m=\u001b[0m \u001b[0;32mTrue\u001b[0m\u001b[0;34m\u001b[0m\u001b[0;34m\u001b[0m\u001b[0m\n\u001b[1;32m    260\u001b[0m             if raises_on_error and conv_res.status not in {\n",
            "\u001b[0;32m/usr/local/lib/python3.11/dist-packages/docling/document_converter.py\u001b[0m in \u001b[0;36m_convert\u001b[0;34m(self, conv_input, raises_on_error)\u001b[0m\n\u001b[1;32m    291\u001b[0m             \u001b[0;31m# Note: PDF backends are not thread-safe, thread pool usage was disabled.\u001b[0m\u001b[0;34m\u001b[0m\u001b[0;34m\u001b[0m\u001b[0m\n\u001b[1;32m    292\u001b[0m \u001b[0;34m\u001b[0m\u001b[0m\n\u001b[0;32m--> 293\u001b[0;31m             for item in map(\n\u001b[0m\u001b[1;32m    294\u001b[0m                 \u001b[0mpartial\u001b[0m\u001b[0;34m(\u001b[0m\u001b[0mself\u001b[0m\u001b[0;34m.\u001b[0m\u001b[0m_process_document\u001b[0m\u001b[0;34m,\u001b[0m \u001b[0mraises_on_error\u001b[0m\u001b[0;34m=\u001b[0m\u001b[0mraises_on_error\u001b[0m\u001b[0;34m)\u001b[0m\u001b[0;34m,\u001b[0m\u001b[0;34m\u001b[0m\u001b[0;34m\u001b[0m\u001b[0m\n\u001b[1;32m    295\u001b[0m                 \u001b[0minput_batch\u001b[0m\u001b[0;34m,\u001b[0m\u001b[0;34m\u001b[0m\u001b[0;34m\u001b[0m\u001b[0m\n",
            "\u001b[0;32m/usr/local/lib/python3.11/dist-packages/docling/document_converter.py\u001b[0m in \u001b[0;36m_process_document\u001b[0;34m(self, in_doc, raises_on_error)\u001b[0m\n\u001b[1;32m    337\u001b[0m         )\n\u001b[1;32m    338\u001b[0m         \u001b[0;32mif\u001b[0m \u001b[0mvalid\u001b[0m\u001b[0;34m:\u001b[0m\u001b[0;34m\u001b[0m\u001b[0;34m\u001b[0m\u001b[0m\n\u001b[0;32m--> 339\u001b[0;31m             \u001b[0mconv_res\u001b[0m \u001b[0;34m=\u001b[0m \u001b[0mself\u001b[0m\u001b[0;34m.\u001b[0m\u001b[0m_execute_pipeline\u001b[0m\u001b[0;34m(\u001b[0m\u001b[0min_doc\u001b[0m\u001b[0;34m,\u001b[0m \u001b[0mraises_on_error\u001b[0m\u001b[0;34m=\u001b[0m\u001b[0mraises_on_error\u001b[0m\u001b[0;34m)\u001b[0m\u001b[0;34m\u001b[0m\u001b[0;34m\u001b[0m\u001b[0m\n\u001b[0m\u001b[1;32m    340\u001b[0m         \u001b[0;32melse\u001b[0m\u001b[0;34m:\u001b[0m\u001b[0;34m\u001b[0m\u001b[0;34m\u001b[0m\u001b[0m\n\u001b[1;32m    341\u001b[0m             \u001b[0merror_message\u001b[0m \u001b[0;34m=\u001b[0m \u001b[0;34mf\"File format not allowed: {in_doc.file}\"\u001b[0m\u001b[0;34m\u001b[0m\u001b[0;34m\u001b[0m\u001b[0m\n",
            "\u001b[0;32m/usr/local/lib/python3.11/dist-packages/docling/document_converter.py\u001b[0m in \u001b[0;36m_execute_pipeline\u001b[0;34m(self, in_doc, raises_on_error)\u001b[0m\n\u001b[1;32m    360\u001b[0m             \u001b[0mpipeline\u001b[0m \u001b[0;34m=\u001b[0m \u001b[0mself\u001b[0m\u001b[0;34m.\u001b[0m\u001b[0m_get_pipeline\u001b[0m\u001b[0;34m(\u001b[0m\u001b[0min_doc\u001b[0m\u001b[0;34m.\u001b[0m\u001b[0mformat\u001b[0m\u001b[0;34m)\u001b[0m\u001b[0;34m\u001b[0m\u001b[0;34m\u001b[0m\u001b[0m\n\u001b[1;32m    361\u001b[0m             \u001b[0;32mif\u001b[0m \u001b[0mpipeline\u001b[0m \u001b[0;32mis\u001b[0m \u001b[0;32mnot\u001b[0m \u001b[0;32mNone\u001b[0m\u001b[0;34m:\u001b[0m\u001b[0;34m\u001b[0m\u001b[0;34m\u001b[0m\u001b[0m\n\u001b[0;32m--> 362\u001b[0;31m                 \u001b[0mconv_res\u001b[0m \u001b[0;34m=\u001b[0m \u001b[0mpipeline\u001b[0m\u001b[0;34m.\u001b[0m\u001b[0mexecute\u001b[0m\u001b[0;34m(\u001b[0m\u001b[0min_doc\u001b[0m\u001b[0;34m,\u001b[0m \u001b[0mraises_on_error\u001b[0m\u001b[0;34m=\u001b[0m\u001b[0mraises_on_error\u001b[0m\u001b[0;34m)\u001b[0m\u001b[0;34m\u001b[0m\u001b[0;34m\u001b[0m\u001b[0m\n\u001b[0m\u001b[1;32m    363\u001b[0m             \u001b[0;32melse\u001b[0m\u001b[0;34m:\u001b[0m\u001b[0;34m\u001b[0m\u001b[0;34m\u001b[0m\u001b[0m\n\u001b[1;32m    364\u001b[0m                 \u001b[0;32mif\u001b[0m \u001b[0mraises_on_error\u001b[0m\u001b[0;34m:\u001b[0m\u001b[0;34m\u001b[0m\u001b[0;34m\u001b[0m\u001b[0m\n",
            "\u001b[0;32m/usr/local/lib/python3.11/dist-packages/docling/pipeline/base_pipeline.py\u001b[0m in \u001b[0;36mexecute\u001b[0;34m(self, in_doc, raises_on_error)\u001b[0m\n\u001b[1;32m     44\u001b[0m                 \u001b[0;31m# These steps are building and assembling the structure of the\u001b[0m\u001b[0;34m\u001b[0m\u001b[0;34m\u001b[0m\u001b[0m\n\u001b[1;32m     45\u001b[0m                 \u001b[0;31m# output DoclingDocument.\u001b[0m\u001b[0;34m\u001b[0m\u001b[0;34m\u001b[0m\u001b[0m\n\u001b[0;32m---> 46\u001b[0;31m                 \u001b[0mconv_res\u001b[0m \u001b[0;34m=\u001b[0m \u001b[0mself\u001b[0m\u001b[0;34m.\u001b[0m\u001b[0m_build_document\u001b[0m\u001b[0;34m(\u001b[0m\u001b[0mconv_res\u001b[0m\u001b[0;34m)\u001b[0m\u001b[0;34m\u001b[0m\u001b[0;34m\u001b[0m\u001b[0m\n\u001b[0m\u001b[1;32m     47\u001b[0m                 \u001b[0mconv_res\u001b[0m \u001b[0;34m=\u001b[0m \u001b[0mself\u001b[0m\u001b[0;34m.\u001b[0m\u001b[0m_assemble_document\u001b[0m\u001b[0;34m(\u001b[0m\u001b[0mconv_res\u001b[0m\u001b[0;34m)\u001b[0m\u001b[0;34m\u001b[0m\u001b[0;34m\u001b[0m\u001b[0m\n\u001b[1;32m     48\u001b[0m                 \u001b[0;31m# From this stage, all operations should rely only on conv_res.output\u001b[0m\u001b[0;34m\u001b[0m\u001b[0;34m\u001b[0m\u001b[0m\n",
            "\u001b[0;32m/usr/local/lib/python3.11/dist-packages/docling/pipeline/base_pipeline.py\u001b[0m in \u001b[0;36m_build_document\u001b[0;34m(self, conv_res)\u001b[0m\n\u001b[1;32m    158\u001b[0m                     \u001b[0mpipeline_pages\u001b[0m \u001b[0;34m=\u001b[0m \u001b[0mself\u001b[0m\u001b[0;34m.\u001b[0m\u001b[0m_apply_on_pages\u001b[0m\u001b[0;34m(\u001b[0m\u001b[0mconv_res\u001b[0m\u001b[0;34m,\u001b[0m \u001b[0minit_pages\u001b[0m\u001b[0;34m)\u001b[0m\u001b[0;34m\u001b[0m\u001b[0;34m\u001b[0m\u001b[0m\n\u001b[1;32m    159\u001b[0m \u001b[0;34m\u001b[0m\u001b[0m\n\u001b[0;32m--> 160\u001b[0;31m                     \u001b[0;32mfor\u001b[0m \u001b[0mp\u001b[0m \u001b[0;32min\u001b[0m \u001b[0mpipeline_pages\u001b[0m\u001b[0;34m:\u001b[0m  \u001b[0;31m# Must exhaust!\u001b[0m\u001b[0;34m\u001b[0m\u001b[0;34m\u001b[0m\u001b[0m\n\u001b[0m\u001b[1;32m    161\u001b[0m                         \u001b[0;31m# Cleanup cached images\u001b[0m\u001b[0;34m\u001b[0m\u001b[0;34m\u001b[0m\u001b[0m\n\u001b[1;32m    162\u001b[0m                         \u001b[0;32mif\u001b[0m \u001b[0;32mnot\u001b[0m \u001b[0mself\u001b[0m\u001b[0;34m.\u001b[0m\u001b[0mkeep_images\u001b[0m\u001b[0;34m:\u001b[0m\u001b[0;34m\u001b[0m\u001b[0;34m\u001b[0m\u001b[0m\n",
            "\u001b[0;32m/usr/local/lib/python3.11/dist-packages/docling/pipeline/base_pipeline.py\u001b[0m in \u001b[0;36m_apply_on_pages\u001b[0;34m(self, conv_res, page_batch)\u001b[0m\n\u001b[1;32m    124\u001b[0m             \u001b[0mpage_batch\u001b[0m \u001b[0;34m=\u001b[0m \u001b[0mmodel\u001b[0m\u001b[0;34m(\u001b[0m\u001b[0mconv_res\u001b[0m\u001b[0;34m,\u001b[0m \u001b[0mpage_batch\u001b[0m\u001b[0;34m)\u001b[0m\u001b[0;34m\u001b[0m\u001b[0;34m\u001b[0m\u001b[0m\n\u001b[1;32m    125\u001b[0m \u001b[0;34m\u001b[0m\u001b[0m\n\u001b[0;32m--> 126\u001b[0;31m         \u001b[0;32myield\u001b[0m \u001b[0;32mfrom\u001b[0m \u001b[0mpage_batch\u001b[0m\u001b[0;34m\u001b[0m\u001b[0;34m\u001b[0m\u001b[0m\n\u001b[0m\u001b[1;32m    127\u001b[0m \u001b[0;34m\u001b[0m\u001b[0m\n\u001b[1;32m    128\u001b[0m     \u001b[0;32mdef\u001b[0m \u001b[0m_build_document\u001b[0m\u001b[0;34m(\u001b[0m\u001b[0mself\u001b[0m\u001b[0;34m,\u001b[0m \u001b[0mconv_res\u001b[0m\u001b[0;34m:\u001b[0m \u001b[0mConversionResult\u001b[0m\u001b[0;34m)\u001b[0m \u001b[0;34m->\u001b[0m \u001b[0mConversionResult\u001b[0m\u001b[0;34m:\u001b[0m\u001b[0;34m\u001b[0m\u001b[0;34m\u001b[0m\u001b[0m\n",
            "\u001b[0;32m/usr/local/lib/python3.11/dist-packages/docling/models/page_assemble_model.py\u001b[0m in \u001b[0;36m__call__\u001b[0;34m(self, conv_res, page_batch)\u001b[0m\n\u001b[1;32m     68\u001b[0m         \u001b[0mself\u001b[0m\u001b[0;34m,\u001b[0m \u001b[0mconv_res\u001b[0m\u001b[0;34m:\u001b[0m \u001b[0mConversionResult\u001b[0m\u001b[0;34m,\u001b[0m \u001b[0mpage_batch\u001b[0m\u001b[0;34m:\u001b[0m \u001b[0mIterable\u001b[0m\u001b[0;34m[\u001b[0m\u001b[0mPage\u001b[0m\u001b[0;34m]\u001b[0m\u001b[0;34m\u001b[0m\u001b[0;34m\u001b[0m\u001b[0m\n\u001b[1;32m     69\u001b[0m     ) -> Iterable[Page]:\n\u001b[0;32m---> 70\u001b[0;31m         \u001b[0;32mfor\u001b[0m \u001b[0mpage\u001b[0m \u001b[0;32min\u001b[0m \u001b[0mpage_batch\u001b[0m\u001b[0;34m:\u001b[0m\u001b[0;34m\u001b[0m\u001b[0;34m\u001b[0m\u001b[0m\n\u001b[0m\u001b[1;32m     71\u001b[0m             \u001b[0;32massert\u001b[0m \u001b[0mpage\u001b[0m\u001b[0;34m.\u001b[0m\u001b[0m_backend\u001b[0m \u001b[0;32mis\u001b[0m \u001b[0;32mnot\u001b[0m \u001b[0;32mNone\u001b[0m\u001b[0;34m\u001b[0m\u001b[0;34m\u001b[0m\u001b[0m\n\u001b[1;32m     72\u001b[0m             \u001b[0;32mif\u001b[0m \u001b[0;32mnot\u001b[0m \u001b[0mpage\u001b[0m\u001b[0;34m.\u001b[0m\u001b[0m_backend\u001b[0m\u001b[0;34m.\u001b[0m\u001b[0mis_valid\u001b[0m\u001b[0;34m(\u001b[0m\u001b[0;34m)\u001b[0m\u001b[0;34m:\u001b[0m\u001b[0;34m\u001b[0m\u001b[0;34m\u001b[0m\u001b[0m\n",
            "\u001b[0;32m/usr/local/lib/python3.11/dist-packages/docling/models/table_structure_model.py\u001b[0m in \u001b[0;36m__call__\u001b[0;34m(self, conv_res, page_batch)\u001b[0m\n\u001b[1;32m    175\u001b[0m             \u001b[0;32mreturn\u001b[0m\u001b[0;34m\u001b[0m\u001b[0;34m\u001b[0m\u001b[0m\n\u001b[1;32m    176\u001b[0m \u001b[0;34m\u001b[0m\u001b[0m\n\u001b[0;32m--> 177\u001b[0;31m         \u001b[0;32mfor\u001b[0m \u001b[0mpage\u001b[0m \u001b[0;32min\u001b[0m \u001b[0mpage_batch\u001b[0m\u001b[0;34m:\u001b[0m\u001b[0;34m\u001b[0m\u001b[0;34m\u001b[0m\u001b[0m\n\u001b[0m\u001b[1;32m    178\u001b[0m             \u001b[0;32massert\u001b[0m \u001b[0mpage\u001b[0m\u001b[0;34m.\u001b[0m\u001b[0m_backend\u001b[0m \u001b[0;32mis\u001b[0m \u001b[0;32mnot\u001b[0m \u001b[0;32mNone\u001b[0m\u001b[0;34m\u001b[0m\u001b[0;34m\u001b[0m\u001b[0m\n\u001b[1;32m    179\u001b[0m             \u001b[0;32mif\u001b[0m \u001b[0;32mnot\u001b[0m \u001b[0mpage\u001b[0m\u001b[0;34m.\u001b[0m\u001b[0m_backend\u001b[0m\u001b[0;34m.\u001b[0m\u001b[0mis_valid\u001b[0m\u001b[0;34m(\u001b[0m\u001b[0;34m)\u001b[0m\u001b[0;34m:\u001b[0m\u001b[0;34m\u001b[0m\u001b[0;34m\u001b[0m\u001b[0m\n",
            "\u001b[0;32m/usr/local/lib/python3.11/dist-packages/docling/models/layout_model.py\u001b[0m in \u001b[0;36m__call__\u001b[0;34m(self, conv_res, page_batch)\u001b[0m\n\u001b[1;32m    147\u001b[0m         \u001b[0mself\u001b[0m\u001b[0;34m,\u001b[0m \u001b[0mconv_res\u001b[0m\u001b[0;34m:\u001b[0m \u001b[0mConversionResult\u001b[0m\u001b[0;34m,\u001b[0m \u001b[0mpage_batch\u001b[0m\u001b[0;34m:\u001b[0m \u001b[0mIterable\u001b[0m\u001b[0;34m[\u001b[0m\u001b[0mPage\u001b[0m\u001b[0;34m]\u001b[0m\u001b[0;34m\u001b[0m\u001b[0;34m\u001b[0m\u001b[0m\n\u001b[1;32m    148\u001b[0m     ) -> Iterable[Page]:\n\u001b[0;32m--> 149\u001b[0;31m         \u001b[0;32mfor\u001b[0m \u001b[0mpage\u001b[0m \u001b[0;32min\u001b[0m \u001b[0mpage_batch\u001b[0m\u001b[0;34m:\u001b[0m\u001b[0;34m\u001b[0m\u001b[0;34m\u001b[0m\u001b[0m\n\u001b[0m\u001b[1;32m    150\u001b[0m             \u001b[0;32massert\u001b[0m \u001b[0mpage\u001b[0m\u001b[0;34m.\u001b[0m\u001b[0m_backend\u001b[0m \u001b[0;32mis\u001b[0m \u001b[0;32mnot\u001b[0m \u001b[0;32mNone\u001b[0m\u001b[0;34m\u001b[0m\u001b[0;34m\u001b[0m\u001b[0m\n\u001b[1;32m    151\u001b[0m             \u001b[0;32mif\u001b[0m \u001b[0;32mnot\u001b[0m \u001b[0mpage\u001b[0m\u001b[0;34m.\u001b[0m\u001b[0m_backend\u001b[0m\u001b[0;34m.\u001b[0m\u001b[0mis_valid\u001b[0m\u001b[0;34m(\u001b[0m\u001b[0;34m)\u001b[0m\u001b[0;34m:\u001b[0m\u001b[0;34m\u001b[0m\u001b[0;34m\u001b[0m\u001b[0m\n",
            "\u001b[0;32m/usr/local/lib/python3.11/dist-packages/docling/models/easyocr_model.py\u001b[0m in \u001b[0;36m__call__\u001b[0;34m(self, conv_res, page_batch)\u001b[0m\n\u001b[1;32m    148\u001b[0m                         )\n\u001b[1;32m    149\u001b[0m                         \u001b[0mim\u001b[0m \u001b[0;34m=\u001b[0m \u001b[0mnumpy\u001b[0m\u001b[0;34m.\u001b[0m\u001b[0marray\u001b[0m\u001b[0;34m(\u001b[0m\u001b[0mhigh_res_image\u001b[0m\u001b[0;34m)\u001b[0m\u001b[0;34m\u001b[0m\u001b[0;34m\u001b[0m\u001b[0m\n\u001b[0;32m--> 150\u001b[0;31m                         \u001b[0mresult\u001b[0m \u001b[0;34m=\u001b[0m \u001b[0mself\u001b[0m\u001b[0;34m.\u001b[0m\u001b[0mreader\u001b[0m\u001b[0;34m.\u001b[0m\u001b[0mreadtext\u001b[0m\u001b[0;34m(\u001b[0m\u001b[0mim\u001b[0m\u001b[0;34m)\u001b[0m\u001b[0;34m\u001b[0m\u001b[0;34m\u001b[0m\u001b[0m\n\u001b[0m\u001b[1;32m    151\u001b[0m \u001b[0;34m\u001b[0m\u001b[0m\n\u001b[1;32m    152\u001b[0m                         \u001b[0;32mdel\u001b[0m \u001b[0mhigh_res_image\u001b[0m\u001b[0;34m\u001b[0m\u001b[0;34m\u001b[0m\u001b[0m\n",
            "\u001b[0;32m/usr/local/lib/python3.11/dist-packages/easyocr/easyocr.py\u001b[0m in \u001b[0;36mreadtext\u001b[0;34m(self, image, decoder, beamWidth, batch_size, workers, allowlist, blocklist, detail, rotation_info, paragraph, min_size, contrast_ths, adjust_contrast, filter_ths, text_threshold, low_text, link_threshold, canvas_size, mag_ratio, slope_ths, ycenter_ths, height_ths, width_ths, y_ths, x_ths, add_margin, threshold, bbox_min_score, bbox_min_size, max_candidates, output_format)\u001b[0m\n\u001b[1;32m    454\u001b[0m         \u001b[0mimg\u001b[0m\u001b[0;34m,\u001b[0m \u001b[0mimg_cv_grey\u001b[0m \u001b[0;34m=\u001b[0m \u001b[0mreformat_input\u001b[0m\u001b[0;34m(\u001b[0m\u001b[0mimage\u001b[0m\u001b[0;34m)\u001b[0m\u001b[0;34m\u001b[0m\u001b[0;34m\u001b[0m\u001b[0m\n\u001b[1;32m    455\u001b[0m \u001b[0;34m\u001b[0m\u001b[0m\n\u001b[0;32m--> 456\u001b[0;31m         horizontal_list, free_list = self.detect(img, \n\u001b[0m\u001b[1;32m    457\u001b[0m                                                  \u001b[0mmin_size\u001b[0m \u001b[0;34m=\u001b[0m \u001b[0mmin_size\u001b[0m\u001b[0;34m,\u001b[0m \u001b[0mtext_threshold\u001b[0m \u001b[0;34m=\u001b[0m \u001b[0mtext_threshold\u001b[0m\u001b[0;34m,\u001b[0m\u001b[0;31m\\\u001b[0m\u001b[0;34m\u001b[0m\u001b[0;34m\u001b[0m\u001b[0m\n\u001b[1;32m    458\u001b[0m                                                  \u001b[0mlow_text\u001b[0m \u001b[0;34m=\u001b[0m \u001b[0mlow_text\u001b[0m\u001b[0;34m,\u001b[0m \u001b[0mlink_threshold\u001b[0m \u001b[0;34m=\u001b[0m \u001b[0mlink_threshold\u001b[0m\u001b[0;34m,\u001b[0m\u001b[0;31m\\\u001b[0m\u001b[0;34m\u001b[0m\u001b[0;34m\u001b[0m\u001b[0m\n",
            "\u001b[0;32m/usr/local/lib/python3.11/dist-packages/easyocr/easyocr.py\u001b[0m in \u001b[0;36mdetect\u001b[0;34m(self, img, min_size, text_threshold, low_text, link_threshold, canvas_size, mag_ratio, slope_ths, ycenter_ths, height_ths, width_ths, add_margin, reformat, optimal_num_chars, threshold, bbox_min_score, bbox_min_size, max_candidates)\u001b[0m\n\u001b[1;32m    319\u001b[0m             \u001b[0mimg\u001b[0m\u001b[0;34m,\u001b[0m \u001b[0mimg_cv_grey\u001b[0m \u001b[0;34m=\u001b[0m \u001b[0mreformat_input\u001b[0m\u001b[0;34m(\u001b[0m\u001b[0mimg\u001b[0m\u001b[0;34m)\u001b[0m\u001b[0;34m\u001b[0m\u001b[0;34m\u001b[0m\u001b[0m\n\u001b[1;32m    320\u001b[0m \u001b[0;34m\u001b[0m\u001b[0m\n\u001b[0;32m--> 321\u001b[0;31m         text_box_list = self.get_textbox(self.detector, \n\u001b[0m\u001b[1;32m    322\u001b[0m                                     \u001b[0mimg\u001b[0m\u001b[0;34m,\u001b[0m\u001b[0;34m\u001b[0m\u001b[0;34m\u001b[0m\u001b[0m\n\u001b[1;32m    323\u001b[0m                                     \u001b[0mcanvas_size\u001b[0m \u001b[0;34m=\u001b[0m \u001b[0mcanvas_size\u001b[0m\u001b[0;34m,\u001b[0m\u001b[0;34m\u001b[0m\u001b[0;34m\u001b[0m\u001b[0m\n",
            "\u001b[0;32m/usr/local/lib/python3.11/dist-packages/easyocr/detection.py\u001b[0m in \u001b[0;36mget_textbox\u001b[0;34m(detector, image, canvas_size, mag_ratio, text_threshold, link_threshold, low_text, poly, device, optimal_num_chars, **kwargs)\u001b[0m\n\u001b[1;32m     93\u001b[0m     \u001b[0mresult\u001b[0m \u001b[0;34m=\u001b[0m \u001b[0;34m[\u001b[0m\u001b[0;34m]\u001b[0m\u001b[0;34m\u001b[0m\u001b[0;34m\u001b[0m\u001b[0m\n\u001b[1;32m     94\u001b[0m     \u001b[0mestimate_num_chars\u001b[0m \u001b[0;34m=\u001b[0m \u001b[0moptimal_num_chars\u001b[0m \u001b[0;32mis\u001b[0m \u001b[0;32mnot\u001b[0m \u001b[0;32mNone\u001b[0m\u001b[0;34m\u001b[0m\u001b[0;34m\u001b[0m\u001b[0m\n\u001b[0;32m---> 95\u001b[0;31m     bboxes_list, polys_list = test_net(canvas_size, mag_ratio, detector,\n\u001b[0m\u001b[1;32m     96\u001b[0m                                        \u001b[0mimage\u001b[0m\u001b[0;34m,\u001b[0m \u001b[0mtext_threshold\u001b[0m\u001b[0;34m,\u001b[0m\u001b[0;34m\u001b[0m\u001b[0;34m\u001b[0m\u001b[0m\n\u001b[1;32m     97\u001b[0m                                        \u001b[0mlink_threshold\u001b[0m\u001b[0;34m,\u001b[0m \u001b[0mlow_text\u001b[0m\u001b[0;34m,\u001b[0m \u001b[0mpoly\u001b[0m\u001b[0;34m,\u001b[0m\u001b[0;34m\u001b[0m\u001b[0;34m\u001b[0m\u001b[0m\n",
            "\u001b[0;32m/usr/local/lib/python3.11/dist-packages/easyocr/detection.py\u001b[0m in \u001b[0;36mtest_net\u001b[0;34m(canvas_size, mag_ratio, net, image, text_threshold, link_threshold, low_text, poly, device, estimate_num_chars)\u001b[0m\n\u001b[1;32m     53\u001b[0m \u001b[0;34m\u001b[0m\u001b[0m\n\u001b[1;32m     54\u001b[0m         \u001b[0;31m# Post-processing\u001b[0m\u001b[0;34m\u001b[0m\u001b[0;34m\u001b[0m\u001b[0m\n\u001b[0;32m---> 55\u001b[0;31m         boxes, polys, mapper = getDetBoxes(\n\u001b[0m\u001b[1;32m     56\u001b[0m             score_text, score_link, text_threshold, link_threshold, low_text, poly, estimate_num_chars)\n\u001b[1;32m     57\u001b[0m \u001b[0;34m\u001b[0m\u001b[0m\n",
            "\u001b[0;32m/usr/local/lib/python3.11/dist-packages/easyocr/craft_utils.py\u001b[0m in \u001b[0;36mgetDetBoxes\u001b[0;34m(textmap, linkmap, text_threshold, link_threshold, low_text, poly, estimate_num_chars)\u001b[0m\n\u001b[1;32m    234\u001b[0m     \u001b[0;32mif\u001b[0m \u001b[0mpoly\u001b[0m \u001b[0;32mand\u001b[0m \u001b[0mestimate_num_chars\u001b[0m\u001b[0;34m:\u001b[0m\u001b[0;34m\u001b[0m\u001b[0;34m\u001b[0m\u001b[0m\n\u001b[1;32m    235\u001b[0m         \u001b[0;32mraise\u001b[0m \u001b[0mException\u001b[0m\u001b[0;34m(\u001b[0m\u001b[0;34m\"Estimating the number of characters not currently supported with poly.\"\u001b[0m\u001b[0;34m)\u001b[0m\u001b[0;34m\u001b[0m\u001b[0;34m\u001b[0m\u001b[0m\n\u001b[0;32m--> 236\u001b[0;31m     \u001b[0mboxes\u001b[0m\u001b[0;34m,\u001b[0m \u001b[0mlabels\u001b[0m\u001b[0;34m,\u001b[0m \u001b[0mmapper\u001b[0m \u001b[0;34m=\u001b[0m \u001b[0mgetDetBoxes_core\u001b[0m\u001b[0;34m(\u001b[0m\u001b[0mtextmap\u001b[0m\u001b[0;34m,\u001b[0m \u001b[0mlinkmap\u001b[0m\u001b[0;34m,\u001b[0m \u001b[0mtext_threshold\u001b[0m\u001b[0;34m,\u001b[0m \u001b[0mlink_threshold\u001b[0m\u001b[0;34m,\u001b[0m \u001b[0mlow_text\u001b[0m\u001b[0;34m,\u001b[0m \u001b[0mestimate_num_chars\u001b[0m\u001b[0;34m)\u001b[0m\u001b[0;34m\u001b[0m\u001b[0;34m\u001b[0m\u001b[0m\n\u001b[0m\u001b[1;32m    237\u001b[0m \u001b[0;34m\u001b[0m\u001b[0m\n\u001b[1;32m    238\u001b[0m     \u001b[0;32mif\u001b[0m \u001b[0mpoly\u001b[0m\u001b[0;34m:\u001b[0m\u001b[0;34m\u001b[0m\u001b[0;34m\u001b[0m\u001b[0m\n",
            "\u001b[0;32m/usr/local/lib/python3.11/dist-packages/easyocr/craft_utils.py\u001b[0m in \u001b[0;36mgetDetBoxes_core\u001b[0;34m(textmap, linkmap, text_threshold, link_threshold, low_text, estimate_num_chars)\u001b[0m\n\u001b[1;32m     53\u001b[0m         \u001b[0mx\u001b[0m\u001b[0;34m,\u001b[0m \u001b[0my\u001b[0m \u001b[0;34m=\u001b[0m \u001b[0mstats\u001b[0m\u001b[0;34m[\u001b[0m\u001b[0mk\u001b[0m\u001b[0;34m,\u001b[0m \u001b[0mcv2\u001b[0m\u001b[0;34m.\u001b[0m\u001b[0mCC_STAT_LEFT\u001b[0m\u001b[0;34m]\u001b[0m\u001b[0;34m,\u001b[0m \u001b[0mstats\u001b[0m\u001b[0;34m[\u001b[0m\u001b[0mk\u001b[0m\u001b[0;34m,\u001b[0m \u001b[0mcv2\u001b[0m\u001b[0;34m.\u001b[0m\u001b[0mCC_STAT_TOP\u001b[0m\u001b[0;34m]\u001b[0m\u001b[0;34m\u001b[0m\u001b[0;34m\u001b[0m\u001b[0m\n\u001b[1;32m     54\u001b[0m         \u001b[0mw\u001b[0m\u001b[0;34m,\u001b[0m \u001b[0mh\u001b[0m \u001b[0;34m=\u001b[0m \u001b[0mstats\u001b[0m\u001b[0;34m[\u001b[0m\u001b[0mk\u001b[0m\u001b[0;34m,\u001b[0m \u001b[0mcv2\u001b[0m\u001b[0;34m.\u001b[0m\u001b[0mCC_STAT_WIDTH\u001b[0m\u001b[0;34m]\u001b[0m\u001b[0;34m,\u001b[0m \u001b[0mstats\u001b[0m\u001b[0;34m[\u001b[0m\u001b[0mk\u001b[0m\u001b[0;34m,\u001b[0m \u001b[0mcv2\u001b[0m\u001b[0;34m.\u001b[0m\u001b[0mCC_STAT_HEIGHT\u001b[0m\u001b[0;34m]\u001b[0m\u001b[0;34m\u001b[0m\u001b[0;34m\u001b[0m\u001b[0m\n\u001b[0;32m---> 55\u001b[0;31m         \u001b[0mniter\u001b[0m \u001b[0;34m=\u001b[0m \u001b[0mint\u001b[0m\u001b[0;34m(\u001b[0m\u001b[0mmath\u001b[0m\u001b[0;34m.\u001b[0m\u001b[0msqrt\u001b[0m\u001b[0;34m(\u001b[0m\u001b[0msize\u001b[0m \u001b[0;34m*\u001b[0m \u001b[0mmin\u001b[0m\u001b[0;34m(\u001b[0m\u001b[0mw\u001b[0m\u001b[0;34m,\u001b[0m \u001b[0mh\u001b[0m\u001b[0;34m)\u001b[0m \u001b[0;34m/\u001b[0m \u001b[0;34m(\u001b[0m\u001b[0mw\u001b[0m \u001b[0;34m*\u001b[0m \u001b[0mh\u001b[0m\u001b[0;34m)\u001b[0m\u001b[0;34m)\u001b[0m \u001b[0;34m*\u001b[0m \u001b[0;36m2\u001b[0m\u001b[0;34m)\u001b[0m\u001b[0;34m\u001b[0m\u001b[0;34m\u001b[0m\u001b[0m\n\u001b[0m\u001b[1;32m     56\u001b[0m         \u001b[0msx\u001b[0m\u001b[0;34m,\u001b[0m \u001b[0mex\u001b[0m\u001b[0;34m,\u001b[0m \u001b[0msy\u001b[0m\u001b[0;34m,\u001b[0m \u001b[0mey\u001b[0m \u001b[0;34m=\u001b[0m \u001b[0mx\u001b[0m \u001b[0;34m-\u001b[0m \u001b[0mniter\u001b[0m\u001b[0;34m,\u001b[0m \u001b[0mx\u001b[0m \u001b[0;34m+\u001b[0m \u001b[0mw\u001b[0m \u001b[0;34m+\u001b[0m \u001b[0mniter\u001b[0m \u001b[0;34m+\u001b[0m \u001b[0;36m1\u001b[0m\u001b[0;34m,\u001b[0m \u001b[0my\u001b[0m \u001b[0;34m-\u001b[0m \u001b[0mniter\u001b[0m\u001b[0;34m,\u001b[0m \u001b[0my\u001b[0m \u001b[0;34m+\u001b[0m \u001b[0mh\u001b[0m \u001b[0;34m+\u001b[0m \u001b[0mniter\u001b[0m \u001b[0;34m+\u001b[0m \u001b[0;36m1\u001b[0m\u001b[0;34m\u001b[0m\u001b[0;34m\u001b[0m\u001b[0m\n\u001b[1;32m     57\u001b[0m         \u001b[0;31m# boundary check\u001b[0m\u001b[0;34m\u001b[0m\u001b[0;34m\u001b[0m\u001b[0m\n",
            "\u001b[0;31mKeyboardInterrupt\u001b[0m: "
          ]
        }
      ]
    },
    {
      "cell_type": "code",
      "source": [
        "print(result.document.export_to_markdown())"
      ],
      "metadata": {
        "colab": {
          "base_uri": "https://localhost:8080/"
        },
        "id": "rJlO9yX0uFZ8",
        "outputId": "3bb7e24a-9cc2-446a-a89c-9e9baa5b0529"
      },
      "id": "rJlO9yX0uFZ8",
      "execution_count": 90,
      "outputs": [
        {
          "output_type": "stream",
          "name": "stdout",
          "text": [
            "## RESEARCH\n",
            "\n",
            "<!-- image -->\n",
            "\n",
            "<!-- image -->\n",
            "\n",
            "## WHO cone bio-assays of classical and new-generation long-lasting insecticidal nets call for innovative insecticides targeting the knock-down resistance mechanism in Benin\n",
            "\n",
            "Marius Allossogbe 1,2* , Virgile Gnanguenon 1,2 , Boulais Yovogan 1,2 , Bruno Akinro 1 , Rodrigue Anagonou 1,2 , Fiacre Agossa 1,2 , André Houtoukpe 3 , Germain Gil Padonou 1,2 and Martin Akogbeto 1,2\n",
            "\n",
            "## Abstract\n",
            "\n",
            "Background: To increase the effectiveness of insecticide-treated nets (ITN) in areas of high resistance, new longlasting insecticidal nets (LLINs) called new-generation nets have been developed. These nets are treated with the piperonyl butoxide (PBO) synergist which inhibit the action of detoxification enzymes. The effectiveness of the new-generation nets has been proven in some studies, but their specific effect on mosquitoes carrying detoxification enzymes and those carrying both detoxification enzymes and the knock-down resistance gene in Benin is not well known. Thus, the objective of this study is to evaluate the efficacy of LLINs treated with PBO on multi-resistant Anopheles gambiae s.l.\n",
            "\n",
            "Methods: The study occurred in seven cities in Benin, Abomey, Cotonou, Porto-Novo, Zangnanado, Parakou, Malanville and Tanguiéta, and included ten locations selected on a north-south transect. Mosquito larvae were collected from these sites, and adult females from these larvae were exposed to single-pyrethroid-treated nets (LifeNet, PermaNet 2.0, Olyset Net) and bi-treated nets (PermaNet 3.0 and Olyset Plus) based on their level of resistance and using WHO cone tests following WHO guidelines.\n",
            "\n",
            "Results: The different LLINs showed 100% mortality of the susceptible laboratory strain Kisumu and the resistant strain Ace-1R Kisumu. However, with the resistant laboratory strain kdr-Kisumu, mortality was low (16-32%) for all LLINs except PermaNet 3.0 (82.9%). The mortality of local strains carrying only the kdr mechanism varied from 0 to 47% for the single-pyrethroid-treated LLINs and 9 to 86% for bi-treated LLINs. With local strains carrying several mechanisms of resistance (kdr + detoxification enzymes), the observed mortality with different LLINs was also low except for PermaNet 3.0, which induced significantly higher mortality, usually greater than 75% (p &lt; 0.001), with multiresistant strains. The inhibition of the mortalities induced by the LLINs (11-96%) on multi-resistant field populations was similar to the inhibition observed with the laboratory strain carrying only the knock-down resistance mechanism (kdr-Kisumu) (p &gt; 0.05).\n",
            "\n",
            "Conclusion: This study showed that the new-generation LLINs treated with pyrethroids and PBO showed better efficacy compared to conventional LLINs. Although the addition of PBO significantly increased the mortality of mosquitoes, the significant role of the kdr resistance gene in the low efficacy of LLINs calls for LLIN technology innovation that specifically targets this mechanism.\n",
            "\n",
            "Keywords: LLINs, Bio-efficacy, Piperonyl butoxide, Resistant mosquitoes\n",
            "\n",
            "*Correspondence:  palutec@yahoo.fr\n",
            "\n",
            "1 Centre de Recherche Entomologique de Cotonou (CREC), Cotonou,\n",
            "\n",
            "Benin\n",
            "\n",
            "Full list of author information is available at the end of the article\n",
            "\n",
            "<!-- image -->\n",
            "\n",
            "© The Author(s) 2017. This article is distributed under the terms of the Creative Commons Attribution 4.0 International License (http://creativecommons.org/licenses/by/4.0/), which permits unrestricted use, distribution, and reproduction in any medium, provided you give appropriate credit to the original author(s) and the source, provide a link to the Creative Commons license, and indicate if changes were made. The Creative Commons Public Domain Dedication waiver (http://creativecommons.org/ publicdomain/zero/1.0/) applies to the data made available in this article, unless otherwise stated.\n",
            "\n",
            "## Background\n",
            "\n",
            "Malaria  is  a  major  public  health  problem  worldwide, and  particularly  so  in  Benin.  It  remains  a  permanent threat  from  its  high  morbidity  (214  million)  and  mortality (438,000). Africa is  the  most  endemic  region affected  (395,000  deaths  per  year)  [1].  It  affects  onefifth  of  the  world  population.  However,  this  proportion has  decreased  significantly  by  37%  between  2000  and 2015  due  to  the  effect  of  malaria  prevention  and  treatment  methods,  including  long-lasting  insecticidal  nets (LLINs), indoor residual spraying of residual insecticides (IRS),  chemo-prevention  for  pregnant  women  and  children,  and  therapeutic  treatment  with  artemisinin-based combinations.\n",
            "\n",
            "Among these prevention methods, LLINs have emerged in  recent  years  as  a  privileged  tool  to  prevent malaria.  The  insecticides  selected  by  the  World  Health Organization  (WHO)  for  LLIN  treatment  are  pyrethroids,  which  have  little  toxicity  to  humans,  are  effective  at  low  doses,  are  fast  acting  (knock-down  effect) and, along with repellants, have an irritant effect [2]. The Abuja Conference, which brought together all the leaders of Africa and other UN representative states, donors and NGOs in April 2000, gave impetus to a political commitment to the fight against malaria with the use of insecticide treated nets (ITNs) [3]. Efforts are being made to increase accessibility for populations, especially pregnant women and  children  under  five,  who  are  vulnerable  to malaria,  a  major  cause  of  perinatal  mortality,  low  birth weight and maternal anaemia [1].\n",
            "\n",
            "Several  research  studies  have  been  conducted  and have shown the effectiveness of ITNs in the fight against malaria in Burkina Faso [4], Cameroon [5], Gambia [69],  the  Democratic  Republic  of  Congo  [10],  Kenya  [11], Ghana [12], Benin [13] and Côte d'Ivoire [14].\n",
            "\n",
            "However,  several  studies  have  shown  that Anopheles gambiae s.l.  has  developed  strong  resistance  to  pyrethroids and DDT in Benin, with a very high knock-down resistance frequency of approximately 80% in the urban areas of Cotonou and in rural areas [15-23].\n",
            "\n",
            "Despite this resistance developed by An. gambiae s.l. to pyrethroids,  LLINs  remain  effective  in  vector  resistance areas [24] and provide protection through their mechanical barrier role [25]. However, Asidi et al. [26] showed a decrease in their effectiveness in areas of high resistance of Anopheles in southern Benin. Major developed resistance  mechanisms  are  the  targets  of  modification  ( kdr resistance  and ace -1R )  and  metabolic  resistance  (overexpression of detoxification enzymes, oxidases, esterases, GST)  [27].  The kdr mutation  is  associated  with  pyrethroid and DDT resistance, and ace -1R is associated with organophosphate  and  carbamate  resistance  (two  classes of insecticides which are not used to treat LLINs) [15, 28].\n",
            "\n",
            "To increase the effectiveness of ITNs in areas of high resistance, new nets treated with a so-called new-generation of chemicals has been developed. They are treated with  a  synergist  called  piperonyl  butoxide  (PBO).  For some  LLINs,  the  PBO  is  used  on  all  sides  of  the  net (Olyset  Plus ® ).  For  others,  only  the  upper  part  of  the net  is  processed  (PermaNet ® 3.0).  The  principle  of  an ITN  synergist  is  to  inhibit  the  action  of  detoxification enzymes,  which  will  result  in  increasing  the  effectiveness  of  the  insecticide  against  resistant  populations  of mosquitoes.\n",
            "\n",
            "Evidence  of  the  efficacy  of  PermaNet  3.0  has  been shown  in  some  studies,  particularly  in  Tanzania  [29], but  we  do  not  know  its  specific  action  on  mosquitoes carrying  detoxification  enzymes  and  on  those  carrying both detoxification and kdr mechanisms in West Africa, particularly  in  Benin.  There  have  been  limited  data  on the bio-efficacy of new-generation LLINs against multiresistant mosquitoes in Africa in general and particularly in  Benin.  Thus,  the  objective  of  this  study  is  to  evaluate  the  efficacy  of  long-lasting  insecticidal  nets  (LLINs) treated  with  PBO  on  multi-resistant An.  gambiae s.l. populations  in  Benin.  It  aims  to  assess  the  bio-efficacy of  LLINs  in  areas  with  a  high  frequency  of  molecular resistance genes ( kdr and ace -1R ) and over-expression of detoxification  enzymes  (oxidases,  esterases,  GST).  The efficacy of the new-generation LLINs against pyrethroidresistant Anopheles was also compared to that of conventional LLINs.\n",
            "\n",
            "## Methods\n",
            "\n",
            "## Study design\n",
            "\n",
            "This study is transversal and compares variability of the efficacy of two different types of LLINs against An. gambiae s.l. carrying kdr resistance mutations and detoxification enzymes in Benin. The two types of LLINs included conventional LLINs only treated with pyrethroids (Olyset Net,  LifeNet,  and  PermaNet  2.0)  and  a  second  type  of new-generation LLIN treated with pyrethroids and piperonyl  butoxide  (PBO),  which  inhibits  the  action  of enzymes, particularly oxidases.\n",
            "\n",
            "The  study  was  conducted  in  Benin,  a  West  African country from June 2015 to March 2016. Among the 12 departments  of  Benin  surveyed,  seven  were  selected  in this  study  (Atlantique,  Littoral,  Oueme,  Zou,  Borgou, Atacora and Alibori). Priority was given to areas where higher  oxidase  activity  was  observed  compared  to  the susceptible  strain An.  gambiae Kisumu.  They  were  represented by Abomey, Cotonou, Porto-Novo, Zangnanado, Parakou, Malanville and Tanguiéta districts. The assessment of oxidase activity was conducted on 50 An. gambiae s.l. collected from each district using haem-peroxidase assay as described by Brogdon et al. [30].\n",
            "\n",
            "The larvae of these mosquito populations were collected in  different  ecological  areas  (vegetable,  urban,  rice  and cotton areas). The study was also conducted on resistant laboratory strains (kdr-Kisumu and ace-1R-Kisumu).\n",
            "\n",
            "## Study sites\n",
            "\n",
            "## Malanville\n",
            "\n",
            "Malanville district is bordered on the north by the Republic of Niger, on the south by Kandi and Segbana districts, on the west by Karimama district and on the east by the Republic of Nigeria. It has an area of 3016 km 2 and had a population of 144,843 inhabitants in 2013 (Fig. 1).\n",
            "\n",
            "## Tanguieta\n",
            "\n",
            "It  is  bordered  on  the  north  by  the  Republic  of  Burkina Faso, on the south by Boukoumbe district, on the east by Kerou, Kouande and Tounkountouna districts and on the west by Materi and Cobly districts. It covers an area of 5456 km 2 and had a population of 77,987 inhabitants in 2013 (Fig. 1).\n",
            "\n",
            "## Abomey-Calavi\n",
            "\n",
            "Abomey-Calavi is bounded on the north by Ze district, on the south by the Atlantic Ocean, on the east by Cotonou and So-Ava districts,  and  on  the  west  Ouidah  and Tori-Bossito districts. It has an area of 539 km 2 and had a population of 438,564 inhabitants in 2013 (Fig. 1).\n",
            "\n",
            "## Cotonou\n",
            "\n",
            "Cotonou is bordered on the North by So-Ava district and Nokoue lake, on the south by the Atlantic Ocean, on the east  by  Seme-Podji  and  on  the  west  by  Abomey-Calavi district. It has an area of 79 km 2 and had a population of 947,917 inhabitants in 2013 (Fig. 1).\n",
            "\n",
            "## Porto-Novo\n",
            "\n",
            "Porto-Novo is bounded on the north by Akpro-Missérete and Avrankou districts, on the south by Seme-Podji, on the west by Aguegues district and on the east by Adjarra district. It covers an area of 223,552 km 2 and had a population of 318,608 inhabitants in 2013 (Fig. 1).\n",
            "\n",
            "## Parakou\n",
            "\n",
            "It is bordered on the north by N'Dali district and on the south, east and west by Tchaourou district; it has an area of 441 km 2 and had a population of 213,498 inhabitants in 2013 (Fig. 1).\n",
            "\n",
            "## Zangnanado\n",
            "\n",
            "This town is bounded on the north by Dassa-Zoume district, on the south by Ouinhi and Zogbodomey districts, on  the  west  by  Cove,  Zakpota  and  Djidja  districts  and on the east by Ketou and Adja-Ouere. It has an area of\n",
            "\n",
            "540  km 2 and  had  a  population  of  52,387  inhabitants  in 2013 (Fig. 1).\n",
            "\n",
            "## Larvae collection\n",
            "\n",
            "Bio-efficacy  tests  were  conducted  at  various  selected sites.  Such  tests  required  mosquitoes  of  2-5  days  old, so  the  larvae  were  collected.  These  collections  were conducted  in  the  different  localities  mentioned  above. Anopheles gambiae s.l.  larvae  and  pupae  were  collected from  different  locations  at  each  site  and  carried  to  the insectarium  of  the  Entomological  Research  Center  of Cotonou (CREC), where they were reared to adult stage at  a  relative  humidity  of  70-80%  and  a  temperature  of 25-30 °C. Female adults aged 2-5 days were used for bioefficacy tests.\n",
            "\n",
            "## Highlighting resistance mechanisms\n",
            "\n",
            "Before  the  bioassays,  living  and  dead  mosquito  populations  kept  after  susceptibility  testing  were  analyzed  by PCR to detect the genotypes of the kdr gene. The detection of kdr mutation L1014F was performed according to the method of Martinez-Torres et al. [31].\n",
            "\n",
            "For the molecular characterization of insecticide resistance, two molecular markers were used for characterization of the resistance genes, kdr and ace -1R .\n",
            "\n",
            "Similarly, for the biochemical characterization of resistance  mechanisms,  biochemical  assays  were  performed to compare the activity levels of mixed function oxidases (MFO),  non-specific  esterases  (NSE)  and  glutathione S-transferases (GST) according to the protocol described by Hemingway et al. [32] in susceptible Kisumu and field An. gambiae strains. The mosquitoes used for biochemical analysis had not been exposed to insecticides before the  biochemical  assessment.  These  enzyme  activities were measured using a sample of 50 mosquitoes per site.\n",
            "\n",
            "## Mosquito nets\n",
            "\n",
            "Five  types  of  long-lasting  insecticidal  nets  were  evaluated  in  this  study.  The  group  of  mono-treated  LLINs included LifeNet (polypropylene LLIN with fiber coated with 340 mg/m 2 ± 25% deltamethrin), Olyset Net (polyethylene  LLIN  with  permethrin  incorporated  into  the fibers at 20 ± 3 g/kg), and PermaNet 2.0 (polyester LLIN with fiber coated with deltamethrin at 55 mg/m 2 ± 25%). The  group  of  new-generation  LLINs  included:  Olyset Plus  (same  characteristics  as  Olyset  Net  but  with  PBO incorporated  throughout  the  LLIN)  and  PermaNet  3.0 (polyethylene roof with deltamethrin at 2.8 g/kg ± 25% and  PBO  at  4.0  g/kg ± 25%  incorporated  into  the  fibers,  and  polyester  lateral  sides  with  the  fibers  coated with deltamethrin at 2.8 g/kg ± 25%). All these nets were obtained  from  local  markets.  All  nets  included  in  the study are rectangular and were selected by type.\n",
            "\n",
            "## Cone test\n",
            "\n",
            "The  cone  test  is  used  to  assess  the  effectiveness  of  an insecticide  and  its  persistence  on  the  net.  It  was  conducted  following  the  WHO  protocol.  This  test  aims  to compare  the  behaviour  of  mosquitoes  while  in  contact with treated mosquito nets without PBO or with PBO.\n",
            "\n",
            "Cone tests were performed on five types of nets (Olyset Plus,  Olyset  Net,  LifeNet,  PermaNet  2.0  and  PermaNet 3.0).  These  tests  were  carried  out  using  fragments  of LLINs (30 cm × 30  cm) cut from five (05) positions on each  net.  Two  standard  cones  were  fixed  with  a  plastic sheet on each of the five (05) screen fragments. For PermaNet 3.0 LLIN, an additional two cones were added on the PBO-containing roof. Five unfed An. gambiae females aged  2-5  days  (Kisumu  or  wild  type)  were  introduced into each cone placed on the LLIN for 3 min. After exposure, the mosquitoes were removed from the cones using a  mouth aspirator and then transferred into paper cups and provided 10% sugar solution. Mosquito knock-down was recorded every 5 min for 60 min. A negative control (untreated net) was included in each series of cone tests. After  24  h  of  observation,  mortality  post  exposure  was recorded.  No  correction  of  mortality  with  Abbott's  formula was used as mortality in the control was &lt;5%. All these  operations  were  carried  out  at  a  temperature  of 25 ± 2 °C and a humidity of 70 ± 10%.\n",
            "\n",
            "## Data analysis\n",
            "\n",
            "According to the WHO, the bio-effectiveness threshold is 95% knock-down and 80% mortality for laboratory mosquitoes; but for resistant field mosquito populations, we used  a  threshold  of  70%  knock-down  and  50%  mortality. Therefore, all nets showing less than 95% knockdown for laboratory mosquitoes and 70% for field mosquitoes after  60  min,  or  less  than  50%  mortality  for  laboratory mosquitoes  and  50%  for  field  mosquitoes  after  24  h  of observation,  were  considered  ineffective.  These  knockdown  thresholds  were  chosen  taking  into  account  the kdr resistance  level  observed  in  the  country  in  general (&gt;50%).\n",
            "\n",
            "The inhibition of mortality induced by resistance mechanisms was estimated using the following equation:\n",
            "\n",
            "<!-- formula-not-decoded -->\n",
            "\n",
            "where p1 = proportion of resistant mosquitoes dead and p2 = proportion of susceptible Kisumu mosquitoes dead.\n",
            "\n",
            "To  determine  if  there  was  any  significance  difference between  the  outcome  variables  (knock-down,  mortality and  inhibition),  Poisson  regression  (for  numeric  data) and logistic regression (for proportional data) were used. The 50 and 95% knock-down times and their confidence intervals were obtained after log-probit regression using the method described by Finney [33].\n",
            "\n",
            "## Results\n",
            "\n",
            "## Characteristics of the studied mosquito populations\n",
            "\n",
            "The  majority  of  female  mosquitoes  were  collected  and identified  morphologically  as An.  gambiae s.l.  The  biochemical  and  molecular  analyses  indicated  that  among ten  sites,  five  showed  significantly  higher  oxidase  activity than the susceptible strain Kisumu (Table 1). Esterases were  significantly  expressed  in  the  Tanguieta  mosquito population  (Table  1).  Over-expression  of  glutathioneS-transferase was observed at four sites (Table 1). However, the allelic frequency of the kdr mutation was high at almost all sites and ranged from 0.03 to 0.93.\n",
            "\n",
            "## Knock-down (KD) and mortality of laboratory strains\n",
            "\n",
            "Figure 2 shows the proportion of laboratory mosquitoes (ace-1R-Kisumu,  kdr-Kisumu,  and  susceptible  Kisumu) knocked down after  60  min  for  each  LLIN.  The  Olyset Plus and PermaNet 3.0 LLINs induced 100% knock-down of An.  gambiae Kisumu.  The  knock-down  effect  was 96.15% for Olyset, 90.2% for LifeNet and 93.22% for PermaNet 2.0.\n",
            "\n",
            "With the ace-1R-Kisumu strain, which carries the acetylcholinesterase-1  resistance  gene,  there  was  a  knockdown effect greater than 95% for all nets, with 98.11% for LifeNet, 100% for Olyset, 98.18% for Olyset Plus, 97.96% for PermaNet 2.0, and 98.78% for PermaNet 3.0 (Fig. 2).\n",
            "\n",
            "For  the  kdr-Kisumu  strain  (carrying  the  resistance knock-down),  the  knock-down  effects  observed  were 89.29%  for  LifeNet,  63.64  for  Olyset  Net,  71.43%  for Olyset Plus, 45.78 for PermaNet 2.0 and 71.05% for PermaNet 3.0 (Fig. 2).\n",
            "\n",
            "Kisumu  and  ace-1R-Kisumu  (Fig.  3).  With  the  kdrKisumu strain, mortality was 16% for Olyset Net, 26% for PermaNet 2.0, 28% for LifeNet, and 32.1% for Olyset Plus but  was  more  than  82.9%  for  PermaNet  3.0.  Therefore, based on the bio-efficacy threshold set by WHO (80%), PermaNet 3.0 was effective on all laboratory strains, and Olyset Plus was only effective on the susceptible and aceR1-Kisumu strains (Fig. 3).\n",
            "\n",
            "## Inhibition of mortality conferred by the kdr resistance gene\n",
            "\n",
            "Comparing  the  mortality  observed  with  the  susceptible Kisumu strain with that of the resistant kdr-Kisumu strain, the inhibition of mortality induced by the kdr gene regarding the effectiveness of LLINs was 84% for Olyset Net,  74%  for  PermaNet  2.0,  72%  for  LifeNet,  68%  for Olyset Plus and 17% for PermaNet 3.0.\n",
            "\n",
            "## Knock-down (Kd) effect and mortality induced by mosquito nets on local An. gambiae s.l.\n",
            "\n",
            "Approximately  2819  local An.  gambiae s.l.  mosquitoes and 889 An. gambiae Kisumu laboratory strain mosquitoes were tested on different types of LLINs. Tables 2 and\n",
            "\n",
            "<!-- image -->\n",
            "\n",
            "Table 1  Biochemical and molecular characteristics of the Anopheles gambiae s.l. populations tested\n",
            "\n",
            "| Strains of An. gambiae s.l.   | Average oxidase activ- ity (min/mg protein)   | Average α esterase activity (min/mg protein)   | Average β esterase activity (min/mg protein)   | Average glutathione- S-transferase activity (min/mg protein)   | kdr frequency   |\n",
            "|-------------------------------|-----------------------------------------------|------------------------------------------------|------------------------------------------------|----------------------------------------------------------------|-----------------|\n",
            "| Kisumu                        | 0.1015 a                                      | 0.07409 a                                      | 0.07655 a                                      | 0.3846 a                                                       | 0 a             |\n",
            "| Agblangandan                  | 0.07966 a                                     | 0.07883 a                                      | 0.06117 a                                      | 0.7319 b                                                       | 0.03 a          |\n",
            "| Abomey-Calavi                 | 0.08454 a                                     | 0.07149 a                                      | 0.05929 a                                      | 0.4295 a                                                       | 0.93 b          |\n",
            "| Akron                         | 0.1604 b                                      | 0.08589 a                                      | 0.07897 a                                      | 2.221 b                                                        | 0.74 b          |\n",
            "| Houeyiho                      | 0.17.39 b                                     | 0.07694 a                                      | 0.08774 a                                      | 0.4042 a                                                       | 0.9 b           |\n",
            "| Vossa                         | 0.07566 a                                     | 0.06897 a                                      | 0.06389 a                                      | 0.7078 a                                                       | 0.84 b          |\n",
            "| Ladji                         | 0.1737 b                                      | 0.07146 a                                      | 0.0774 a                                       | 1.194 b                                                        | 0.92 b          |\n",
            "| Bame                          | 0.1106 a                                      | 0.0588 a                                       | 0.06223 a                                      | 0.2901 a                                                       | 0.78 b          |\n",
            "| Malanville                    | 0.06549 a                                     | 0.04949 a                                      | 0.04871 a                                      | 0.1723 a                                                       | 0.90 b          |\n",
            "| Parakou                       | 0.1536 b                                      | 0.08124 a                                      | 0.08871 a                                      | 0.4698 a                                                       | 0.74 b          |\n",
            "| Tanguieta                     | 0.2267 b                                      | 0.1585 b                                       | 0.1442 b                                       | 1.182 b                                                        | 0.85 b          |\n",
            "\n",
            "- a, b Values with the same superscript do not differ significantly at α = 0.05\n",
            "- 3 show the percentage of local strain mosquitoes knocked down after 60 min for LifeNet, Olyset Net, Olyset Plus, PermaNet 2.0, and PermaNet 3.0.\n",
            "\n",
            "<!-- image -->\n",
            "\n",
            "<!-- image -->\n",
            "\n",
            "## Knock-down (KD) and mortality induced by the LLINs on mono-resistance mosquito strains\n",
            "\n",
            "Only  PermaNet  3.0,  Olyset  Plus  and  LifeNet  LLINs showed a knock-down effect greater than 50% at Agblangandan, Vossa, Zangnanado and Malanville (areas of low resistance)  (Table  2).  These  knock-down  values  varied between 51 and 95%. At Abomey, only PermaNet 3.0 and Olyset  Plus  LLINs  showed  a  knock-down  effect  greater than 50%.\n",
            "\n",
            "PermaNet 3.0 was the only LLIN that showed significantly higher mortality of greater than 50% in all localities where mosquitoes carried only the kdr gene. The average mortality for other types of LLINs tested in these areas varied from 5 to 47% (Table 2). These mortality rates varied from 0 to 14% for Olyset, 7 to 27% for LifeNet, from 9 to 22% for Olyset Plus, from 24 to 47% for PermaNet 2.0 and from 40 to 86% for PermaNet 3.0.\n",
            "\n",
            "## Inhibition of mortality in mono-resistant An. gambiae s.l. strains\n",
            "\n",
            "The  observed  inhibition  of  mortality  induced  by kdr resistance of local mosquito strains on LLIN effectiveness was 100-86% for Olyset, 92-73% for LifeNet, 53-76% for PermaNet 2.0,  78-91%  for  Olyset  Plus  and  14-60%  for PermaNet 3.0. These inhibition rates are similar to those observed with the kdr-Kisumu strain (p &gt; 0.05).\n",
            "\n",
            "## Knock-down (KD) and mortality induced by the LLINs on multi-resistant mosquito strains (carrying kdr and biochemical resistance mutations)\n",
            "\n",
            "In  areas  with  multi-resistance,  the  knock-down  effects observed were also low (Table 3).\n",
            "\n",
            "- At  Akron,  the  percentage  of  mosquitoes  knocked down  after 60 min was 31.48% [19.52-45.55] and 74.55%  [60.99-85.33]  for  Olyset  Net  and  Olyset  Plus,\n",
            "\n",
            "Table 2  Distribution of the knock-down rate observed in localities where there was only one resistance mechanism ( kdr )\n",
            "\n",
            "| Strains          | LLINs        |   Nmosquito tested |   KDafter 60 min | 95%CI         |   Mortality after 24 h (%) |\n",
            "|------------------|--------------|--------------------|------------------|---------------|----------------------------|\n",
            "| Malanville       | LifeNet      |                 55 |            72.27 | [59.03-83.86] |                      27.27 |\n",
            "|                  | Olyset Net   |                 53 |            30.19 | [18.34-44.34] |                       5.56 |\n",
            "|                  | Olyset Plus  |                 51 |            54.9  | [40.34-68.87] |                      21.56 |\n",
            "|                  | PermaNet 2.0 |                 59 |            28.81 | [17.76-42.08] |                      47.46 |\n",
            "|                  | PermaNet 3.0 |                 84 |            95.24 | [88.25-98.69] |                      61.9  |\n",
            "| Abomey-Calavi    | LifeNet      |                 53 |             9.43 | [3.13-20.66]  |                       7.54 |\n",
            "|                  | Olyset Net   |                 54 |            11.11 | [4.18-22.63]  |                       5.56 |\n",
            "|                  | Olyset Plus  |                 55 |            29.09 | [17.62-49.90] |                      20    |\n",
            "|                  | PermaNet 2.0 |                 52 |            70.49 | [57.43-81.84] |                      26.92 |\n",
            "|                  | PermaNet 3.0 |                 72 |            81.94 | [71.1-90.02]  |                      86.11 |\n",
            "| Zagnanado (Bamè) | LifeNet      |                 58 |            68.97 | [55.45-80.46] |                      10.34 |\n",
            "|                  | Olyset Net   |                 54 |            23.08 | [12.53-36.84] |                       0    |\n",
            "|                  | Olyset Plus  |                 55 |            33.96 | [21.51-46.27] |                       9.43 |\n",
            "|                  | PermaNet 2.0 |                 53 |            52.83 | [38.63-66.7]  |                       3.77 |\n",
            "|                  | PermaNet 3.0 |                 75 |            63.93 | [57.61-79.47] |                      62.67 |\n",
            "| Vossa            | LifeNet      |                 54 |            62.96 | [48.74-75.71] |                      20.37 |\n",
            "|                  | Olyset Net   |                 57 |            21.05 | [11.37-33.89] |                      14.03 |\n",
            "|                  | Olyset Plus  |                 53 |            41.51 | [28.13-55.87] |                      15.05 |\n",
            "|                  | PermaNet 2.0 |                 51 |            52.94 | [38.45-67.07] |                      23.52 |\n",
            "|                  | PermaNet 3.0 |                 73 |            79.45 | [68.38-88.02] |                      39.75 |\n",
            "\n",
            "N number, KD knock-down, min minutes, CI confidence interval, h hours respectively;  70.49%  [57.43-81.84]  and  81.71%  [71.6389.38] for PermaNet 2.0 and PermaNet 3.0, respectively, and  30.77%  [18.71-45.1]  for  LifeNet.  At  Houéyiho,  the knock-down effect was 23.08% [12.53-36.84] and 49.15% [35.89-62.5] for Olyset Net and Olyset Plus, respectively; 46.3%  [32.62-60.39]  and  73.5%  [61.46-83.97]  for  PermaNet  2.0  and  PermaNet  3.0,  respectively,  and  61.11% [46.87-74.08] for LifeNet. It was generally observed that knock-down  was  significantly  higher  with  Olyset  Plus than  with  Olyset  on  multi-resistant  Akron  and  Houéyiho  strains  (p  &lt;  0.05).  The  same  observation  was  made with PermaNet 3.0, whose knock-down was significantly higher than that observed with PermaNet 2.0.\n",
            "\n",
            "The  same  observations  were  made  at  Ladji,  Parakou and Tanguiéta, where the KD induced by Olyset Plus was higher than that of Olyset. Similarly, PermaNet 3.0 (98%) was  more  effective  than  PermaNet  2.0  (39%)  (Table  3). However,  at  Tanguieta,  only  three  LLINs  were  tested. The three types of mosquitoes tested showed a KD effect ≥ 75%. Overall, in areas where there was high activity of oxidase enzymes associated with the kdr gene, only three LLINs (LifeNet, Olyset Plus, and PermaNet 3.0) showed a  KD effect that was generally high. However, the mortality  observed  in  these  populations  was  generally  low (Table 3). Only the PermaNet 3.0 LLIN induced significantly  higher  mortality  (p  &lt;  0.001)  that  was  generally greater than 75% (Table 3).\n",
            "\n",
            "## Inhibition of mortality in multi-resistant strains\n",
            "\n",
            "The inhibition of the mortality induced by LLINs observed with strains carrying several resistance  mechanisms  (compared  to  the  susceptible  strain  Kisumu) ranged  from  60  to  96%  for  Olyset,  53  to  90.2%  for LifeNet, 45 to 86% for PermaNet 2.0, 59 to 76% for Olyset Plus  and  11  to  55%  for  Permanet  3.0.  These  inhibition rates are similar to those observed with the kdr-Kisumu strains (p &gt; 0.05).\n",
            "\n",
            "## Knock-down time of LLINs on local An. gambiae s.l. strains\n",
            "\n",
            "The  average  time  estimated  for  knock-down  of  50%  of resistant  local An.  gambiae s.l.  populations  was  significantly  shorter  with  PermaNet  3.0  (12  min)  (p  &lt;  0.001), followed  by  Olyset  Plus  and  LifeNet  (33  min).  However,  the  time  required  for  95%  of  mosquitoes  to  be knocked down was high for all  LLINs.  Generally,  there was a slower effect with LLINs treated with permethrin (Table 4).\n",
            "\n",
            "## Discussion\n",
            "\n",
            "This study is one of the first conducted in Benin to compare  the  response  of  local  malaria  vectors  in  Benin  to several  LLINs  recommended  by  the  WHO.  It  helps  to observe  the  variation  in  mortality  of  vectors  submitted to different types of LLINs. This mortality was generally low, especially with LLINs only treated with pyrethroids.\n",
            "\n",
            "Table 3  Distribution  of  the  knock-down  rate  observed  in  localities  where  there  were  several  resistance  mechanisms ( kdr + metabolic resistance)\n",
            "\n",
            "| Strains      | LLINs        | Nmosquito tested   | KDafter 60 min   | 95%CI          | Mortality (%)   |\n",
            "|--------------|--------------|--------------------|------------------|----------------|-----------------|\n",
            "| Agblangandan | LifeNet      | 53                 | 50.94            | [36.83-64.96]  | 15.09           |\n",
            "|              | Olyset Net   | 54                 | 20.75            | [10.84-34.11]  | 07.4            |\n",
            "|              | Olyset Plus  | 55                 | 50.91            | [37.07-64.65]  | 34.72           |\n",
            "|              | PermaNet 2.0 | 47                 | 36.17            | [22.67-51.58]  | 17.02           |\n",
            "|              | PermaNet 3.0 | 66                 | 60.61            | [47.80-72.42]  | 65.15           |\n",
            "| Ladji        | LifeNet      | 57                 | 85.96            | [74.2-93.74]   | 47.36           |\n",
            "|              | Olyset Net   | 57                 | 50.88            | [37.28-64.37]  | 40.35           |\n",
            "|              | Olyset Plus  | 56                 | 42.86            | [29.71-56.78]  | 41.07           |\n",
            "|              | PermaNet 2.0 | 50                 | 66               | [51.23-78.79]  | 14              |\n",
            "|              | PermaNet 3.0 | 69                 | 88.41            | [78.42-94.86]  | 44.93           |\n",
            "| Akron        | LifeNet      | 52                 | 30.77            | [18.71-45.1]   | 15.38           |\n",
            "|              | Olyset Net   | 54                 | 31.48            | [19.52-45.55]  | 5.56            |\n",
            "|              | Olyset Plus  | 55                 | 74.55            | [60.99-85.33]  | 25.45           |\n",
            "|              | PermaNet 2.0 | 61                 | 70.49            | [57.43-81.84]  | 54.09           |\n",
            "|              | PermaNet 3.0 | 82                 | 81.71            | [71.63-89.38]  | 89.02           |\n",
            "| Parakou      | LifeNet      | 51                 | 43.14            | [29.34-57.75]  | 09.80           |\n",
            "|              | Olyset Net   | 52                 | 26.92            | [15.56-4 1.02] | 07.69           |\n",
            "|              | Olyset Plus  | 50                 | 66               | [51.23-78.79]  | 28              |\n",
            "|              | Permanet 2.0 | 56                 | 39.29            | [26.49-53.25]  | 37.50           |\n",
            "|              | Permanet 3.0 | 88                 | 98.86            | [93.83-99.97]  | 82.95           |\n",
            "| Houeyiho     | LifeNet      | 54                 | 61.11            | [46.87-74.08]  | 14.81           |\n",
            "|              | Olyset Net   | 52                 | 23.08            | [12.53-36.84]  | 3.84            |\n",
            "|              | Olyset Plus  | 59                 | 49.15            | [35.89-62.5]   | 23.72           |\n",
            "|              | Permanet 2.0 | 54                 | 46.3             | [32.62-60.39]  | 22.22           |\n",
            "|              | Permanet 3.0 | 65                 | 73.85            | [61.46-83.97]  | 61.54           |\n",
            "| Tanguieta    | LifeNet      | -                  | -                | -              | -               |\n",
            "|              | Olyset Net   | -                  | -                | -              | -               |\n",
            "|              | Olyset Plus  | 51                 | 74.51            | [60.36-85.67]  | 56.86           |\n",
            "|              | PermaNet 2.0 | 62                 | 75.81            | [63.25-85.78]  | 32.26           |\n",
            "|              | PermaNet 3.0 | 86                 | 100              | [88.78-100]    | 78.82           |\n",
            "\n",
            "N number, KD knock-down, min minutes, CI confidence interval, h hours\n",
            "\n",
            "Table 4  Probable time for 50 and 95% knock-down of Anopheles gambiae s.l. per LLIN\n",
            "\n",
            "| LLINs        |   50%KDT (min) | 95%CI          | 95%KDT (min)   | 95%CI               |\n",
            "|--------------|----------------|----------------|----------------|---------------------|\n",
            "| LifeNet      |          33.12 | [32.5-33.91]   | 425.13         | [385.6- 468.69]     |\n",
            "| Olyset Net   |          98.74 | [90.4- 107.85] | 10,257.58      | [7090.39- 14,839.5] |\n",
            "| Olyset Plus  |          33.44 | [32.56- 34.34] | 674.68         | [595.91- 763.86]    |\n",
            "| PermaNet 2.0 |          42.3  | [41.26- 43.37] | 468.28         | [424.57- 516.49]    |\n",
            "| PermaNet3.0  |          12.61 | [12.30- 12.93] | 137.99         | [131.6- 144.69]     |\n",
            "\n",
            "%KDT knock down time, IC 95% confidence interval at 95%, min minutes, CI confidence interval\n",
            "\n",
            "Cone  tests  showed  that  LLINs  treated  with  piperonyl butoxide and pyrethroids (especially PermaNet 3.0) have optimum efficacy on all strains of An. gambiae s.l. (mono and multi-resistant).\n",
            "\n",
            "Several studies have shown a decrease in the bio-efficacy  of  LLINs  against  local  pyrethroid-resistant  vectors [34, 35]. The effectiveness of LLINs treated only with deltamethrin (PermaNet 2.0 and LifeNet) was found to be significantly lower compared to that of nets treated with deltamethrin and PBO. The same observation was made with the LLINs treated with permethrin only (Olyset Net) and  those  treated  with  permethrin  and  PBO.  However, the  effectiveness  of  LLINs  treated  with  permethrin  was generally lower than that of LLINs treated with deltamethrin, with lower mortality and a very slow knock-down\n",
            "\n",
            "time (KDT 50 and 95%) compared to other LLINs. In a recent study conducted in Benin [36], Olyset Plus, treated with permethrin + PBO, demonstrated a higher efficacy than Olyset Net against wild multi-resistant An. gambiae s.l. in experimental huts, as observed in WHO cone tests used in the present study. In south-western Ethiopia [35] and in Uganda [34], a reduced efficacy of mono-treated LLINs was also observed against wild resistant An. gambiae s.l.  in  comparison  with  Permanet  3.0  treated  with deltamethrin + PBO.  The  results  are  similar  to  those observed  in  this  study.  However,  these  studies  did  not include  Olyset  Plus,  the  second  type  of  new-generation LLINs treated with permethrin + PBO.\n",
            "\n",
            "The reduced efficacy of LLINs treated with permethrin would be related to the strong resistance of the local vectors  to  permethrin due to the resistance selection pressures generated by the use of the same class of insecticide for  malaria  vector  control  in  public  health  and  for  pest control in agriculture [16, 17, 23, 37, 38].\n",
            "\n",
            "The comparison of LLIN bio-efficacy performed in this study  provides  the  necessary  information  for  the  selection of appropriate LLINs for mass distribution. The optimal and constant efficacy of PermaNet 3.0 LLINs on all vector  populations  shows  that  this  combination  of  deltamethrin and PBO on LLINs is a most successful strategy against pyrethroid resistance in Benin. Variations in the  mortality  of  vectors  also  showed  that  certain  types of LLINs are more appropriate than others for distribution  in  specific  regions.  This  is  related  to  the  fact  that the effectiveness of an LLIN depends on the characteristics of the mosquito population tested and the chemical structure of the molecule (insecticide) used.\n",
            "\n",
            "The mosquito populations assessed in the present study were characterized by a high frequency of the kdr gene. This high frequency was probably due to the massive use of pyrethroids in agriculture and public health. In some areas,  such  as  Tanguieta,  Parakou,  Houeyiho,  Akron, and  Ladji,  farmers  and  gardeners  use  huge  amounts  of insecticides to reduce pests in their crops, which explains the presence and strong expression of several resistance mechanisms in the mosquito populations [39, 40]. Overproduction of resistance enzymes in these areas would be linked to pressure on mosquito larvae from insecticides used by farmers to protect vegetable crops [41-43]. This expression of the kdr resistance gene induced a 17-84% reduction  in  LLIN  efficacy  against  laboratory  strains. These frequencies are similar to those observed in natural  populations  of An.  gambiae s.l.  This  observation shows that the kdr gene is the main mechanism involved in the reduction of the effectiveness of LLINs. Although detoxification  enzymes  contribute  to  resistance,  their impact is successfully inhibited by the presence of PBO on new-generation LLINs and the remaining part is more likely related to the presence of kdr gene in the mosquito populations.  This  also  suggests  that  the  search  for  new molecules or combinations of molecules that target the kdr resistance mechanism should be promoted.\n",
            "\n",
            "The  WHO  recommends  preventive  measures  against vector resistance to insecticides [44]. The results of this study  therefore  constitute  important  evidence  that  can guide decision making in the selection and distribution of high efficacy LLINs in specific regions of Benin. The use of LLINs that showed high bio-efficacy against the local vector  populations  should  be  encouraged  to  contribute substantively to reducing the transmission of malaria in Benin.\n",
            "\n",
            "This study also suggests the need to develop a routine for  monitoring  the  bio-efficacy  of  LLINs  against  local malaria vectors for the replacement of ineffective LLINs. However, community studies would be needed to evaluate the epidemiological impact of these LLINs to confirm whether or not the low efficacy observed is followed by a loss of the epidemiological impact of these nets.\n",
            "\n",
            "Although  the  important  results  of  this  study,  it  had certain  limitations.  Strong  evaluation  would  have  been possible  if  tunnel  tests  were  conducted  on  LLINs  that did  not  meet  the  criteria  of  80%  mortality  with  resistant mosquito strains. In addition, a chemical analysis of the LLINs prior to the start of the study would also have improved  the  quality  of  the  results.  However,  all  the LLINs demonstrated a good performance with susceptible laboratory stain Kisumu (mortality &gt; 80%), as recommended by WHO [45], and the focus of this study was to  demonstrate the important role of resistance mechanisms on LLINs efficacy.\n",
            "\n",
            "## Conclusion\n",
            "\n",
            "This study showed variable effectiveness of LLINs on An. gambiae s.l. populations from different localities surveyed from north to south in Benin. The new-generation LLINs with pyrethroids and PBO (PermaNet 3.0 and Olyset Plus) showed  higher  efficacy  than  conventional  LLINs  (PermaNet 2.0, LifeNet and Olyset net). However, the strong resistance of local vectors to permethrin suggests that the combination of deltamethrin + PBO is the most appropriate  strategy  against  local  vectors  in  Benin.  Although  the addition of PBO (targeting many biochemical mechanisms of resistance) significantly increased the mortality of mosquitoes,  the  significantly  high  role  of  the kdr resistance gene in the low efficacy of LLINs calls for LLIN technology innovation that specifically targets this mechanism.\n",
            "\n",
            "## Authors' contributions\n",
            "\n",
            "MA, VG and MCA designed the study, supervised laboratory work, analyzed data and wrote the manuscript. BY, RA, FA and BA conducted field collections, laboratory tests and contributed in the writing of the manuscript. AH and GGP helped in the study design and revising the manuscript. All authors read and approved the final manuscript.\n",
            "\n",
            "## Author details\n",
            "\n",
            "- 1 Centre de Recherche Entomologique de Cotonou (CREC), Cotonou, Benin. 2 Université d'Abomey-Calavi, Abomey-Calavi, Benin. 3 Medical Care and Development International, Washington, USA.\n",
            "\n",
            "## Acknowledgements\n",
            "\n",
            "We thank CREC personnel for their technical assistance and collaboration.\n",
            "\n",
            "## Competing interests\n",
            "\n",
            "The authors declare that they have no competing interests.\n",
            "\n",
            "## Availability of data and materials\n",
            "\n",
            "Data collected during this study are included in the published article and its additional files.\n",
            "\n",
            "## Funding\n",
            "\n",
            "This work is supported by Faculty of Letters, Arts and Human Sciences of the University of Abomey-Calavi.\n",
            "\n",
            "## Received: 5 December 2016   Accepted: 7 February 2017\n",
            "\n",
            "## References\n",
            "\n",
            "1. WHO. World malaria report 2015. Geneva: World Health Organization; 2015. http://www.who.int/malaria/publications/world-malariareport-2015/report/en/. Accessed 15 Aug 2016.\n",
            "2. Gimnig JE, Lindblade KA, Mount DL, Atieli FK, Crawford S, Wolkon A, et al. Laboratory wash resistance of long-lasting insecticidal nets. Trop Med Int Health. 2005;10:1022-9.\n",
            "3. WHO. The Abuja declaration and the plan of action. An extract from the African Summit on Roll Back Malaria. Geneva: World Health Organization; 2003; p. 1-11. http://www.who.int/malaria/publications/atoz/whocdsrbm200346/en/. Accessed 15 Aug 2016.\n",
            "4. Carnevale P, Robert V, Boudin C, Halna JM, Pazart L, Gazin P , et al. Control of malaria using mosquito nets impregnated with pyrethroids in Burkina Faso. Bull Soc Path Exot Filiales. 1988;81:832-46 (in French) .\n",
            "5. Desfontaine M, Gelas H, Cabon H, Goghomou A, Kouka Bemba D, Carnevale P. Evaluation des pratiques et des couts de lutte antivectorielle à l' échelon familial en Afrique Centrale. II. Ville de Douala (Cameroun), juillet 1988. Ann Soc Belge Méd Trop. 1990;70:137-44.\n",
            "6. Alonso PL, Lindsay SW, Armstrong JRM, de Francisco A, Shenton FC, Greenwood BM, et al. The effect of insecticide-treated bed nets on mortality of Gambian children. Lancet. 1991;337:1499-502.\n",
            "7. D'Alessandro U, Olaleye BO, McGuire W, Thomson MC, Langerock P, Bennett S, et al. A comparison of the efficacy of insecticide-treated and untreated bed nets in preventing malaria in Gambian children. Trans R Soc Trop Med Hyg. 1995;89:596-8.\n",
            "8. Aikins MK, Fox-Rushby J, D'Alessandro U, Langerock P , Cham K, New L, et al. The Gambian National Impregnated Bednet Programme: costs, consequences and net cost-effectiveness. Soc Sci Med. 1998;46:181-91.\n",
            "9. Snow RW, Rowan KM, Lindsay SW, Greenwood BM. A trial of bed nets (mosquito nets) as a malaria control strategy in a rural area of The Gambia, West Africa. Trans R Soc Trop Med Hyg. 1988;82:212-5.\n",
            "10. Karch S, Garin B, Asidi N, Manzambi Z, Salaun JJ, Mouchet J. Moustiquaires impregnées contre le paludisme au Zaire. Ann Soc Belge Méd Trop. 1993;73:37-53.\n",
            "11. Nevill CG, Some ES, Mung'ala VO, Mutemi W, New L, Marsh K, et al. Insecticide-treated bednets reduce mortality and severe morbidity from malaria among children on the Kenyan coast. Trop Med Int Health. 1996;1:139-46.\n",
            "12. Binka FN, Kubaje A, Adjuik M, Williams LA, Lengeler C, Maude GH, et al. Impact of permethrin impregnated bednets on child mortality in Kassena-Nankana district, Ghana: a randomized controlled trial. Trop Med Int Health. 1996;1:147-54.\n",
            "13. Akogbeto PM, Nahum A. Impact of deltamethrin impregnated mosquito nets on the transmission of malaria in the coastal lagoon area, Benin. Bull Soc Path Exot. 1996;89:291-8 (in French) .\n",
            "14. Mathanga DP, Campbell CH, Taylor TE, Barlow R, Wilson ML. Reduction of childhood malaria by social marketing of insecticide-treated nets: a case-control study of effectiveness in Malawi. Am J Trop Med Hyg. 2005;73:622-5.\n",
            "15. Chandre F, Darriet F, Manguin S, Brengues C, Carnevale P , Guillet P . Pyrethroid cross resistance spectrum among populations of Anopheles gambiae s.s. from Côte d'Ivoire. J Am Mosq Control Assoc. 1999;15:53-9.\n",
            "16. Akogbeto M, Yakoubou S. Resistance of malaria vectors to pyrethrins used for impregnating mosquito nets in Benin, West Africa. Bull Soc Pathol Exot. 1999;92:123-30 (in French) .\n",
            "17. Akogbeto MC, Djouaka R, Noukpo H. Use of agricultural insecticides in Benin. Bull Soc Pathol Exot. 2005;98:400-5 (in French) .\n",
            "18. Corbel V, N'Guessan R, Brengues C, Chandre F, Djogbenou L, Martin T, et al. Multiple insecticide resistance mechanisms in Anopheles gambiae and Culex quinquefasciatus from Benin, West Africa. Acta Trop. 2007;101:207-16.\n",
            "19. N'Guessan R, Corbel V, Bonnet J, Yates A, Asidi A, Boko P , et al. Evaluation of indoxacarb, an oxadiazine insecticide for the control of pyrethroidresistant Anopheles gambiae (Diptera: Culicidae). J Med Entomol. 2007;44:270-6.\n",
            "20. Djènontin A, Chabi J, Baldet T, Irish S, Pennetier C, Hougard JM, et al. Managing insecticide resistance in malaria vectors by combining carbamatetreated plastic wall sheeting and pyrethroid-treated bed nets. Malar J. 2009;8:233.\n",
            "21. Yadouleton AW, Padonou G, Asidi A, Moiroux N, Bio-Banganna S, Corbel V, et al. Insecticide resistance status in Anopheles gambiae in southern Benin. Malar J. 2010;9:83.\n",
            "22. Djogbénou L, Pasteur N, Akogbéto M, Weill M, Chandre F. Insecticide resistance in the Anopheles gambiae complex in Benin: a nationwide survey. Med Vet Entomol. 2011;25:256-67.\n",
            "23. Gnanguenon V, Agossa FR, Badirou K, Govoetchan R, Anagonou R, OkeAgbo F, et al. Malaria vectors resistance to insecticides in Benin: current trends and mechanisms involved. Parasit Vectors. 2015;8:223.\n",
            "24. Henry MC, Assi SB, Rogier C, Yovo DJ, Chandre F, Guillet P , et al. Protective efficacy of lambda-cyhalothrin treated nets in Anopheles gambiae pyrethroid resistance areas of Cote d'Ivoire. Am J Trop Med Hyg. 2005;73:859-64.\n",
            "25. Curtis CF, Jana-Kara B, Maxwell CA. Insecticide treated nets: impact on vector populations and relevance of initial intensity of transmission and pyrethroid resistance. J Vector Borne Dis. 2003;40:1-8.\n",
            "26. Asidi A, N'Guessan R, Akogbeto M, Curtis C, Rowland M. Loss of household protection from use of insecticide-treated nets against pyrethroidresistant mosquitoes, Benin. Emerg Infect Dis. 2012;18:1101-6.\n",
            "27. Aïkpon R, Sèzonlin M, Ossè R, Akogbéto M. Evidence of multiple mechanisms providing carbamate and organophosphate resistance in field An. gambiae population from Atacora in Benin. Parasit Vectors. 2014;7:568.\n",
            "28. Corbel V, Hougard J-M, N'Guessan R, Chandre F. Evidence for selection of insecticide resistance due to insensitive acetylcholinesterase by carbamate-treated nets in Anopheles gambiae s.s. (Diptera: Culicidae) from Côte d'Ivoire. J Med Entomol. 2003;40:985-8.\n",
            "29. Kweka EJ, Lyaruu LJ, Mahande AM. Efficacy of PermaNet ® 3.0 and PermaNet ® 2.0 nets against laboratory-reared and wild Anopheles gambiae sensu lato populations in northern Tanzania. Infect Dis Poverty. 2017;6:11.\n",
            "30. Brogdon WG, McAllister JC, Vulule JM. Association of heme peroxidase activity measured in single-mosquitoes identifies individuals expressing an elevated oxidase for insecticide resistance. J Am Mosq Control Assoc. 1997;13:233-7.\n",
            "31. Martinez-Torres D, Chandre F, Williamson MS, Darriet F, Bergé JB, Devonshire AL, et al. Molecular characterization of pyrethroid knockdown resistance (kdr) in the major malaria vector Anopheles gambiae s.s . Insect Mol Biol. 1998;7:179-84.\n",
            "32. Hemingway J, Hawkes N, Prapanthadara L, Jayawardenal KGI, Ranson H. The role of gene splicing, gene amplification and regulation in mosquito insecticide resistance. Philos Trans R Soc Lond B Biol Sci. 1998;353:1695-9.\n",
            "33. Finney D. Review of probit analysis: a statistical treatment of the sigmoid response curve. J R Stat Soc. 1947;110:263-6.\n",
            "34. Okia M, Ndyomugyenyi R, Kirunda J, Byaruhanga A, Adibaku S, Lwamafa DK, et al. Bioefficacy of long-lasting insecticidal nets against pyrethroidresistant populations of Anopheles gambiae s.s . from different malaria transmission zones in Uganda. Parasit Vectors. 2013;6:130.\n",
            "\n",
            "35. Yewhalaw D, Asale A, Tushune K, Getachew Y, Duchateau L, Speybroeck N. Bio-efficacy of selected long-lasting insecticidal nets against pyrethroid resistant Anopheles arabiensis from South-Western Ethiopia. Parasit Vectors. 2012;5:159.\n",
            "36. Pennetier C, Bouraima A, Chandre F, Piameu M, Etang J, Rossignol M, et al. Efficacy of Olyset ® Plus, a new long-lasting insecticidal net incorporating permethrin and piperonil-butoxide against multi-resistant malaria vectors. PLoS ONE. 2013;8:e75134.\n",
            "37. Ranson H, Abdallah H, Badolo A, Guelbeogo WM, Kerah-Hinzoumbé C, Yangalbé-Kalnoné E, et al. Insecticide resistance in Anopheles gambiae : data from the first year of a multi-country study highlight the extent of the problem. Malar J. 2009;8:299.\n",
            "38. Chouaibou MS, Chabi J, Bingham GV, Knox TB, N'Dri L, Kesse NB, et al. Increase in susceptibility to insecticides with aging of wild Anopheles gambiae mosquitoes from Côte d'Ivoire. BMC Infect Dis. 2012;12:214.\n",
            "39. Akogbéto MC, Djouaka RF, Kindé-Gazard DA. Screening of pesticide residues in soil and water samples from agricultural settings. Malar J. 2006;5:22.\n",
            "40. Yadouleton A, Asidi A, Djouaka R, Braïma J, Agossou C, Akogbeto M. Development of vegetable farming: a cause of the emergence of\n",
            "7. insecticide resistance in populations of Anopheles gambiae in urban areas of Benin. Malar J. 2009;8:103.\n",
            "41. Diabate A, Baldet T, Chandre F, Akogbeto M, Guiguemde TR, Darriet F, et al. The role of agricultural use of insecticides in resistance to pyrethroids in Anopheles gambiae s.l. in Burkina Faso. Am J Trop Med Hyg. 2002;67:617-22.\n",
            "42. Djouaka R, Irving H, Tukur Z, Wondji CS. Exploring mechanisms of multiple insecticide resistance in a population of the malaria vector Anopheles funestus in Benin. PLoS ONE. 2011;6:e27760.\n",
            "43. Aïkpon R, Agossa F, Ossè R, Oussou O, Aïzoun N, Oké-Agbo F, et al. Bendiocarb resistance in Anopheles gambiae s.l. populations from Atacora department in Benin, West Africa: a threat for malaria vector control. Parasit Vectors. 2013;6:192.\n",
            "44. WHO. Test procedures for insecticide resistance monitoring in malaria vector mosquitoes. Geneva: World Health Organization; 2013.\n",
            "45. WHO. Guidelines for laboratory and field-testing of long-lasting insecticidal nets. Geneva: World Health Organization; 2013. p. 1-102.\n",
            "\n",
            "## Submit your next manuscript to BioMed Central and we will help you at every step:\n",
            "\n",
            "- We accept pre-submission inquiries\n",
            "- Our selector tool helps you to find the most relevant journal\n",
            "- We provide round the clock customer support\n",
            "- Convenient online submission\n",
            "- Thorough peer review\n",
            "- Inclusion in PubMed and all major indexing services\n",
            "- Maximum visibility for your research\n",
            "\n",
            "Submit your manuscript at www.biomedcentral.com/submit\n",
            "\n",
            "<!-- image -->\n"
          ]
        }
      ]
    },
    {
      "cell_type": "markdown",
      "source": [
        "## PyMuPDF4LLM\n",
        "\n",
        "Read https://pymupdf.readthedocs.io/en/latest/pymupdf4llm/api.html#pymupdf4llm-api\n",
        "\n",
        "## Improving Header Detection in PyMuPDF4LLM for Academic Papers\n",
        "\n",
        "PyMuPDF4LLM is highly efficient for extracting structured text and headers from PDFs, but it can miss headers—sometimes treating them as bolded text rather than true markdown headers. This issue is common in academic papers with complex or inconsistent formatting. Here’s how to address and improve header detection for accurate markdown output.\n",
        "\n",
        "### Why Headers Are Missed\n",
        "\n",
        "- **Default detection relies on font size**: By default, PyMuPDF4LLM maps larger font sizes to headers. If a document uses bolding or other styles (not size) for headers, these may be missed and rendered as regular or bold text[1][2].\n",
        "- **False negatives**: Headers with the same font size as body text but with different styling (bold, all-caps) are not detected as headers automatically.\n",
        "\n",
        "### Solutions for Accurate Header Structure\n",
        "\n",
        "#### 1. **Customize Header Detection Logic**\n",
        "\n",
        "You can provide a custom function to the `hdr_info` parameter in `to_markdown()` to define what counts as a header. This function receives the text span and can use additional properties (e.g., font name, bold status, color) to identify headers.\n",
        "\n",
        "**Example: Custom Header Detection Using Font Properties**\n",
        "\n",
        "```python\n",
        "\n",
        "def custom_header_logic(span, page=None):\n",
        "    # Example: treat bold, all-caps lines as headers\n",
        "    text = span[\"text\"].strip()\n",
        "    is_bold = \"Bold\" in span.get(\"font\", \"\")\n",
        "    is_all_caps = text.isupper()\n",
        "    font_size = span[\"size\"]\n",
        "\n",
        "    if is_bold and is_all_caps and len(text) > 3:\n",
        "        return \"# \"\n",
        "    elif is_bold and font_size > 12:\n",
        "        return \"## \"\n",
        "    else:\n",
        "        return \"\"\n",
        "\n",
        "md_text = pymupdf4llm.to_markdown(doc, hdr_info=custom_header_logic)\n",
        "```\n",
        "- Adjust the logic to match your document’s header style (e.g., check for underline, color, or position)[1].\n",
        "\n",
        "#### 2. **Leverage Table of Contents (TOC) for Header Mapping**\n",
        "\n",
        "If your PDF has a TOC/bookmarks, use them to map headers accurately:\n",
        "\n",
        "```python\n",
        "toc = doc.get_toc()\n",
        "\n",
        "def toc_header_logic(span, page=None):\n",
        "    toc_items = [t for t in toc if t[-1] == page.number + 1]\n",
        "    for lvl, title, _ in toc_items:\n",
        "        if span[\"text\"].strip().startswith(title):\n",
        "            return \"#\" * lvl + \" \"\n",
        "    return \"\"\n",
        "\n",
        "md_text = pymupdf4llm.to_markdown(doc, hdr_info=toc_header_logic)\n",
        "```\n",
        "- This approach uses the document’s own hierarchy for maximum accuracy[1].\n",
        "\n",
        "#### 3. **Limit or Expand Header Levels**\n",
        "\n",
        "You can set the maximum number of header levels with `max_levels` in the `IdentifyHeaders` class. This helps if the default mapping is too shallow or deep:\n",
        "\n",
        "```python\n",
        "from pymupdf4llm import IdentifyHeaders\n",
        "\n",
        "my_headers = IdentifyHeaders(doc, max_levels=4)\n",
        "md_text = pymupdf4llm.to_markdown(doc, hdr_info=my_headers)\n",
        "```\n",
        "- Adjust `max_levels` to fit your needs[1].\n",
        "\n",
        "#### 4. **Post-Process Markdown for Missed Headers**\n",
        "\n",
        "If some headers are still missed (e.g., bolded lines without size change), post-process the markdown to promote bold lines to headers using regex or markdown libraries.\n",
        "\n",
        "### Best Practices\n",
        "\n",
        "- **Inspect font properties** in your PDF using `page.get_text(\"dict\")` to see how headers are styled.\n",
        "- **Combine multiple cues**: font size, weight, all-caps, position, and TOC.\n",
        "- **Test your logic** on several papers, as academic PDFs often differ in formatting.\n",
        "\n",
        "### Summary Table: Header Detection Strategies\n",
        "\n",
        "| Approach                         | When to Use                          | Example Code Ref.  |\n",
        "|-----------------------------------|--------------------------------------|--------------------|\n",
        "| Custom font/style logic           | Headers are bold/caps, not larger    | See above          |\n",
        "| TOC-based mapping                 | PDF has bookmarks/TOC                | See above          |\n",
        "| Adjust header levels (`max_levels`)| Too many/few header levels           | See above          |\n",
        "| Post-processing markdown          | Some headers still missed            | Use regex tools    |\n",
        "\n",
        "By customizing the header detection logic and leveraging document-specific cues, you can achieve highly accurate, layout-aware header extraction for academic research papers using PyMuPDF4LLM[1][2][3].\n",
        "\n",
        "[1] https://pymupdf.readthedocs.io/en/latest/pymupdf4llm/api.html\n",
        "[2] https://pymupdf.readthedocs.io/en/latest/pymupdf4llm/\n",
        "[3] https://artifex.com/blog/building-a-multimodal-llm-application-with-pymupdf4llm\n",
        "[4] https://buildmedia.readthedocs.org/media/pdf/pymupdf/latest/pymupdf.pdf\n",
        "[5] https://github.com/pymupdf/RAG/issues/90\n",
        "[6] https://pymupdf.readthedocs.io/en/latest/xml-class.html\n",
        "[7] https://stackoverflow.com/questions/937808/how-to-extract-data-from-a-pdf-file-while-keeping-track-of-its-structure\n",
        "[8] https://endevsols.com/the-pdf-extraction-revolution-why-pymupdf4llm-is-the-ultimate-game-changer/\n",
        "[9] https://pypi.org/project/pymupdf4llm/\n",
        "[10] https://ai.gopubby.com/the-pdf-extraction-revolution-why-pymupdf4llm-is-your-new-best-friend-and-llamaparse-is-crying-e57882dee7f8\n",
        "[11] https://pymupdf.readthedocs.io/en/latest/tutorial.html\n",
        "[12] https://pymupdf.readthedocs.io/en/latest/changes.html\n",
        "[13] https://colab.research.google.com/github/langchain-ai/langchain/blob/master/docs/docs/integrations/document_loaders/pymupdf4llm.ipynb\n",
        "[14] https://sites.google.com/view/raybellwaves/courses/introduction-to-data-science-and-machine-learning\n",
        "[15] https://www.reddit.com/r/LangChain/comments/1e7cntq/whats_the_best_python_library_for_extracting_text/\n",
        "[16] https://artifex.com/blog/rag-llm-and-pdf-conversion-to-markdown-text-with-pymupdf\n",
        "[17] https://arxiv.org/html/2409.05137v1"
      ],
      "metadata": {
        "id": "CDgqMdU7cTSK"
      },
      "id": "CDgqMdU7cTSK"
    },
    {
      "cell_type": "code",
      "source": [
        "import pymupdf\n",
        "import pymupdf4llm\n",
        "from pymupdf4llm import IdentifyHeaders\n",
        "\n",
        "doc = pymupdf.open(file_path)\n",
        "\n",
        "doc.get_toc()"
      ],
      "metadata": {
        "colab": {
          "base_uri": "https://localhost:8080/"
        },
        "id": "Y6YDvVaScXKN",
        "outputId": "2956aa7f-88e8-414a-cef0-eb523029f0ce"
      },
      "id": "Y6YDvVaScXKN",
      "execution_count": 91,
      "outputs": [
        {
          "output_type": "execute_result",
          "data": {
            "text/plain": [
              "[]"
            ]
          },
          "metadata": {},
          "execution_count": 91
        }
      ]
    },
    {
      "cell_type": "code",
      "source": [
        "doc.metadata"
      ],
      "metadata": {
        "colab": {
          "base_uri": "https://localhost:8080/"
        },
        "id": "Vcw6tftvCpRn",
        "outputId": "1ab335b8-5728-473f-dff3-0939de276061"
      },
      "id": "Vcw6tftvCpRn",
      "execution_count": 92,
      "outputs": [
        {
          "output_type": "execute_result",
          "data": {
            "text/plain": [
              "{'format': 'PDF 1.7',\n",
              " 'title': 'The impact of permethrin‐impregnated bednets on malaria vectors of the Kenyan coast',\n",
              " 'author': '',\n",
              " 'subject': 'Medical and Veterinary Entomology 1996.10:251-259',\n",
              " 'keywords': '',\n",
              " 'creator': 'ocrmypdf 16.1.2 / Tesseract OCRhOCR 5.3.4',\n",
              " 'producer': 'macOS Version 15.5 (Build 24F74) Quartz PDFContext, AppendMode 1.1',\n",
              " 'creationDate': \"D:20080304102141Z00'00'\",\n",
              " 'modDate': \"D:20250708212750Z00'00'\",\n",
              " 'trapped': '',\n",
              " 'encryption': None}"
            ]
          },
          "metadata": {},
          "execution_count": 92
        }
      ]
    },
    {
      "cell_type": "code",
      "source": [
        "%%time\n",
        "\n",
        "# header parse method 1: Custom logic\n",
        "def custom_header_logic(span, page=None):\n",
        "    # Example: treat bold, all-caps lines as headers\n",
        "    text = span[\"text\"].strip()\n",
        "    is_bold = \"Bold\" in span.get(\"font\", \"\")\n",
        "    is_all_caps = text.isupper()\n",
        "    font_size = span[\"size\"]\n",
        "\n",
        "    if is_bold and is_all_caps and len(text) > 3:\n",
        "        return \"# \"\n",
        "    elif is_bold and font_size > 12:\n",
        "        return \"## \"\n",
        "    else:\n",
        "        return \"\"\n",
        "\n",
        "# header parse method 2\n",
        "my_headers = IdentifyHeaders(doc, max_levels=4)\n",
        "\n",
        "# header parse method 3\n",
        "toc = doc.get_toc()\n",
        "def toc_header_logic(span, page=None):\n",
        "    toc_items = [t for t in toc if t[-1] == page.number + 1]\n",
        "    for lvl, title, _ in toc_items:\n",
        "        if span[\"text\"].strip().startswith(title): # Improve string matching here\n",
        "            return \"#\" * lvl + \" \"\n",
        "    return \"\"\n",
        "\n",
        "md_text = pymupdf4llm.to_markdown(\n",
        "    doc,\n",
        "    hdr_info=my_headers,\n",
        "    # hdr_info=toc_header_logic,\n",
        "    # page_chunks=\"toc_items\",\n",
        "    # table_strategy=None\n",
        ")"
      ],
      "metadata": {
        "colab": {
          "base_uri": "https://localhost:8080/"
        },
        "id": "_58hKTuC1FR6",
        "outputId": "516922c3-e9cc-4431-8c92-a32d3c93f3bd"
      },
      "id": "_58hKTuC1FR6",
      "execution_count": 95,
      "outputs": [
        {
          "output_type": "stream",
          "name": "stdout",
          "text": [
            "CPU times: user 6.79 s, sys: 136 ms, total: 6.93 s\n",
            "Wall time: 7.89 s\n"
          ]
        }
      ]
    },
    {
      "cell_type": "code",
      "source": [
        "print(md_text)"
      ],
      "metadata": {
        "colab": {
          "base_uri": "https://localhost:8080/"
        },
        "id": "UdZH72URca_w",
        "outputId": "af7046dc-03da-4926-ea53-b3e9a3c2a3d6"
      },
      "id": "UdZH72URca_w",
      "execution_count": 96,
      "outputs": [
        {
          "output_type": "stream",
          "name": "stdout",
          "text": [
            "\n"
          ]
        }
      ]
    },
    {
      "cell_type": "markdown",
      "source": [
        "#### pymupdf4llm.LlamaMarkdownReader\n",
        "\n",
        "This is nice since it parses into LlamaDocument objects for us, which can directly feed into the vector db. But, it doesn't work so well because we need the documents to chunk by section headers, not by page number."
      ],
      "metadata": {
        "id": "Pko9R6EP41b9"
      },
      "id": "Pko9R6EP41b9"
    },
    {
      "cell_type": "code",
      "source": [
        "%%time\n",
        "llama_reader = pymupdf4llm.LlamaMarkdownReader()\n",
        "llama_docs = llama_reader.load_data(file_path)"
      ],
      "metadata": {
        "id": "MnVH0WlXrq_f"
      },
      "id": "MnVH0WlXrq_f",
      "execution_count": 97,
      "outputs": []
    },
    {
      "cell_type": "code",
      "source": [
        "[(display(p.metadata), print(p.text)) for p in llama_docs]"
      ],
      "metadata": {
        "colab": {
          "base_uri": "https://localhost:8080/",
          "height": 1000
        },
        "id": "nuAENj6irwA9",
        "outputId": "09c9857c-0843-4629-818b-f6389873ff70"
      },
      "id": "nuAENj6irwA9",
      "execution_count": 98,
      "outputs": [
        {
          "output_type": "display_data",
          "data": {
            "text/plain": [
              "{'format': 'PDF 1.7',\n",
              " 'title': 'The impact of permethrin‐impregnated bednets on malaria vectors of the Kenyan coast',\n",
              " 'author': '',\n",
              " 'subject': 'Medical and Veterinary Entomology 1996.10:251-259',\n",
              " 'keywords': '',\n",
              " 'creator': 'ocrmypdf 16.1.2 / Tesseract OCRhOCR 5.3.4',\n",
              " 'producer': 'macOS Version 15.5 (Build 24F74) Quartz PDFContext, AppendMode 1.1',\n",
              " 'creationDate': \"D:20080304102141Z00'00'\",\n",
              " 'modDate': \"D:20250708212750Z00'00'\",\n",
              " 'trapped': '',\n",
              " 'encryption': None,\n",
              " 'page': 1,\n",
              " 'total_pages': 9,\n",
              " 'file_path': '/content/pdfs/Mbogo_et_al_1996_Med_Vet_Ento.pdf'}"
            ]
          },
          "metadata": {}
        },
        {
          "output_type": "stream",
          "name": "stdout",
          "text": [
            "\n"
          ]
        },
        {
          "output_type": "display_data",
          "data": {
            "text/plain": [
              "{'format': 'PDF 1.7',\n",
              " 'title': 'The impact of permethrin‐impregnated bednets on malaria vectors of the Kenyan coast',\n",
              " 'author': '',\n",
              " 'subject': 'Medical and Veterinary Entomology 1996.10:251-259',\n",
              " 'keywords': '',\n",
              " 'creator': 'ocrmypdf 16.1.2 / Tesseract OCRhOCR 5.3.4',\n",
              " 'producer': 'macOS Version 15.5 (Build 24F74) Quartz PDFContext, AppendMode 1.1',\n",
              " 'creationDate': \"D:20080304102141Z00'00'\",\n",
              " 'modDate': \"D:20250708212750Z00'00'\",\n",
              " 'trapped': '',\n",
              " 'encryption': None,\n",
              " 'page': 2,\n",
              " 'total_pages': 9,\n",
              " 'file_path': '/content/pdfs/Mbogo_et_al_1996_Med_Vet_Ento.pdf'}"
            ]
          },
          "metadata": {}
        },
        {
          "output_type": "stream",
          "name": "stdout",
          "text": [
            "\n"
          ]
        },
        {
          "output_type": "display_data",
          "data": {
            "text/plain": [
              "{'format': 'PDF 1.7',\n",
              " 'title': 'The impact of permethrin‐impregnated bednets on malaria vectors of the Kenyan coast',\n",
              " 'author': '',\n",
              " 'subject': 'Medical and Veterinary Entomology 1996.10:251-259',\n",
              " 'keywords': '',\n",
              " 'creator': 'ocrmypdf 16.1.2 / Tesseract OCRhOCR 5.3.4',\n",
              " 'producer': 'macOS Version 15.5 (Build 24F74) Quartz PDFContext, AppendMode 1.1',\n",
              " 'creationDate': \"D:20080304102141Z00'00'\",\n",
              " 'modDate': \"D:20250708212750Z00'00'\",\n",
              " 'trapped': '',\n",
              " 'encryption': None,\n",
              " 'page': 3,\n",
              " 'total_pages': 9,\n",
              " 'file_path': '/content/pdfs/Mbogo_et_al_1996_Med_Vet_Ento.pdf'}"
            ]
          },
          "metadata": {}
        },
        {
          "output_type": "stream",
          "name": "stdout",
          "text": [
            "\n"
          ]
        },
        {
          "output_type": "display_data",
          "data": {
            "text/plain": [
              "{'format': 'PDF 1.7',\n",
              " 'title': 'The impact of permethrin‐impregnated bednets on malaria vectors of the Kenyan coast',\n",
              " 'author': '',\n",
              " 'subject': 'Medical and Veterinary Entomology 1996.10:251-259',\n",
              " 'keywords': '',\n",
              " 'creator': 'ocrmypdf 16.1.2 / Tesseract OCRhOCR 5.3.4',\n",
              " 'producer': 'macOS Version 15.5 (Build 24F74) Quartz PDFContext, AppendMode 1.1',\n",
              " 'creationDate': \"D:20080304102141Z00'00'\",\n",
              " 'modDate': \"D:20250708212750Z00'00'\",\n",
              " 'trapped': '',\n",
              " 'encryption': None,\n",
              " 'page': 4,\n",
              " 'total_pages': 9,\n",
              " 'file_path': '/content/pdfs/Mbogo_et_al_1996_Med_Vet_Ento.pdf'}"
            ]
          },
          "metadata": {}
        },
        {
          "output_type": "stream",
          "name": "stdout",
          "text": [
            "\n"
          ]
        },
        {
          "output_type": "display_data",
          "data": {
            "text/plain": [
              "{'format': 'PDF 1.7',\n",
              " 'title': 'The impact of permethrin‐impregnated bednets on malaria vectors of the Kenyan coast',\n",
              " 'author': '',\n",
              " 'subject': 'Medical and Veterinary Entomology 1996.10:251-259',\n",
              " 'keywords': '',\n",
              " 'creator': 'ocrmypdf 16.1.2 / Tesseract OCRhOCR 5.3.4',\n",
              " 'producer': 'macOS Version 15.5 (Build 24F74) Quartz PDFContext, AppendMode 1.1',\n",
              " 'creationDate': \"D:20080304102141Z00'00'\",\n",
              " 'modDate': \"D:20250708212750Z00'00'\",\n",
              " 'trapped': '',\n",
              " 'encryption': None,\n",
              " 'page': 5,\n",
              " 'total_pages': 9,\n",
              " 'file_path': '/content/pdfs/Mbogo_et_al_1996_Med_Vet_Ento.pdf'}"
            ]
          },
          "metadata": {}
        },
        {
          "output_type": "stream",
          "name": "stdout",
          "text": [
            "\n"
          ]
        },
        {
          "output_type": "display_data",
          "data": {
            "text/plain": [
              "{'format': 'PDF 1.7',\n",
              " 'title': 'The impact of permethrin‐impregnated bednets on malaria vectors of the Kenyan coast',\n",
              " 'author': '',\n",
              " 'subject': 'Medical and Veterinary Entomology 1996.10:251-259',\n",
              " 'keywords': '',\n",
              " 'creator': 'ocrmypdf 16.1.2 / Tesseract OCRhOCR 5.3.4',\n",
              " 'producer': 'macOS Version 15.5 (Build 24F74) Quartz PDFContext, AppendMode 1.1',\n",
              " 'creationDate': \"D:20080304102141Z00'00'\",\n",
              " 'modDate': \"D:20250708212750Z00'00'\",\n",
              " 'trapped': '',\n",
              " 'encryption': None,\n",
              " 'page': 6,\n",
              " 'total_pages': 9,\n",
              " 'file_path': '/content/pdfs/Mbogo_et_al_1996_Med_Vet_Ento.pdf'}"
            ]
          },
          "metadata": {}
        },
        {
          "output_type": "stream",
          "name": "stdout",
          "text": [
            "\n"
          ]
        },
        {
          "output_type": "display_data",
          "data": {
            "text/plain": [
              "{'format': 'PDF 1.7',\n",
              " 'title': 'The impact of permethrin‐impregnated bednets on malaria vectors of the Kenyan coast',\n",
              " 'author': '',\n",
              " 'subject': 'Medical and Veterinary Entomology 1996.10:251-259',\n",
              " 'keywords': '',\n",
              " 'creator': 'ocrmypdf 16.1.2 / Tesseract OCRhOCR 5.3.4',\n",
              " 'producer': 'macOS Version 15.5 (Build 24F74) Quartz PDFContext, AppendMode 1.1',\n",
              " 'creationDate': \"D:20080304102141Z00'00'\",\n",
              " 'modDate': \"D:20250708212750Z00'00'\",\n",
              " 'trapped': '',\n",
              " 'encryption': None,\n",
              " 'page': 7,\n",
              " 'total_pages': 9,\n",
              " 'file_path': '/content/pdfs/Mbogo_et_al_1996_Med_Vet_Ento.pdf'}"
            ]
          },
          "metadata": {}
        },
        {
          "output_type": "stream",
          "name": "stdout",
          "text": [
            "\n"
          ]
        },
        {
          "output_type": "display_data",
          "data": {
            "text/plain": [
              "{'format': 'PDF 1.7',\n",
              " 'title': 'The impact of permethrin‐impregnated bednets on malaria vectors of the Kenyan coast',\n",
              " 'author': '',\n",
              " 'subject': 'Medical and Veterinary Entomology 1996.10:251-259',\n",
              " 'keywords': '',\n",
              " 'creator': 'ocrmypdf 16.1.2 / Tesseract OCRhOCR 5.3.4',\n",
              " 'producer': 'macOS Version 15.5 (Build 24F74) Quartz PDFContext, AppendMode 1.1',\n",
              " 'creationDate': \"D:20080304102141Z00'00'\",\n",
              " 'modDate': \"D:20250708212750Z00'00'\",\n",
              " 'trapped': '',\n",
              " 'encryption': None,\n",
              " 'page': 8,\n",
              " 'total_pages': 9,\n",
              " 'file_path': '/content/pdfs/Mbogo_et_al_1996_Med_Vet_Ento.pdf'}"
            ]
          },
          "metadata": {}
        },
        {
          "output_type": "stream",
          "name": "stdout",
          "text": [
            "\n"
          ]
        },
        {
          "output_type": "display_data",
          "data": {
            "text/plain": [
              "{'format': 'PDF 1.7',\n",
              " 'title': 'The impact of permethrin‐impregnated bednets on malaria vectors of the Kenyan coast',\n",
              " 'author': '',\n",
              " 'subject': 'Medical and Veterinary Entomology 1996.10:251-259',\n",
              " 'keywords': '',\n",
              " 'creator': 'ocrmypdf 16.1.2 / Tesseract OCRhOCR 5.3.4',\n",
              " 'producer': 'macOS Version 15.5 (Build 24F74) Quartz PDFContext, AppendMode 1.1',\n",
              " 'creationDate': \"D:20080304102141Z00'00'\",\n",
              " 'modDate': \"D:20250708212750Z00'00'\",\n",
              " 'trapped': '',\n",
              " 'encryption': None,\n",
              " 'page': 9,\n",
              " 'total_pages': 9,\n",
              " 'file_path': '/content/pdfs/Mbogo_et_al_1996_Med_Vet_Ento.pdf'}"
            ]
          },
          "metadata": {}
        },
        {
          "output_type": "stream",
          "name": "stdout",
          "text": [
            "\n"
          ]
        },
        {
          "output_type": "execute_result",
          "data": {
            "text/plain": [
              "[(None, None),\n",
              " (None, None),\n",
              " (None, None),\n",
              " (None, None),\n",
              " (None, None),\n",
              " (None, None),\n",
              " (None, None),\n",
              " (None, None),\n",
              " (None, None)]"
            ]
          },
          "metadata": {},
          "execution_count": 98
        }
      ]
    },
    {
      "cell_type": "markdown",
      "source": [
        "## Marker"
      ],
      "metadata": {
        "id": "c4g4deYjcCeZ"
      },
      "id": "c4g4deYjcCeZ"
    },
    {
      "cell_type": "code",
      "source": [
        "from marker.converters.pdf import PdfConverter\n",
        "from marker.config.parser import ConfigParser\n",
        "\n",
        "from marker.models import create_model_dict\n",
        "from marker.schema import BlockTypes\n",
        "\n",
        "artifact_dict = create_model_dict()\n",
        "artifact_dict"
      ],
      "metadata": {
        "colab": {
          "base_uri": "https://localhost:8080/"
        },
        "id": "KtnRWV1KoanW",
        "outputId": "4efccf4b-adb1-4264-e05e-f4405690332a"
      },
      "id": "KtnRWV1KoanW",
      "execution_count": 110,
      "outputs": [
        {
          "output_type": "execute_result",
          "data": {
            "text/plain": [
              "{'layout_model': <surya.layout.LayoutPredictor at 0x7f91c1e6ce90>,\n",
              " 'recognition_model': <surya.recognition.RecognitionPredictor at 0x7f91d5c9e550>,\n",
              " 'table_rec_model': <surya.table_rec.TableRecPredictor at 0x7f91ca3e67d0>,\n",
              " 'detection_model': <surya.detection.DetectionPredictor at 0x7f93d2cb5ad0>,\n",
              " 'ocr_error_model': <surya.ocr_error.OCRErrorPredictor at 0x7f91bded8b10>}"
            ]
          },
          "metadata": {},
          "execution_count": 110
        }
      ]
    },
    {
      "cell_type": "code",
      "source": [
        "%%time\n",
        "# Step 2: Configure to skip OCR on tables\n",
        "cli_opts = {\n",
        "    \"OCR_ENGINE\": None,\n",
        "    \"processors\": None,\n",
        "    \"output_format\": 'markdown'\n",
        "}\n",
        "config = ConfigParser(cli_opts).generate_config_dict()\n",
        "\n",
        "# Step 3: Create converter with custom TOC header processor\n",
        "converter = PdfConverter(\n",
        "    config=config,\n",
        "    artifact_dict=artifact_dict,\n",
        "    renderer=ConfigParser(cli_opts).get_renderer(),\n",
        ")\n",
        "\n",
        "# Step 4: Run conversion\n",
        "result = converter(file_path)\n",
        "md, meta, imgs = result.markdown, result.metadata, result.images"
      ],
      "metadata": {
        "colab": {
          "base_uri": "https://localhost:8080/"
        },
        "id": "DiczzGCekvuu",
        "outputId": "bfdfb371-3a82-46de-ddd1-40a05a85468e"
      },
      "id": "DiczzGCekvuu",
      "execution_count": 118,
      "outputs": [
        {
          "output_type": "stream",
          "name": "stderr",
          "text": [
            "Recognizing layout: 100%|██████████| 1/1 [00:05<00:00,  5.19s/it]\n",
            "Running OCR Error Detection: 100%|██████████| 1/1 [00:00<00:00, 35.45it/s]\n",
            "Detecting bboxes: 100%|██████████| 1/1 [00:03<00:00,  3.47s/it]\n",
            "Recognizing Text: 100%|██████████| 607/607 [03:03<00:00,  3.31it/s]\n",
            "Detecting bboxes: 100%|██████████| 1/1 [00:00<00:00,  1.28it/s]\n",
            "Recognizing Text: 100%|██████████| 292/292 [01:02<00:00,  4.65it/s]\n",
            "Recognizing tables: 100%|██████████| 1/1 [00:08<00:00,  8.70s/it]\n"
          ]
        },
        {
          "output_type": "stream",
          "name": "stdout",
          "text": [
            "CPU times: user 4min 35s, sys: 13.2 s, total: 4min 48s\n",
            "Wall time: 4min 47s\n"
          ]
        }
      ]
    },
    {
      "cell_type": "code",
      "source": [
        "Markdown(md)"
      ],
      "metadata": {
        "colab": {
          "resources": {
            "http://localhost:8080/_page_5_Figure_1.jpeg": {
              "data": "",
              "ok": false,
              "headers": [
                [
                  "content-length",
                  "0"
                ]
              ],
              "status": 404,
              "status_text": ""
            },
            "http://localhost:8080/_page_2_Figure_10.jpeg": {
              "data": "",
              "ok": false,
              "headers": [
                [
                  "content-length",
                  "0"
                ]
              ],
              "status": 404,
              "status_text": ""
            }
          },
          "base_uri": "https://localhost:8080/",
          "height": 1000
        },
        "id": "UcRe8yxiF-mF",
        "outputId": "ef1cdcbf-f62e-40eb-c8dd-cf885de6f989"
      },
      "id": "UcRe8yxiF-mF",
      "execution_count": 129,
      "outputs": [
        {
          "output_type": "execute_result",
          "data": {
            "text/plain": [
              "<IPython.core.display.Markdown object>"
            ],
            "text/markdown": "# The impact of permethrin-impregnated bednets on malaria vectors of the Kenyan coast\n\nC. N. M. MBOGO,<sup>1,2</sup> N. M. BAYA,<sup>1</sup> A. V. O. OFULLA.<sup>2</sup> J. I. GITHURE<sup>2</sup> and R. W. SNOW<sup>1,3</sup>\n\n<sup>1</sup> Clinical Research Centre and <sup>2</sup> Biomedical Sciences Research Centre, Kenya Medical Research Institute (KEMRI), Kenya, and <sup>3</sup> Nuffield Department of Clinical Medicine, Oxford University, John Radcliffe Hospital, Oxford, U.K.\n\n> **Abstract.** The effects of introducing permethrin-impregnated bednets on local populations of the malaria vector mosquitoes Anopheles funestus and the An.gambiae complex was monitored during a randomized controlled trial at Kilifi on the Kenyan coast. Pyrethrum spray collections inside 762 households were conducted between May 1994 and April 1995 after the introduction of bednets in half of the study area. All-night human bait collections were performed in two zones (one control and one intervention) for two nights each month during the same period. PCR identifications of An gambiae sensulato showed that proportions of sibling species were An gambiae sensu  $stricto > An.merus > An. arabiensis.$\n\n> Indoor-resting densities of An.gambiae s.l. and the proportion of engorged females decreased significantly in intervention zones as compared to control zones. However, the human blood index and *Plasmodium falciparum* sporozoite rate remained unaffected. Also vector parous rates were unaltered by the intervention, implying that survival rates of malaria vectors were not affected. The human-biting density of An.gambiae s.l., the predominant vector, was consistently higher in the intervention zone compared to the control zone, but showed 8% reduction compared to pre-intervention biting rates - versus 94% increase in the control zone.\n\n> Bioassay, susceptibility and high-performance liquid chromatography results all indicated that the permethrin content applied to the nets was sufficient to maintain high mortality of susceptible vectors throughout the trial. Increased rates of early outdoorbiting, as opposed to indoor-biting later during the night, were behavioural or vector composition changes associated with this intervention, which would require further monitoring during control programmes employing insecticide-treated bednets.\n\n> **Key words.** Anopheles arabiensis, An.funestus, An.gambiae, An.merus, malaria, permethrin-impregnated bednets, mosquito nets, Kenya Coast.\n\n## Introduction\n\nBednets (mosquito nets) are traditionally used to ward off mosquitoes and have been advocated as a means of personal protection against malaria vectors in Africa (W.H.O., 1986). However, torn or incorrectly tucked nets provide little additional protection and mosquitoes are adept at feeding through nets on exposed limbs (Port & Boreham, 1982). For these reasons the application of a residual insecticide (of low mammalian toxicity) to bednets was suggested in the late 1970s as a means of reinstating the effectiveness of torn or incorrectly used nets as a\n\nCorrespondence: Dr Charles N. M. Mbogo, Kilifi Research Unit, KEMRI, P.O. Box 230, Kilifi, Kenya.\n\nman-vector barrier (Curtis et al., 1990). Synthetic pyrethroids such as permethrin and deltamethrin, which have high insecticidal and excito-repellant properties, are most suitable for the treatment of bednets and have been adopted in several countries as part of national malaria control activities (Curtis et al., 1990).\n\nMalaria is the single largest cause of death among children living in tropical Africa (World Bank, 1993). Across this continent, the rates of malaria transmission and endemicity levels vary widely. The impact of insecticide-treated bednets (ITBN) upon the vector population's ability to transmit, and hence the degree of personal protection, depend largely upon the intensity of transmission in any given area. Despite encouraging effects of ITBN in reducing both morbidity and mortality among Gambian children by over 60% (Snow et al., 1988; Alonso et al.,\n\n1991), those results apply to an area with low rates of sporozoite challenge with extremely seasonal vector activity (Lindsay et al., 1993). The limitations of recommendations based on one transmission setting prompted the W.H.O. to replicate ITBN trials in several other areas of Africa where transmission characteristics are very different to those of The Gambia.\n\nAccordingly, in July 1993, ITBN were introduced as part of a randomized controlled trial, conducted in coastal Kenya, to examine their role in reducing childhood mortality and severe malaria morbidity (Nevill et al., 1996). This paper reports the entomological context in which the Kenyan trial was conducted and the impact of ITBNs on malaria vectors in the coastal area of Kenya.\n\n## **Materials and Methods**\n\nStudy area. The study area is located in Kilifi district, 60 km north of Mombasa on the Kenyan coast, extending 30 km inland and 40 km along the Indian Ocean coast north of Kilifi town. The area was designated in 1989 for intensive entomological (Mbogo et al., 1993b, 1995), demographic (Snow et al., 1994) and epidemiologic studies (Snow et al., 1993) of malaria. The principal vectors of malaria are the Anopheles gambiae Giles complex with a minor role played by Anopheles funestus Giles. These two vectors yield on average ten sporozoite inoculations per person per year. Among the people inhabiting this geographical area, annual rates of *P.falciparum* challenge range from less than one to sixty per person (Mbogo et al., 1995). Despite these annual rates of *P.falciparum* inoculation being lower than in most parts of tropical Africa, it has been estimated that at least one in fifteen children will develop severe life-threatening malaria before their fifth birthday (Snow et al., 1993).\n\nThe study population comprises approximately 60,000 inhabitants living mainly in traditional style houses (walls of sticks and mud) with a coconut thatch roof. Unscreened windows, holes in the walls and large open eaves provide easy access for mosquitoes. Homesteads are scattered and separated from one another by open farmland. Maize is the staple crop cultivated for home consumption; cashews and coconuts are grown as cash crops. During the 1989 national Kenyan census the study area was divided into seventy-two enumeration zones, of which thirtyeight were randomly allocated to receive ITBN.\n\nGreen polyester 100 denier mosquito nets (SiamDutch, Thailand) were issued to be used over all beds within the intervention zones and impregnated with 25% permethrin (cis:trans 40:60) emulsifiable concentrate (Imperator, ICI, U.K.) to achieve a target dose of 0.5 g of permethrin per  $m<sup>2</sup>$  of netting. Nets were re-impregnated every 6 months to coincide with the two main rainy seasons: in May, the beginning of the long rains; and October, towards onset of the short rains. In the intervention area, people were asked not to wash their nets until immediately before the next re-impregnation. The remaining thirty-four zones served as the contemporaneous non-intervention control area where bednet ownership was less than 6% (Snow et al., 1992).\n\nThe study area was mapped using a hand-held satellite navigational system (Trimble Navigation Europe, U.K.) and computerized using MapInfo<sup>R</sup> software (Troy Ltd, U.S.A.).\n\nEntomological surveillance. One homestead from each zone was randomly sampled for mosquitoes by Pyrethrum spray-catch (PSC) each month (May 1994 to April 1995); no homestead was sampled more than once. Nine zones (five intervention and four control) were excluded from the sampling frame because they formed part of ongoing entomological studies since 1989. Houses were visited in the morning (07.00–11.30 hours) and occupants asked to tie their bednets up away from the bed. White sheets were laid on the floors and the rooms sprayed with pyrethrum aerosol. All mosquitoes knocked down were collected into labelled petri dishes lined with moist cotton wool and taken to the laboratory at Kilifi for further investigation.\n\nPre-intervention all-night catches of human-biting mosquitoes were undertaken once a week at four sentinel households per zone (five intervention and four control), between May 1992 and April 1993. Post-intervention human-bait collections were performed at one control and one intervention zone (drawn from the nine pre-intervention zones and excluded from PSC catches) for two nights each month between May 1994 and April 1995. Pairs of experienced catchers recruited from the study area were positioned either indoors or outdoors at each site and collections made from 18.00 until 07.00 hours. Catchers rotated in shifts and used aspirators and torches to catch mosquitoes which landed on exposed limbs. Each hourly catch was placed into a prelabelled polystyrene container and taken to the laboratory at Kilifi for assessment.\n\nLaboratory procedures. Mosquito species were identified morphologically and scored as unfed, blood-fed or gravid. A proportion of An.gambiae s.l. females collected by both PSC and all-night biting catches were identified to sibling species by the method of polymerase chain reaction, PCR (Paskewitz & Collins, 1990). Primers used were specific for An.gambiae s.s., An.arabiensis and An.merus, members of the An.gambiae complex found at the Kenyan coast (Mosha & Petrarca, 1983). Samples of An.gambiae s.l. collected on human bait were dissected for parity determination as described by Detinova (1962). Mosquitoes collected by PSC were prepared for sporozoite enzyme-linked immunosorbent assay (ELISA) testing using monoclonal antibodies to detect circumsporozoite proteins of P.falciparum (Wirtz et al., 1987). Tests were assessed visually for positivity (Beier & Koros, 1991). Bloodmeals were identified by direct ELISA using anti-host (IgG) conjugates against human, cow and goat (Beier et al., 1988).\n\nBioassay, bioavailability and susceptibility tests. Nets were randomly selected from intervention households, between 1 and 17 months after they were issued. These nets were visually inspected and coded as either clean or dirty, and for the number of re-impregnations each net had received. Bioassay cones (W.H.O., 1975) were attached to the nets by means of elastic bands whilst the nets were hung upright in the laboratory. Two cones were used, one placed at the top of the net and the other on the lower portion toward the floor. Twenty laboratory-colonized female An. gambiae s.s. were introduced to each cone and exposed to the netting for 3 min before they were removed to paper cups. Delayed mortality was recorded after the mosquitoes had been left in the paper cups for 24 h with adequate sugar water in an ambient temperature of 25°C and a relative humidity of 72%. Four repeats per net were performed. Identical procedures were followed for untreated nets to serve as controls. Mortality was corrected for control mortality where the latter exceeded 20% of exposed mosquitoes.\n\nSample swatches of netting fabric were collected for highperformance liquid chromatography (HPLC) immediately after nets were impregnated for the first time and 11 months later, after two re-impregnations. HPLC assays were conducted at the Centers for Disease Control, Atlanta, U.S.A., to determine the concentration of the active cis isomer of permethrin per m<sup>2</sup> of netting.\n\nSusceptibility of wild-caught female mosquitoes, collected from an area adjacent to the study area, was determined in February 1995 using the W.H.O. (1981) test kit and procedure. Unfed An. gambiae s.l. females ( $n = 415$ ) were exposed to 0.25% permethrin test paper for 1 h. Delayed mortality was measured 24 h post-exposure to the permethrin or control papers, and corrected if control mortality exceeded 20%.\n\nStatistical analysis. The mean number of mosquitoes per house was calculated (from PSC data) for each of the zones sampled over the 12 months of surveillance (Table 1). The annual means of the thirty-three intervention zones were compared with the annual means of the thirty control zones using a Mann-Whitney U test (given their non-normal distribution). Human blood indices, sporozoite rates, parity and man-biting rates were analysed post-intervention using a Chi-square test, or controlling for pre-intervention rates using a Mantel Haenzel Chi-square test.\n\n## **Results**\n\nA total of 762 houses were sampled by PSC between May 1994 and April 1995. Of the 362 houses sampled within the nonintervention (control) area, 31.5% (114) yielded at least one An.gambiae s.l. or An.funestus, compared to only 11.3% (45/\n\n400) of the intervention houses sampled during the same period  $(\\chi^2 = 45.9, v = 1, P < 0.001)$ . As described previously (Mbogo et al., 1995), large between-zone variation in vector abundance occurs within this relatively small geographical area (Table 1). Comparing the ranks of the mean zonal densities of either An.gambiae s.l. or An.funestus per house indicates, before intervention, a significant difference of indoor-resting mosquito densities between intervention and non-intervention areas (Mann-Whitney U test,  $P < 0.0001$ ). Overall, post-intervention, there was a nine-fold reduction of the indoor-resting densities of both An.gambiae s.l. and An.funestus associated with ITBN use. Fig. 1 shows that the typical peaks of An.gambiae s.l. density during the long rains (May-August) and the short rains (November-December) were virtually eliminated in areas where ITBN were used.\n\nComposition of the An. gambiae complex differed significantly between non-intervention (control) and ITBN intervention areas (Table 2). Proportions of An.arabiensis, An.gambiae s.s. and An.merus were 7%, 49% and 44% respectively among seventytwo specimens identified by PCR from the intervention area. compared with 11%, 83% and 6% of these three sibling species, respectively, among 165 specimens identified from the nonintervention area. PSC densities of all three species were significantly different both between treatment areas and between species within areas (Table 2). Per house sampled, the intervention area had 2.9-fold more An.merus but 4-fold less An.arabiensis and 4.3-fold less An.gambiae s.s. than the non-intervention (control) area.\n\nIn houses with impregnated bednets, significantly fewer An.gambiae s.l. were found to be blood-fed and their humanblood index was lower than in control houses, although this difference was not statistically significant (Table 3). There were no significant differences between areas in the proportion of An.gambiae s.l. with detectable P.falciparum CS protein and\n\n![](_page_2_Figure_10.jpeg)\n\nFig. 1. Monthly abundance (May 1994 to April 1995) of indoor-resting An. gambiae s.l. females among households where ITBN were used (closed line) and households in a non-intervention (control) zone without bednets (dotted line).\n\n| An.gambiae s.l.<br>ż<br>0<br>$\\geq$<br>$\\sim$<br>≏<br>0.99<br>$\\circ$<br>$\\sim$ $\\sim$<br>$\\circ$<br>0<br>$\\sim$<br>$\\sim$<br>n u<br>n<br>$\\sim$<br>$\\circ$<br>$\\bullet$<br>houses<br>Σ,<br>$\\frac{2}{2}$<br>$\\overline{5}$<br>5<br>$\\overline{5}$<br>$\\vec{a}$<br>$\\overline{12}$<br>ż.<br>ā<br>$\\bar{c}$<br>$\\mathbf{r}$<br>$\\mathbf{z}$<br>≌<br>N<br>្ម<br>$\\overline{2}$<br>$\\overline{a}$<br>$\\overline{2}$<br>$\\frac{2}{2}$<br>$\\mathbf{5}$<br>$\\begin{array}{c}\\n2 \\\\ 2 \\\\ 3\\n\\end{array}$<br>$\\overline{5}$<br>⋖<br>Zone<br>28<br>$\\overline{\\phantom{0}}$<br>$\\overline{18}$<br>$\\overline{24}$<br>25<br>ສ<br>$\\frac{28}{28}$<br>$\\ddot{ }$<br>54<br>$\\infty$<br>$\\infty$<br>g<br>$\\mathbf{z}$<br>$\\mathbf{r}$<br>호<br>$\\overline{c}$<br>$\\overline{5}$<br>47<br>$\\frac{48}{5}$<br>$\\overline{6}$<br>$\\Xi$<br>$\\overline{a}$<br>ఠ | An.funestus<br>ပ ဦ              |                         |                             | Non-intervention (control)            |                         |               |                                        |\n|--------------------------------------------------------------------------------------------------------------------------------------------------------------------------------------------------------------------------------------------------------------------------------------------------------------------------------------------------------------------------------------------------------------------------------------------------------------------------------------------------------------------------------------------------------------------------------------------------------------------------------------------------------------------------------------------------------------------------------------------------------------------------------------------------------------------------------------------|---------------------------------|-------------------------|-----------------------------|---------------------------------------|-------------------------|---------------|----------------------------------------|\n|                                                                                                                                                                                                                                                                                                                                                                                                                                                                                                                                                                                                                                                                                                                                                                                                                                            |                                 | Anopheles               |                             |                                       | <u>ន</u>                | u g           | Anopheles                              |\n|                                                                                                                                                                                                                                                                                                                                                                                                                                                                                                                                                                                                                                                                                                                                                                                                                                            |                                 | $(B + C)$ /A<br>density | Zone                        | houses<br>$\\leq \\frac{3}{2}$          | An.gambiae s.l.         | An.funestus   | $(18 + C)/A$<br>density                |\n|                                                                                                                                                                                                                                                                                                                                                                                                                                                                                                                                                                                                                                                                                                                                                                                                                                            |                                 |                         |                             |                                       |                         |               |                                        |\n|                                                                                                                                                                                                                                                                                                                                                                                                                                                                                                                                                                                                                                                                                                                                                                                                                                            |                                 | $\\frac{8}{1}$           | $\\boldsymbol{\\mathcal{S}}$  |                                       | $\\mathfrak{L}$          |               | 2.83                                   |\n|                                                                                                                                                                                                                                                                                                                                                                                                                                                                                                                                                                                                                                                                                                                                                                                                                                            | 00                              | 1.33                    | ड                           | $\\vec{a}$ $\\vec{a}$                   | $\\equiv$                |               |                                        |\n|                                                                                                                                                                                                                                                                                                                                                                                                                                                                                                                                                                                                                                                                                                                                                                                                                                            |                                 | 0.17                    |                             |                                       | 29                      |               | 2.42                                   |\n|                                                                                                                                                                                                                                                                                                                                                                                                                                                                                                                                                                                                                                                                                                                                                                                                                                            |                                 | 0.17                    | 885                         |                                       | $\\infty$                | 000           |                                        |\n|                                                                                                                                                                                                                                                                                                                                                                                                                                                                                                                                                                                                                                                                                                                                                                                                                                            |                                 | 0.00                    |                             |                                       | $\\frac{10}{2}$          |               |                                        |\n|                                                                                                                                                                                                                                                                                                                                                                                                                                                                                                                                                                                                                                                                                                                                                                                                                                            |                                 | 0.08                    | జ                           |                                       |                         |               |                                        |\n|                                                                                                                                                                                                                                                                                                                                                                                                                                                                                                                                                                                                                                                                                                                                                                                                                                            | 000000-000-000000-00000000-0000 | 0.17                    |                             | 2 2 2 2 2 2 2 2 2 2 2 2 2 2 2 2 2 2 2 |                         | 0000-00m0-    | <b>\\$88888888888888888888888888558</b> |\n|                                                                                                                                                                                                                                                                                                                                                                                                                                                                                                                                                                                                                                                                                                                                                                                                                                            |                                 | 0.08                    |                             |                                       | $\\omega$ 4              |               |                                        |\n|                                                                                                                                                                                                                                                                                                                                                                                                                                                                                                                                                                                                                                                                                                                                                                                                                                            |                                 | 0.25                    |                             |                                       |                         |               |                                        |\n|                                                                                                                                                                                                                                                                                                                                                                                                                                                                                                                                                                                                                                                                                                                                                                                                                                            |                                 | 0.00                    |                             |                                       | 4                       |               |                                        |\n|                                                                                                                                                                                                                                                                                                                                                                                                                                                                                                                                                                                                                                                                                                                                                                                                                                            |                                 |                         |                             |                                       | $\\rightarrow$ $-$       |               |                                        |\n|                                                                                                                                                                                                                                                                                                                                                                                                                                                                                                                                                                                                                                                                                                                                                                                                                                            |                                 | 0.17<br>0.17            |                             |                                       |                         |               |                                        |\n|                                                                                                                                                                                                                                                                                                                                                                                                                                                                                                                                                                                                                                                                                                                                                                                                                                            |                                 | 0.08                    |                             |                                       |                         |               |                                        |\n|                                                                                                                                                                                                                                                                                                                                                                                                                                                                                                                                                                                                                                                                                                                                                                                                                                            |                                 |                         | 112835385544465585888865885 |                                       | $4 \\omega \\bar{\\omega}$ |               |                                        |\n|                                                                                                                                                                                                                                                                                                                                                                                                                                                                                                                                                                                                                                                                                                                                                                                                                                            |                                 | 0.08                    |                             |                                       |                         |               |                                        |\n|                                                                                                                                                                                                                                                                                                                                                                                                                                                                                                                                                                                                                                                                                                                                                                                                                                            |                                 | 0.42                    |                             |                                       | S                       | $2n + 9n - n$ |                                        |\n|                                                                                                                                                                                                                                                                                                                                                                                                                                                                                                                                                                                                                                                                                                                                                                                                                                            |                                 | 0.17                    |                             |                                       | $\\equiv$                |               |                                        |\n|                                                                                                                                                                                                                                                                                                                                                                                                                                                                                                                                                                                                                                                                                                                                                                                                                                            |                                 | $0.25$<br>$0.50$        |                             |                                       | 3973                    |               |                                        |\n|                                                                                                                                                                                                                                                                                                                                                                                                                                                                                                                                                                                                                                                                                                                                                                                                                                            |                                 |                         |                             |                                       |                         |               |                                        |\n|                                                                                                                                                                                                                                                                                                                                                                                                                                                                                                                                                                                                                                                                                                                                                                                                                                            |                                 | 0.08                    |                             |                                       |                         |               |                                        |\n|                                                                                                                                                                                                                                                                                                                                                                                                                                                                                                                                                                                                                                                                                                                                                                                                                                            |                                 | 0.08                    |                             |                                       |                         |               |                                        |\n|                                                                                                                                                                                                                                                                                                                                                                                                                                                                                                                                                                                                                                                                                                                                                                                                                                            |                                 | 0.00                    |                             |                                       |                         |               |                                        |\n|                                                                                                                                                                                                                                                                                                                                                                                                                                                                                                                                                                                                                                                                                                                                                                                                                                            |                                 | 0.08                    |                             |                                       |                         | $\\bullet$     |                                        |\n|                                                                                                                                                                                                                                                                                                                                                                                                                                                                                                                                                                                                                                                                                                                                                                                                                                            |                                 | 0.42                    |                             |                                       | 370                     | $\\rightarrow$ |                                        |\n|                                                                                                                                                                                                                                                                                                                                                                                                                                                                                                                                                                                                                                                                                                                                                                                                                                            |                                 | 0.17                    |                             |                                       |                         |               |                                        |\n|                                                                                                                                                                                                                                                                                                                                                                                                                                                                                                                                                                                                                                                                                                                                                                                                                                            |                                 | 0.50                    |                             |                                       |                         |               |                                        |\n| $\\overline{c}$                                                                                                                                                                                                                                                                                                                                                                                                                                                                                                                                                                                                                                                                                                                                                                                                                             |                                 | 0.08                    |                             |                                       |                         |               |                                        |\n| ∘<br>$\\overline{5}$ $\\overline{5}$                                                                                                                                                                                                                                                                                                                                                                                                                                                                                                                                                                                                                                                                                                                                                                                                         |                                 | 0.00                    |                             |                                       |                         |               |                                        |\n| 3<br><b>SSRFK</b>                                                                                                                                                                                                                                                                                                                                                                                                                                                                                                                                                                                                                                                                                                                                                                                                                          |                                 | 1.17                    |                             |                                       | 22522                   | $0 - n$ $N$   |                                        |\n| $\\sim$<br>$\\frac{13}{12}$                                                                                                                                                                                                                                                                                                                                                                                                                                                                                                                                                                                                                                                                                                                                                                                                                  |                                 | 0.15                    |                             |                                       |                         |               |                                        |\n| $\\circ$                                                                                                                                                                                                                                                                                                                                                                                                                                                                                                                                                                                                                                                                                                                                                                                                                                    |                                 | 0.00                    |                             |                                       |                         |               |                                        |\n| $\\mathbf{r}$<br>77                                                                                                                                                                                                                                                                                                                                                                                                                                                                                                                                                                                                                                                                                                                                                                                                                         |                                 | 0.08                    |                             |                                       |                         |               |                                        |\n| $\\overline{13}$<br>79                                                                                                                                                                                                                                                                                                                                                                                                                                                                                                                                                                                                                                                                                                                                                                                                                      |                                 | 0.15                    |                             |                                       |                         |               |                                        |\n| 82<br>400<br>Total                                                                                                                                                                                                                                                                                                                                                                                                                                                                                                                                                                                                                                                                                                                                                                                                                         | 4                               | 0.22                    |                             | 362                                   | 647                     | 83            | $2.02*$                                |\n\n|                           | Area                          |                        | Difference |          |                               |\n|---------------------------|-------------------------------|------------------------|------------|----------|-------------------------------|\n|                           | Non-intervention<br>(control) | Intervention<br>(ITBN) | $\\chi^2$   | P        |                               |\n| No. houses sampled by PSC | 362                           | 400                    |            |          |                               |\n| Species                   |                               |                        |            |          |                               |\n| arabiensis                | 18(11)                        | 5(7)                   | 7          | < 0.01   | $\\chi^2 = 167$ ,<br>23        |\n| gambiae                   | 137(83)                       | 35(49)                 | 60         | < 0.0001 | 172<br>$v = 2$ .              |\n| merus                     | 10(6)                         | 32(44)                 | 12         | < 0.001  | P < 0.0001<br>42 <sup>7</sup> |\n| Total An.gambiae s.l.     | 165 (100)                     | 72 (100)               | 48         | < 0.0001 |                               |\n\nTable 2. Numbers (%) of each sibling species of the Anopheles gambiae complex collected in each area by pyrethrum spray collections indoors.\n\nthe proportion of parous female An.gambiae s.l. collected on human bait (Table 3).\n\nTable 3 also gives the mean numbers of An. gambiae s.l. females/person/night landing on human bait, both indoors and outdoors, during periods of 12 months before and after intervention in both the ITBN area (185 man-nights pre- and 64 man-nights post-intervention) and the non-intervention area (182) man-nights pre- and 70 man-nights post-intervention), sampling consistently from the same two houses in each area. After introduction of ITBN, greater proportion of An.gambiae s.l. were caught biting outdoors (30.3%) in the intervention area, compared to the non-intervention area (23.2%): Mantel Haenzel allowing for differences pre- intervention:  $\\chi^2 = 26.0$ ,  $P < 0.0001$ . Fig. 2 suggests that there was a tendency toward earlier biting activity inside houses where ITBN were in use compared to the biting cycle in control houses: 12% of bites occurred before 22.00 hours in houses with ITBN, compared to only 7% in control houses.\n\nCalculating the product of the monthly man-biting rates and sporozoite rates shown in Table 3 (determined from all-night human bait catches in only two zones) suggests that the average annual sporozoite inoculation rate per person was not significantly reduced by the use of ITBN.\n\nIn an attempt to examine the possible influence on mosquitoes\n\nTable 3. An.gambiae s.l. collections from control (non-intervention) and ITBN (intervention) areas, pre-intervention (May 1992 to April 1993) and post-intervention (May 1994 to April 1995). Proportions bloodfed, parous and sporozoite positive from PSC samples; man-biting rates and sporozoite inoculation rates from human bait catches.\n\n|                                                 | Non-intervention<br>(control) | Intervention<br>(TTBN)   | Difference |         |\n|-------------------------------------------------|-------------------------------|--------------------------|------------|---------|\n|                                                 | $(n = 362)$                   | $(n = 400)$              | $\\chi^2$   | P       |\n| PSC surveys                                     |                               |                          |            |         |\n| Blood-fed (%)                                   | 55.5% (359/647)               | 28.0% (23/82)            | 20.9       | < 0.001 |\n| Human Blood Index (%)                           | 86.4% (242/280)               | 80.0% (16/20)            | 0.09       | >0.75   |\n| Sporozoite rate $(\\%)$ (csp positive)           | 5.0% (32/647)                 | 4.9% (4/82)              | 0.01       | >0.9    |\n| Human-bait surveys                              |                               |                          |            |         |\n| Parity (%)                                      |                               |                          |            |         |\n| <b>Before</b>                                   | 65.5% (129/197)               | 63.2% (427/676)          | 0.11       | < 0.75  |\n| After                                           | 63.4 (78/123)                 | 54.1% (242/447)          | 1.50       | < 0.25  |\n| Difference                                      | $\\chi^2$ = 0.05 P < 0.75      | $\\chi^2$ = 3.60 P < 0.05 |            |         |\n| Man-biting rate* per man per night $(n)$        |                               |                          |            |         |\n| <b>Indoors</b>                                  |                               |                          |            |         |\n| Before                                          | 5.3(182)                      | 93.4 (185)               |            |         |\n| After                                           | 3.7(70)                       | 23.5(64)                 |            |         |\n| Difference                                      | $-1.6$                        | $-69.9$                  |            |         |\n| <b>Outdoors</b>                                 |                               |                          |            |         |\n| <b>Before</b>                                   | 0.15(182)                     | 1.14(185)                |            |         |\n| After                                           | 0.94(70)                      | 10.20(64)                |            |         |\n| Difference                                      | $+0.79$                       | $+9.06$                  |            |         |\n| Annual sporozoite inoculation rate <sup>†</sup> |                               |                          |            |         |\n| <b>Before</b>                                   | 18.0                          | 59.6                     |            |         |\n| After                                           | 35.0                          | 54.1                     |            |         |\n| Difference                                      | $+94%$                        | $-9.2%$                  |            |         |\n\n\\* Sampling done in the same rooms before and after intervention, two houses per zone  $(n = number of man-nights collection)$ .\n\n<sup>+</sup> Calculated as a sum of the products of the monthly indoor man-biting rates and monthly sporozoite rates.\n\n![](_page_5_Figure_1.jpeg)\n\nFig. 2. Biting cycle (hourly percentage on human bait) of An gambiae s.l. in houses where ITBN were used (light bars) and in a non-intervention zone where bednets were not used (dark bars).\n\n(deleterious or beneficial effects) entering houses in the control (non-intervention) area close to the intervention area, we used longitude and latitude to establish precise distances from intervention zones of thirty-five houses in control zones 57, 58 and 59, selected because they generated the largest numbers of mosquitoes. Distances were classified as more or less than 400 m from the intervention area. Among eleven households within 400 m, 9% had at least one mosquito, significantly less than 46% of twenty-four households at a distance of more than 400 m from the intervention area. ( $\\chi^2 = 4.5$ ,  $v = 1$ ,  $P < 0.05$ ).\n\nDetails of user compliance of the intervention will be presented elsewhere (Some et al., in prep.). Potency of the permethrin applied to bednets remained high throughout the trial. HPLC analyses of the nets indicated that, following the first treatment, the average concentration of cis-permethrin was  $0.43$  g/m<sup>2</sup> (95% CL 0.34-0.52) on thirty-six nets. Eleven months later, following re-impregnation after 6 months, the average concentration on thirty-six nets was 1.36 g/m<sup>2</sup> (95% CL 1.21-1.51).\n\nTable 4. An.gambiae s.l. mortality within 24 h following exposure for 3 min to permethrin-impregnated bednets retrieved from intervention villages in May 1994 and March 1995.\n\n| Months in use<br>(no. of)<br>impregnations) | Percentage<br>mortality<br>(no. of nets tested) |\n|---------------------------------------------|-------------------------------------------------|\n| 0(1)                                        | 80.8(4)                                         |\n| $4 - 8(2)$                                  | 78.3 (13)                                       |\n| 10(3)                                       | 96.0(9)                                         |\n| 17(4)                                       | 99.8(5)                                         |\n\nPermethrin susceptibility tests of local wild-caught An.gambiae s.l., using the diagnostic dosage of 1 h exposure to  $0.25\\%$ permethrin in W.H.O. (1975) test kits, gave a mortality-rate of 94.5% when tests were undertaken 21 months after the trial began.\n\nBioassay tests with An.gambiae s.l. (3 min exposure, 24 h mortality) on various nets that had been used for up to 8 months following their initial impregnation in July 1993 gave greater than 78% kill (Table 4). Nets re-impregnated in April and November 1994 showed an increased killing capacity of 96-99.8%. Interestingly, nets which were found to be dirty with cooking soot had higher killing effects (94.1%) than nets which were clean  $(84.5\\%)$ .\n\n#### **Discussion**\n\nOur results demonstrate that permethrin-impregnated bednets exert a major impact upon the indoor-resting abundance of the principal vectors of *P.falciparum* malaria in coastal villages of Kenya. Indoor-resting densities of An.gambiae s.l. and An funestus were 9 times lower in houses where ITBN were in use, compared to households where no nets were used. This had the additional effect of eliminating the typical seasonal peaks in vector density usually seen in this part of Kenya (Fig. 1), despite evidence that more of the vector species were biting outdoors (Table 3). These findings are consistent with other studies of synthetic pyrethroid treated bednets or curtains in Africa (Lines et al., 1987; Majori et al., 1987; Lindsay et al., 1989, 1993; Magesa et al., 1991; Robert & Carnevale, 1991; Beach et al., 1993). The precise effect in each of these areas is difficult\n\nto compare, given the inherent differences in the sampling procedures used within each study. We opted not to use light traps (Lines et al., 1991; Mbogo et al., 1993a) in our estimation of vector abundance, because they tend to be less efficient in areas of low vector abundance (such as our study area) and have been shown to over-estimate parity rates in this area of Kenya (Petrarca et al., 1991). Furthermore, we required a simple and rapid means of monitoring endophilic mosquitoes over a wide geographical area, so as to truly reflect the impact of ITBN within our entire study population. Intensive entomological surveillance limited to a few sites – as suggested by the W.H.O.  $(1991)$  – can yield unrepresentative results in areas where marked overdispersion of vectors is common. However, it could be argued that reductions of indoor-resting densities - as determined by PSC - may simply reflect increased excito-repellency of the insecticides and not a reduction in the numbers of vectors coming to feed. Indeed, studies with exit traps in The Gambia have shown an increased rate of exophily due to ITBNs indoors (Snow et al., 1987; Miller et al., 1991). In addition, however, there is clear evidence that houses with pyrethroid-treated fabrics tend to significantly deter entry of vectors into the house (Lines et al., 1987; Lindsay et al., 1991). Further evidence from our study that man-vector contact was reduced is shown by the very highly significantly reduced proportion of An. gambiae s.l. found bloodfed in the early-morning PSC samples (Table 3). Human bait catches, however, revealed no significant reduction in the number of sporozoite inoculations an unprotected individual is likely to receive per year when living in a household where ITBN were used, compared to living in a house where no nets were in use. Whereas the sporozoite inoculation rate increased by 94% in the non-intervention area, for unaccountable (probably climatic) reasons between pre- and post-intervention years, it decreased by 8.3% in the ITBN intervention area, a significant reduction.\n\nInterestingly, our study did not demonstrate a significant reduction in the actual sporozoite rate or parity (an index of longevity) among vectors sampled from ITBN intervention zones compared to non-intervention (control) zones. Similar results were obtained in the Gambia, where bednets were also impregnated with permethrin  $0.5$  g/m<sup>2</sup>, and this has been interpreted as a probable lack of any so called 'mass effect' upon the vector population (Lindsay et al., 1993; Thomson et al., 1995). Mass effects would be difficult to prove in most field study designs, because the intervention could affect mosquito abundance in the untreated (control) as well as treated (ITBN) areas, as shown by the overall reductions compared to pre-intervention data in both The Gambia (Lindsay et al., 1993) and Burkina Faso (Robert & Carnevale, 1991). Hence Lines et al. (1987) and Lindsay et al. (1991) argued that, although individuals appear to be protected by ITBN against the bites of vector mosquitoes, there is no evidence that this increases the biting rate on unprotected neighbours. Under fortuitous circumstances, there may be some reduction of biting on people without ITBN if they are sufficiently closely associated with ITBN users to be afforded some protection. We have tried to assess this 'community protection' by studying three control communities in close proximity to intervention communities, comparing vector abundance by distance from the nearest houses where ITBN were widely employed. This analysis indicated that, within the non-intervention area, fewer houses closest to the intervention area had any malaria\n\nvectors compared to those further away.\n\nThe dipping procedures used for bednet impregnation during this trial provided adequate target treatment concentration of  $0.5$  g/m<sup>2</sup> (over 76% of all netting samples tested had excess of this figure), giving bioassay mortalities in excess of 80% throughout the study, increasing to almost 100% following multiple re-impregnations at half-yearly intervals (Table 4).\n\nPerhaps the greatest concern raised by this study is the observation that a significant proportion of malaria vectors appeared to bite earlier in the evening in houses where ITBN were used, with a greater tendency toward exophagy rather than the typical endophagy of most anthropophilic An gambiae.s.l. Furthermore, there was an apparent shift in sibling species composition of the An gambiae complex following the intro-duction of ITBN. Both An.merus and An.arabiensis have slightly different biting cycles to An. gambiae s.s. (Ivengar, 1962; White, 1974; Mosha & Petrarca, 1983). Earlier biting is associated with use of permethrin-treated bednets in Papua New Guinea (Charlwood & Graves, 1987). As the biting cycle change occurred immediately after installation of ITBNs in our study, in conjunction with the lack of evidence for a mass-killing effect, we conclude that the earlier biting reflects either an immediate intraspecific behavioural effect or a change in vector species proportions within the An.gambiae complex, and was not the result of selection for evolved behavioural resistance. Among our Kenyan study population, people usually 'go to bed' at 21.00-22.00 hours (unpublished data) and most children retire earlier, so their customs limit the opportunities for vectors to bite them, especially when they sleep under bednets. If ITBN are increasingly to be employed against malaria in tropical Africa, their effects on mosquito behaviour and insecticide susceptibility (cf. Vulule et al., 1996) should be monitored.\n\n#### **Acknowledgments**\n\nThis study was supported by funds from the UNDP/World Bank/ W.H.O. Special Programme for Research and Training in Tropical Diseases: The Wellcome Trust; The International Development and Research Centre of the Canadian International Development Agency, and by the Kenya Medical Research Institute. We are grateful for the assistance of all scientific and technical staff at the Kilifi Research Unit, particularly Ms Laura New, Dr Chris Nevill, Dr Kevin Marsh, Dr N. M. Peshu, Mr Barnes Kitsao, David Ireri and Reuben K. Peshu. We thank Dr Bill Hawley of KEMRI/CDC, Nairobi, for identification of mosquitoes by PCR, Dr Robert Wirtz for providing monoclonal antibodies (through a grant from the World Health Organization), Dr Jim Todd of CDC, Atlanta, for conducting the HPLC assays, and Dr Jo Lines for useful comments on the manuscript. Dr Bob Snow is a Senior Wellcome Trust Fellow in Basic Biomedical Sciences. This paper is published with the permission of the Director of the Kenya Medical Research Institute.\n\n# **References**\n\nAlonso, P.L., Lindsay, S.W., Armstrong, J.R.M., Conteh, M., Hill, A.G., David, P.H., Fegan, G., de Francisco, A., Hall, A.J., Shenton, F.C., Cham, K. & Greenwood, B.M. (1991) The effect of insecticidetreated bednets on mortality of Gambian children. Lancet, 337, 1499-1502.\n\n- Beach, R.F., Ruebush, T.K., Sexton, J.D., Bright, P.L., Hightower, A.N., Breman, J.G., Mount, D.L. & Oloo, A.J. (1993) Effectiveness of permethrin impregnated bed nets and curtains for malaria control in a holoendemic area of Western Kenya. American Journal of Tropical Medicine and Hygiene, 49, 290-300.\n- Beier, J.C. & Koros, J.K. (1991) Visual assessment of sporozoite and blood meal ELISA samples in malaria field studies. Journal of Medical Entomology, 28, 805-808.\n- Beier, J.C., Perkins, P.V., Wirtz, R.A., Koros, J., Diggs, D., Gargan, T.P. & Koech, D.K. (1988) Blood meal identification by direct enzymelinked immunosorbent assay (ELISA), tested on Anopheles (Diptera: Culicidae) in Kenva. Journal of Medical Entomology, 25, 9-16.\n- Charlwood, J.D. & Graves, P.M. (1987) The effect of permethrinimpregnated bednets on a population of Anopheles farauti in coastal Papua New Guinea. Medical and Veterinary Entomology, 1, 319- $327$\n- Curtis, C.F., Lines, J.D., Carnevale, P. & Robert, V. (1990) Impregnated bednets and curtains against malaria mosquitoes. Appropriate Methods of Vector Control (ed. by C. F. Curtis), pp. 5-46. CRC Press, Boca Raton, Florida\n- Detinova, T.S. (1962) Age-grading methods in Diptera of medical importance with special reference to some vectors of malaria. World Health Organization Monograph Series, 47, 1-216.\n- Ivengar, R. (1962) The bionomics of salt water Anopheles gambiae in East Africa. Bulletin of World Health Organization, 27, 223-229.\n- Lindsay, S.W., Snow, R.W., Broomfield, G.I., Janneh, M.S., Wirtz, R.A. & Greenwood, B.M. (1989) Impact of permethrin treated bednets on malaria transmission by the Anopheles gambiae complex in The Gambia. Medical and Veterinary Entomology, 3, 263-271.\n- Lindsay, S.W., Adiamah, J.H., Miller, J.E. & Armstrong, J.R.M. (1991) Pyrethroid-treated bednet effects on mosquitoes of the Anopheles gambiae complex in The Gambia. Medical and Veterinary Entomology, 5, 477-483.\n- Lindsay, S.W., Alonso, P.L., Armstrong Schellenberg, J.R.M., Hemingway, J., Adiahmah, J.H., Shenton, F.C., Jawara, M. & Greenwood, B.M. (1993) A malaria control trial using insecticidetreated bed nets and targeted chemoprophylaxis in a rural area of The Gambia, West Africa. 7. Impact of permethrin-impregnated bed nets on malaria vectors. Transactions of Royal Society of Tropical Medicine and Hygiene. 87, 45-52.\n- Lines, J.D., Myamba, J. & Curtis, C.F. (1987) Experimental hut trials of permethrin-impregnated mosquito nets and curtains against malaria vectors in Tanzania. Medical and Veterinary Entomology,  $1.37 - 51.$\n- Lines, J.D., Curtis, C.F., Wilkes, T.J. & Njunwa, K.J. (1991) Monitoring human-biting mosquitoes (Diptera: Culicidae) in Tanzania with lighttraps hung beside mosquito nets. Bulletin of Entomological Research, 81, 77-84.\n- Majori, G., Sabatinelli, G. & Coluzzi, M. (1987) Efficacy of permethrinimpregnated curtains for malaria vector control. Medical and Veterinary Entomology, 1, 185-192.\n- Magesa, S.M., Wilkies, T.J., Mnzava, A.E.P., Njunwa, K.J., Myamba, J., Kivuyo, M.D.P., Hill, N., Lines, J.D. & Curtis, C.F. (1991) Trial of pyrethroid impregnated bednets in an area of Tanzania holoendemic for malaria. Part 2. Effects on the malaria vector population. Acta Tropica, 49, 97-108.\n- Mbogo, C.N., Glass, G.E., Forster, D., Kabiru, E.W., Githure, J.I., Ouma, J.H. & Beier. J.C. (1993a) Evaluation of light traps for sampling anopheline mosquitoes in Kilifi, Kenya. Journal of the American Mosquito Control Association, 9, 141-144.\n- Mbogo, C.N.M., Snow, R.W., Kabiru, E.W., Ouma, J.H., Githure, J.I., Marsh, K. & Beier, J.C. (1993b) Low-level Plasmodium falciparum\n\ntransmission and the incidence of severe malaria infections on the Kenyan coast. American Journal of Tropical Medicine and Hygiene, 49.245-253.\n\n- Mbogo, C.N.M., Snow, R.W., Khamala, C.P.M., Kabiru, E.W., Ouma, J.H., Githure, J.I., Marsh, K. & Beier, J.C. (1995) Relationship between Plasmodium falciparum transmission by vector populations and the incidence of severe disease at nine sites on the Kenyan coast. American Journal of Tropical Medicine and Hygiene, 52, 201-206.\n- Miller, J.E., Lindsay, S.W. & Armstrong, J.R.M. (1991) Experimental hut trials of bednets impregnated with synthetic pyrethroid and organophosphate insecticides for mosquito control in The Gambia. Medical and Veterinary Entomology, 5, 465-476.\n- Mosha, F.W. & Petrarca V. (1983) Ecological studies of Anopheles gambiae complex species on the Kenyan Coast. Transactions of the Roval Society of Tropical Medicine and Hygiene, 77, 344-345.\n- Nevill, C.G., Some, E.S., Mungala, V.O., New, L., Marsh, K., Lengeler, C. & Snow, R.W. (1996) Insecticide-treated bednets reduce mortality and severe morbidity from malaria among children on the Kenyan coast. Tropical Medicine and International Health, 1, 139-146.\n- Paskewitz, S.M. & Collins, F.H. (1990) Use of the polymerase chain reaction to identify mosquito species of the Anopheles gambiae complex. Medical and Veterinary Entomology, 4, 367-373.\n- Petrarca, V., Beier, J.C., Onyango, F., Koros, J., Asiago, C., Koech, D.K. & Roberts, C.R. (1991) Species composition of the An.gambiae complex (Diptera: Culicidae) at two sites in Western Kenya. Journal of Medical Entomology, 28, 307-313.\n- Port, G.R. & Boreham, P.F.L. (1982) The effect of bed nets on feeding by Anopheles gambiae Giles (Diptera: Culicidae). Bulletin of Entomological Research, 72, 483-488.\n- Robert, V. & Carnevale, P. (1991) Influence of deltamethrin treatment of bed nets on malaria transmission in the Kou valley, Burkina Faso. Bulletin of the World Health Organization, 69, 735-740.\n- Snow, R.W., Juwara, M. & Curtis, C.F. (1987) Observations on Anopheles gambiae Giles s.l. during a trial of permethrin treated bed nets in The Gambia. Bulletin of Entomological Research, 77, 279-286.\n- Snow, R.W., Lindsay, S.W., Hayes, R.J. & Greenwood, B.M. (1988) Permethrin-treated bednets (mosquito nets) prevent malaria in Gambian children. Transactions of the Royal Society of Tropical Medicine and Hygiene, 82, 838-842.\n- Snow, R.W., Peshu, N., Forster, D., Mwenesi, H.M. & Marsh, K. (1992) The role of shops in the prevention of malaria on the coast of Kenya. Transactions of the Royal Society of Tropical Medicine and Hygiene, 86, 237-239.\n- Snow, R.W., Armstrong, J.R.M., Forster, D., Winstanley, P.A., Mwangi, I., Waruiru, C., Warn, P., Newbold, C. & Marsh, K. (1993) Periodicity and time space clustering of severe childhood malaria on the Kenyan coast. Transactions of the Royal Society of Tropical Medicine and Hygiene, 87, 386-390.\n- Snow, R.W., Mung'ala, V.O., Forster, D. & Marsh, K. (1994) The role of the district hospital in child survival at the Kenyan Coast. African Journal of Health Sciences, 1, 71-75.\n- Thomson, M.C., Adiamah, J.H., Connor, S.J., Jawara, M., Bennett, S., D'Allessandro, U., Quinones, M., Langerock, P. & Greenwood, B.M. (1995) Entomological evaluation of the Gambia National Impregnated bednet Programme. Annals of Tropical Medicine and Parasitology,  $89, 229 - 241.$\n- Vulule, J.M., Beach, R.F., Atieli, F.K., Mount, D.L., Roberts, J.M. & Mwangi, R.W. (1996) Long-term use of permethrin-impregnated nets does not increase Anopheles gambiae permethrin tolerance. Medical and Veterinary Entomology, 10, 71-79.\n- Wirtz, R.A., Zavala, F., Charoenvit, Y., Campbell, G.H., Burkot, T.R., Schnieder, I., Esser, K.M., Beaudoin, R.L. & Andre, R.G. (1987) Comparative testing of Plasmodium falciparum circumsporozoite antibody. Bulletin of the World Health Organization, 65, 39-45.\n- White, G.B. (1974) Anopheles gambiae complex and disease transmission\n\nin Africa. Transactions of the Royal Society of Tropical Medicine and Hygiene, 77, 344-345.\n\n- World Bank (1993) World Development Report: Investing in Health. Oxford University Press, New York.\n- W.H.O. (1975) Manual on Practical Entomology in Malaria, Part II. Methods and Techniques. World Health Organization, Geneva.\n- W.H.O. (1981) Instructions for determining the susceptibility or resistance of adult mosquitoes to organochloride, organophosphates and carbamate insecticides: diagnostic test. Unpublished document, VBC/\n\n81.806/WHO, World Health Organization, Geneva.\n\n- W.H.O. (1986) Expert Committee on Malaria, 18th Report. Technical Report Series, 737. World Health Organization, Geneva.\n- W.H.O. (1991) Guidelines for the development of protocols for studies to evaluate the impact of insecticide-treated bed-nets on mortality. WHO/TDR Unpublished document, World Health Organization, Geneva.\n\nAccepted 19 February 1996"
          },
          "metadata": {},
          "execution_count": 129
        }
      ]
    },
    {
      "cell_type": "code",
      "source": [
        "display(JSON(meta, expanded=False))"
      ],
      "metadata": {
        "colab": {
          "base_uri": "https://localhost:8080/",
          "height": 1000
        },
        "id": "SxDnmXEcHw0k",
        "outputId": "0e8bbe19-4765-4b82-e06d-4e3849e85748"
      },
      "id": "SxDnmXEcHw0k",
      "execution_count": 124,
      "outputs": [
        {
          "output_type": "display_data",
          "data": {
            "text/plain": [
              "<IPython.core.display.JSON object>"
            ],
            "application/json": {
              "table_of_contents": [
                {
                  "title": "The impact of permethrin-impregnated bednets\non malaria vectors of the Kenyan coast",
                  "heading_level": null,
                  "page_id": 0,
                  "polygon": [
                    [
                      47.2093023255814,
                      96.84135977337111
                    ],
                    [
                      452.841796875,
                      96.84135977337111
                    ],
                    [
                      452.841796875,
                      136.25244140625
                    ],
                    [
                      47.2093023255814,
                      136.25244140625
                    ]
                  ]
                },
                {
                  "title": "Introduction",
                  "heading_level": null,
                  "page_id": 0,
                  "polygon": [
                    [
                      45.71059431524548,
                      569.0368271954675
                    ],
                    [
                      100.41343669250647,
                      569.0368271954675
                    ],
                    [
                      100.41343669250647,
                      578.78173828125
                    ],
                    [
                      45.71059431524548,
                      578.78173828125
                    ]
                  ]
                },
                {
                  "title": "Materials and Methods",
                  "heading_level": null,
                  "page_id": 1,
                  "polygon": [
                    [
                      46.5,
                      232.5
                    ],
                    [
                      144.984375,
                      232.5
                    ],
                    [
                      144.984375,
                      242.279296875
                    ],
                    [
                      46.5,
                      242.279296875
                    ]
                  ]
                },
                {
                  "title": "Results",
                  "heading_level": null,
                  "page_id": 2,
                  "polygon": [
                    [
                      49.542857142857144,
                      376.61873226111635
                    ],
                    [
                      82.974609375,
                      376.61873226111635
                    ],
                    [
                      82.974609375,
                      386.81982421875
                    ],
                    [
                      49.542857142857144,
                      386.81982421875
                    ]
                  ]
                },
                {
                  "title": "Discussion",
                  "heading_level": null,
                  "page_id": 5,
                  "polygon": [
                    [
                      299.25,
                      543.75
                    ],
                    [
                      349.3125,
                      543.75
                    ],
                    [
                      349.3125,
                      553.0078125
                    ],
                    [
                      299.25,
                      553.0078125
                    ]
                  ]
                },
                {
                  "title": "Acknowledgments",
                  "heading_level": null,
                  "page_id": 6,
                  "polygon": [
                    [
                      298.5,
                      443.56640625
                    ],
                    [
                      378.75,
                      443.56640625
                    ],
                    [
                      378.75,
                      452.84765625
                    ],
                    [
                      298.5,
                      452.84765625
                    ]
                  ]
                },
                {
                  "title": "References",
                  "heading_level": null,
                  "page_id": 6,
                  "polygon": [
                    [
                      297,
                      676.5
                    ],
                    [
                      347.625,
                      676.5
                    ],
                    [
                      347.625,
                      686.8125
                    ],
                    [
                      297,
                      686.8125
                    ]
                  ]
                }
              ],
              "page_stats": [
                {
                  "page_id": 0,
                  "text_extraction_method": "surya",
                  "block_counts": [
                    [
                      "Span",
                      64
                    ],
                    [
                      "Line",
                      60
                    ],
                    [
                      "Text",
                      10
                    ],
                    [
                      "SectionHeader",
                      2
                    ],
                    [
                      "PageFooter",
                      2
                    ],
                    [
                      "PageHeader",
                      1
                    ]
                  ],
                  "block_metadata": {
                    "llm_request_count": 0,
                    "llm_error_count": 0,
                    "llm_tokens_used": 0,
                    "previous_text": "",
                    "previous_type": "",
                    "previous_order": 0
                  }
                },
                {
                  "page_id": 1,
                  "text_extraction_method": "surya",
                  "block_counts": [
                    [
                      "Span",
                      124
                    ],
                    [
                      "Line",
                      118
                    ],
                    [
                      "Text",
                      10
                    ],
                    [
                      "PageHeader",
                      1
                    ],
                    [
                      "SectionHeader",
                      1
                    ],
                    [
                      "PageFooter",
                      1
                    ]
                  ],
                  "block_metadata": {
                    "llm_request_count": 0,
                    "llm_error_count": 0,
                    "llm_tokens_used": 0,
                    "previous_text": "",
                    "previous_type": "",
                    "previous_order": 0
                  }
                },
                {
                  "page_id": 2,
                  "text_extraction_method": "surya",
                  "block_counts": [
                    [
                      "Line",
                      90
                    ],
                    [
                      "Span",
                      75
                    ],
                    [
                      "Text",
                      7
                    ],
                    [
                      "SectionHeader",
                      1
                    ],
                    [
                      "PageHeader",
                      1
                    ],
                    [
                      "TextInlineMath",
                      1
                    ],
                    [
                      "Figure",
                      1
                    ],
                    [
                      "Caption",
                      1
                    ],
                    [
                      "PageFooter",
                      1
                    ],
                    [
                      "FigureGroup",
                      1
                    ]
                  ],
                  "block_metadata": {
                    "llm_request_count": 0,
                    "llm_error_count": 0,
                    "llm_tokens_used": 0,
                    "previous_text": "",
                    "previous_type": "",
                    "previous_order": 0
                  }
                },
                {
                  "page_id": 3,
                  "text_extraction_method": "surya",
                  "block_counts": [
                    [
                      "TableCell",
                      304
                    ],
                    [
                      "Line",
                      19
                    ],
                    [
                      "Span",
                      2
                    ],
                    [
                      "Table",
                      1
                    ],
                    [
                      "PageHeader",
                      1
                    ],
                    [
                      "PageFooter",
                      1
                    ]
                  ],
                  "block_metadata": {
                    "llm_request_count": 0,
                    "llm_error_count": 0,
                    "llm_tokens_used": 0,
                    "previous_text": "",
                    "previous_type": "",
                    "previous_order": 0
                  }
                },
                {
                  "page_id": 4,
                  "text_extraction_method": "surya",
                  "block_counts": [
                    [
                      "TableCell",
                      166
                    ],
                    [
                      "Span",
                      40
                    ],
                    [
                      "Line",
                      34
                    ],
                    [
                      "Text",
                      8
                    ],
                    [
                      "Table",
                      2
                    ],
                    [
                      "PageHeader",
                      1
                    ],
                    [
                      "TextInlineMath",
                      1
                    ],
                    [
                      "PageFooter",
                      1
                    ]
                  ],
                  "block_metadata": {
                    "llm_request_count": 0,
                    "llm_error_count": 0,
                    "llm_tokens_used": 0,
                    "previous_text": "",
                    "previous_type": "",
                    "previous_order": 0
                  }
                },
                {
                  "page_id": 5,
                  "text_extraction_method": "surya",
                  "block_counts": [
                    [
                      "Line",
                      68
                    ],
                    [
                      "Span",
                      68
                    ],
                    [
                      "TableCell",
                      10
                    ],
                    [
                      "Text",
                      6
                    ],
                    [
                      "PageHeader",
                      1
                    ],
                    [
                      "Figure",
                      1
                    ],
                    [
                      "Caption",
                      1
                    ],
                    [
                      "Table",
                      1
                    ],
                    [
                      "SectionHeader",
                      1
                    ],
                    [
                      "PageFooter",
                      1
                    ],
                    [
                      "FigureGroup",
                      1
                    ]
                  ],
                  "block_metadata": {
                    "llm_request_count": 0,
                    "llm_error_count": 0,
                    "llm_tokens_used": 0,
                    "previous_text": "",
                    "previous_type": "",
                    "previous_order": 0
                  }
                },
                {
                  "page_id": 6,
                  "text_extraction_method": "surya",
                  "block_counts": [
                    [
                      "Span",
                      120
                    ],
                    [
                      "Line",
                      115
                    ],
                    [
                      "Text",
                      7
                    ],
                    [
                      "SectionHeader",
                      2
                    ],
                    [
                      "PageHeader",
                      1
                    ],
                    [
                      "PageFooter",
                      1
                    ]
                  ],
                  "block_metadata": {
                    "llm_request_count": 0,
                    "llm_error_count": 0,
                    "llm_tokens_used": 0,
                    "previous_text": "",
                    "previous_type": "",
                    "previous_order": 0
                  }
                },
                {
                  "page_id": 7,
                  "text_extraction_method": "surya",
                  "block_counts": [
                    [
                      "Line",
                      133
                    ],
                    [
                      "Span",
                      133
                    ],
                    [
                      "ListItem",
                      33
                    ],
                    [
                      "Text",
                      2
                    ],
                    [
                      "ListGroup",
                      2
                    ],
                    [
                      "PageHeader",
                      1
                    ],
                    [
                      "PageFooter",
                      1
                    ]
                  ],
                  "block_metadata": {
                    "llm_request_count": 0,
                    "llm_error_count": 0,
                    "llm_tokens_used": 0,
                    "previous_text": "",
                    "previous_type": "",
                    "previous_order": 0
                  }
                },
                {
                  "page_id": 8,
                  "text_extraction_method": "surya",
                  "block_counts": [
                    [
                      "Line",
                      20
                    ],
                    [
                      "Span",
                      20
                    ],
                    [
                      "ListItem",
                      5
                    ],
                    [
                      "Text",
                      3
                    ],
                    [
                      "ListGroup",
                      2
                    ],
                    [
                      "PageHeader",
                      1
                    ],
                    [
                      "PageFooter",
                      1
                    ]
                  ],
                  "block_metadata": {
                    "llm_request_count": 0,
                    "llm_error_count": 0,
                    "llm_tokens_used": 0,
                    "previous_text": "",
                    "previous_type": "",
                    "previous_order": 0
                  }
                }
              ],
              "debug_data_path": "debug_data/Mbogo_et_al_1996_Med_Vet_Ento"
            }
          },
          "metadata": {
            "application/json": {
              "expanded": false,
              "root": "root"
            }
          }
        }
      ]
    },
    {
      "cell_type": "markdown",
      "source": [
        "### Marker Blocks Filtering and Parsing"
      ],
      "metadata": {
        "id": "gDquzwE69zqu"
      },
      "id": "gDquzwE69zqu"
    },
    {
      "cell_type": "code",
      "execution_count": null,
      "id": "a5018f48",
      "metadata": {
        "id": "a5018f48"
      },
      "outputs": [],
      "source": [
        "# 3. Run Marker to extract JSON structure\n",
        "import os\n",
        "output_dir = 'marker_output'\n",
        "os.makedirs(output_dir, exist_ok=True)\n",
        "json_out = os.path.join(output_dir, os.path.splitext(os.path.basename(pdf_path))[0] + '_structure.json')\n",
        "\n",
        "!marker_single \"{pdf_path}\" --output_format json --output_dir \"{output_dir}\""
      ]
    },
    {
      "cell_type": "code",
      "execution_count": null,
      "id": "df4ea443",
      "metadata": {
        "id": "df4ea443"
      },
      "outputs": [],
      "source": [
        "# 4. Load the Marker JSON\n",
        "import json\n",
        "with open(json_out, 'r') as f:\n",
        "    marker_json = json.load(f)"
      ]
    },
    {
      "cell_type": "code",
      "execution_count": null,
      "id": "456e8cf8",
      "metadata": {
        "id": "456e8cf8"
      },
      "outputs": [],
      "source": [
        "# 5. Data models and flattening utilities (Python version of your TypeScript)\n",
        "from typing import List, Dict, Any\n",
        "\n",
        "class SimplifiedBlock:\n",
        "    def __init__(self, type: str, content: str, page: int, bbox: list):\n",
        "        self.type = type\n",
        "        self.content = content\n",
        "        self.page = page\n",
        "        self.bbox = bbox\n",
        "\n",
        "    def as_dict(self):\n",
        "        return {\n",
        "            'type': self.type,\n",
        "            'content': self.content,\n",
        "            'page': self.page,\n",
        "            'bbox': self.bbox,\n",
        "        }\n",
        "\n",
        "import html\n",
        "\n",
        "def decode_html_entities(text: str) -> str:\n",
        "    return html.unescape(text)\n",
        "\n",
        "def flatten_marker_json(blocks: List[Dict[str, Any]], page_number: int = 0) -> List[SimplifiedBlock]:\n",
        "    flat_blocks = []\n",
        "    for block in blocks:\n",
        "        # Skip Page blocks but process their children\n",
        "        if block.get('block_type') == 'Page':\n",
        "            child_page = int(block.get('id', '0/0/0').split('/')[2]) if 'id' in block else 0\n",
        "            flat_blocks.extend(flatten_marker_json(block.get('children', []), child_page))\n",
        "            continue\n",
        "\n",
        "        # Process current block\n",
        "        content = ''\n",
        "        if block.get('images') and isinstance(block['images'], dict) and block['images']:\n",
        "            content = next(iter(block['images'].values()))\n",
        "        elif block.get('block_type') == 'Table':\n",
        "            content = block.get('html', '').strip()\n",
        "        elif block.get('html'):\n",
        "            import re\n",
        "            content = re.sub(r'<[^>]*>', ' ', block['html']).strip()\n",
        "        content = decode_html_entities(content)\n",
        "\n",
        "        page = (int(block.get('id', '0/0/0').split('/')[2]) if 'id' in block else page_number) + 1\n",
        "        bbox = block.get('bbox', [0,0,0,0])\n",
        "\n",
        "        flat_blocks.append(SimplifiedBlock(\n",
        "            type=block.get('block_type', ''),\n",
        "            content=content,\n",
        "            page=page,\n",
        "            bbox=bbox\n",
        "        ))\n",
        "\n",
        "        # Recursively process children (except for Page blocks)\n",
        "        if block.get('children'):\n",
        "            flat_blocks.extend(flatten_marker_json(block['children'], page))\n",
        "    return flat_blocks\n",
        "\n",
        "def filter_and_flatten_marker_json(blocks: List[Dict[str, Any]], page_number: int = 0) -> List[SimplifiedBlock]:\n",
        "    unfiltered = flatten_marker_json(blocks, page_number)\n",
        "    remove_types = {\n",
        "        'TableCell', 'TableGroup', 'FigureGroup', 'ListGroup', 'Reference',\n",
        "        'PageFooter', 'PageHeader', 'Footnote'\n",
        "    }\n",
        "    return [b for b in unfiltered if b.type not in remove_types and b.content]"
      ]
    },
    {
      "cell_type": "code",
      "execution_count": null,
      "id": "8788d923",
      "metadata": {
        "id": "8788d923"
      },
      "outputs": [],
      "source": [
        "# 6. Flatten and filter the Marker output\n",
        "flat_blocks = filter_and_flatten_marker_json(marker_json.get('children', []))"
      ]
    },
    {
      "cell_type": "code",
      "execution_count": null,
      "id": "8c7a9664",
      "metadata": {
        "id": "8c7a9664"
      },
      "outputs": [],
      "source": [
        "# 7. Explore block types and content\n",
        "import pandas as pd\n",
        "\n",
        "df = pd.DataFrame([b.as_dict() for b in flat_blocks])\n",
        "print('Block types found:', df['type'].unique())\n",
        "df.head(20)  # Show first 20 blocks"
      ]
    },
    {
      "cell_type": "code",
      "execution_count": null,
      "id": "5a0e173d",
      "metadata": {
        "id": "5a0e173d"
      },
      "outputs": [],
      "source": [
        "# 8. Simple metadata extraction (title, authors, abstract)\n",
        "def extract_metadata(blocks: List[SimplifiedBlock]):\n",
        "    title = next((b.content for b in blocks if b.type.lower() in {'title', 'main_title'}), '')\n",
        "    authors = next((b.content for b in blocks if 'author' in b.type.lower()), '')\n",
        "    abstract = next((b.content for b in blocks if 'abstract' in b.type.lower()), '')\n",
        "    return {'title': title, 'authors': authors, 'abstract': abstract}\n",
        "\n",
        "metadata = extract_metadata(flat_blocks)\n",
        "print('Extracted Metadata:', metadata)"
      ]
    },
    {
      "cell_type": "code",
      "execution_count": null,
      "id": "7b8b19d2",
      "metadata": {
        "id": "7b8b19d2"
      },
      "outputs": [],
      "source": [
        "# 9. Find and display all tables and figures (with extensibility for custom processing)\n",
        "tables = [b for b in flat_blocks if b.type == 'Table']\n",
        "figures = [b for b in flat_blocks if b.type == 'Figure' or b.type == 'Picture']\n",
        "\n",
        "print(f'Found {len(tables)} tables and {len(figures)} figures.')\n",
        "\n",
        "# Example: Show first table's HTML (for further processing)\n",
        "if tables:\n",
        "    from IPython.display import display, HTML\n",
        "    print('First table HTML:')\n",
        "    display(HTML(tables[0].content))\n",
        "\n",
        "# Example: Show first figure as image (if base64-encoded)\n",
        "import base64\n",
        "from IPython.display import Image\n",
        "\n",
        "def show_base64_image(b64str):\n",
        "    try:\n",
        "        display(Image(data=base64.b64decode(b64str)))\n",
        "    except Exception as e:\n",
        "        print('Could not display image:', e)\n",
        "\n",
        "if figures:\n",
        "    print('First figure (if image):')\n",
        "    show_base64_image(figures[0].content)"
      ]
    },
    {
      "cell_type": "code",
      "execution_count": null,
      "id": "67298ff1",
      "metadata": {
        "id": "67298ff1"
      },
      "outputs": [],
      "source": [
        "# 10. (Optional) Extensible: Add your own logic to process tables/figures, e.g., send table HTML to a model, extract captions, etc.\n",
        "# (No LLM-based summarization or captioning included)"
      ]
    },
    {
      "cell_type": "code",
      "execution_count": null,
      "id": "3b0329a2",
      "metadata": {
        "id": "3b0329a2"
      },
      "outputs": [],
      "source": [
        "# 11. Save flattened blocks for further analysis\n",
        "df.to_json('flattened_blocks.json', orient='records', indent=2)\n",
        "from google.colab import files\n",
        "files.download('flattened_blocks.json')"
      ]
    },
    {
      "cell_type": "markdown",
      "source": [
        "# Eval OCR accuracy"
      ],
      "metadata": {
        "id": "B8MmmRYnxAFP"
      },
      "id": "B8MmmRYnxAFP"
    },
    {
      "cell_type": "code",
      "source": [],
      "metadata": {
        "id": "tMNmskQGxB4b"
      },
      "id": "tMNmskQGxB4b",
      "execution_count": null,
      "outputs": []
    },
    {
      "cell_type": "code",
      "source": [],
      "metadata": {
        "id": "5CSv39luITlK"
      },
      "id": "5CSv39luITlK",
      "execution_count": null,
      "outputs": []
    },
    {
      "cell_type": "code",
      "source": [],
      "metadata": {
        "id": "05_k8GqNIbyu"
      },
      "id": "05_k8GqNIbyu",
      "execution_count": null,
      "outputs": []
    }
  ],
  "metadata": {
    "kernelspec": {
      "display_name": "Python 3",
      "name": "python3"
    },
    "language_info": {
      "name": "python",
      "version": "3.10.17"
    },
    "colab": {
      "provenance": [],
      "gpuType": "T4",
      "include_colab_link": true
    },
    "accelerator": "GPU"
  },
  "nbformat": 4,
  "nbformat_minor": 5
}