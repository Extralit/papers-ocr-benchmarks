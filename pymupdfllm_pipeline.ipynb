{
 "cells": [
  {
   "cell_type": "code",
   "execution_count": 128,
   "id": "4243689c",
   "metadata": {},
   "outputs": [],
   "source": [
    "import os\n",
    "import fitz  # PyMuPDF\n",
    "import ocrmypdf\n",
    "import shutil\n",
    "from pathlib import Path\n",
    "import pymupdf4llm\n",
    "import re\n",
    "\n",
    "# Create output directory\n",
    "Path(\"output_markdown\").mkdir(parents=True, exist_ok=True)"
   ]
  },
  {
   "cell_type": "code",
   "execution_count": 129,
   "id": "f6d8e87c",
   "metadata": {},
   "outputs": [],
   "source": [
    "def is_scanned_pdf(pdf_path):\n",
    "    doc = fitz.open(pdf_path)\n",
    "    for page in doc:\n",
    "        if page.get_text().strip():\n",
    "            return False\n",
    "    return True"
   ]
  },
  {
   "cell_type": "code",
   "execution_count": 130,
   "id": "f702455b",
   "metadata": {},
   "outputs": [],
   "source": [
    "def run_ocr(input_path, output_path):\n",
    "    print(\"🔁 Running OCRmyPDF...\")\n",
    "    ocrmypdf.ocr(\n",
    "        input_file=input_path,\n",
    "        output_file=output_path,\n",
    "        rotate_pages=True,\n",
    "        deskew=True,\n",
    "        force_ocr=True,\n",
    "        skip_text=True\n",
    "    )\n",
    "    print(f\"✅ OCR complete: {output_path}\")"
   ]
  },
  {
   "cell_type": "code",
   "execution_count": 131,
   "id": "5ad8e07f",
   "metadata": {},
   "outputs": [],
   "source": [
    "def normalize_heading_hierarchy(md_text):\n",
    "    lines = md_text.split('\\n')\n",
    "    updated_lines = []\n",
    "    for line in lines:\n",
    "        match = re.match(r'^(#+)\\s+(.*)', line)\n",
    "        if match:\n",
    "            hashes, content = match.groups()\n",
    "            # Promote/demote based on content\n",
    "            if len(hashes) == 1:\n",
    "                hashes = '##'\n",
    "            elif len(hashes) == 2:\n",
    "                if any(word in content.lower() for word in ['mortality', 'knock-down', 'resistance', 'vector', 'prevalence']):\n",
    "                    hashes = '###'\n",
    "            line = f\"{hashes} {content}\"\n",
    "        updated_lines.append(line)\n",
    "    return '\\n'.join(updated_lines)"
   ]
  },
  {
   "cell_type": "code",
   "execution_count": 132,
   "id": "d584db47",
   "metadata": {},
   "outputs": [],
   "source": [
    "def extract_markdown_with_hierarchy(pdf_path, md_output_path):\n",
    "    doc = fitz.open(pdf_path)\n",
    "    toc = doc.get_toc()\n",
    "    \n",
    "    # Set margins to exclude headers/footers (top: 50, bottom: 50 points)\n",
    "    # This will ignore text in the top 50 points and bottom 50 points of each page\n",
    "    default_margins = (0, 50, 0, 30)  # (left, top, right, bottom)\n",
    "    \n",
    "    if toc:\n",
    "        # Use table of contents for header detection    \n",
    "        toc_headers = pymupdf4llm.TocHeaders(doc)\n",
    "        md_text = pymupdf4llm.to_markdown(\n",
    "            doc, \n",
    "            hdr_info=toc_headers,\n",
    "            margins=default_margins\n",
    "        )\n",
    "        print(f\"📋 Used TocHeaders with {len(toc)} TOC entries and margins {default_margins}\")\n",
    "    else:\n",
    "        # Generate header info with custom settings when no TOC exists\n",
    "        my_headers = pymupdf4llm.IdentifyHeaders(\n",
    "            doc, \n",
    "            max_levels=3,  # Limit to 3 header levels\n",
    "            body_limit=11  # Font size limit for body text\n",
    "        )\n",
    "        md_text = pymupdf4llm.to_markdown(\n",
    "            doc, \n",
    "            hdr_info=my_headers,\n",
    "            margins=default_margins\n",
    "        )\n",
    "        print(\"🔍 Used IdentifyHeaders with custom settings and margins\")\n",
    "    \n",
    "    with open(md_output_path, \"w\", encoding=\"utf-8\") as f:\n",
    "        f.write(md_text)\n",
    "    \n",
    "    print(f\"✅ Markdown with hierarchy and margins saved: {md_output_path}\")\n",
    "    return md_text\n"
   ]
  },
  {
   "cell_type": "code",
   "execution_count": 133,
   "id": "582ee8bb",
   "metadata": {},
   "outputs": [],
   "source": [
    "def process_pdf_pipeline(pdf_path):\n",
    "    filename = Path(pdf_path).stem\n",
    "    output_dir = Path(\"output_markdown\")\n",
    "    output_dir.mkdir(parents=True, exist_ok=True)\n",
    "\n",
    "    temp_dir = Path(\"temp_ocr\")\n",
    "    temp_dir.mkdir(exist_ok=True)\n",
    "\n",
    "    ocr_path = temp_dir / f\"{filename}_ocr.pdf\"\n",
    "    md_output = output_dir / f\"{filename}.md\"\n",
    "\n",
    "    print(f\"🔍 Processing PDF: {pdf_path}\")\n",
    "    scanned = is_scanned_pdf(pdf_path)\n",
    "\n",
    "    if scanned:\n",
    "        print(\"🧾 Detected scanned PDF\")\n",
    "        run_ocr(pdf_path, ocr_path)\n",
    "        used_pdf = ocr_path\n",
    "    else:\n",
    "        print(\"📄 Detected born-digital PDF\")\n",
    "        used_pdf = Path(pdf_path)\n",
    "\n",
    "    return extract_markdown_with_hierarchy(used_pdf, md_output)"
   ]
  },
  {
   "cell_type": "code",
   "execution_count": 134,
   "id": "9d5d9bed",
   "metadata": {},
   "outputs": [
    {
     "name": "stderr",
     "output_type": "stream",
     "text": [
      "<>:1: SyntaxWarning: invalid escape sequence '\\A'\n",
      "<>:1: SyntaxWarning: invalid escape sequence '\\A'\n",
      "C:\\Users\\priya\\AppData\\Local\\Temp\\ipykernel_30148\\2316023380.py:1: SyntaxWarning: invalid escape sequence '\\A'\n",
      "  test_pdf = \"pdfs\\Allossogbe_et_al_2017_Mal_J.pdf\"\n"
     ]
    },
    {
     "name": "stdout",
     "output_type": "stream",
     "text": [
      "🔍 Processing PDF: pdfs\\Allossogbe_et_al_2017_Mal_J.pdf\n",
      "📄 Detected born-digital PDF\n",
      "📋 Used TocHeaders with 36 TOC entries and margins (0, 50, 0, 30)\n",
      "✅ Markdown with hierarchy and margins saved: output_markdown\\Allossogbe_et_al_2017_Mal_J.md\n"
     ]
    }
   ],
   "source": [
    "test_pdf = \"pdfs\\Allossogbe_et_al_2017_Mal_J.pdf\"\n",
    "markdown_text = process_pdf_pipeline(test_pdf)"
   ]
  },
  {
   "cell_type": "code",
   "execution_count": 135,
   "id": "2d69b3c1",
   "metadata": {},
   "outputs": [
    {
     "name": "stdout",
     "output_type": "stream",
     "text": [
      "DOI: None\n"
     ]
    }
   ],
   "source": [
    "## DOI if in metadata\n",
    "\n",
    "doc = fitz.open(test_pdf)\n",
    "doi = doc.metadata.get(\"doi\", None)\n",
    "print(\"DOI:\", doi)"
   ]
  },
  {
   "cell_type": "code",
   "execution_count": 136,
   "id": "35f63b0a",
   "metadata": {},
   "outputs": [
    {
     "name": "stdout",
     "output_type": "stream",
     "text": [
      "DOI from text: 10.1186/s12936-017-1727-x\n"
     ]
    }
   ],
   "source": [
    "## Added DOI if not in metadata\n",
    "\n",
    "doc = fitz.open(test_pdf)\n",
    "first_page_text = doc[0].get_text()\n",
    "match = re.search(r'(10\\.\\d{4,9}/[-._;()/:A-Z0-9]+)', first_page_text, re.I)\n",
    "doi = match.group(1) if match else None\n",
    "print(\"DOI from text:\", doi)\n"
   ]
  },
  {
   "cell_type": "code",
   "execution_count": 137,
   "id": "f29e5d8b",
   "metadata": {},
   "outputs": [],
   "source": [
    "def extract_doi(pdf_path: str, bib_entry: dict = None) -> str:\n",
    "    # 1. Check if provided via BibTeX\n",
    "    if bib_entry and 'doi' in bib_entry:\n",
    "        return bib_entry['doi']\n",
    "    \n",
    "    # 2. Else extract from PDF text\n",
    "    doc = fitz.open(pdf_path)\n",
    "    pages_to_check = [0, len(doc) - 1] if len(doc) > 1 else [0]\n",
    "    \n",
    "    for page_num in pages_to_check:\n",
    "        text = doc[page_num].get_text()\n",
    "        match = re.search(r'(10\\.\\d{4,9}/[-._;()/:A-Z0-9]+)', text, re.I)\n",
    "        if match:\n",
    "            return match.group(1)\n",
    "    \n",
    "    return None  # No DOI found\n"
   ]
  }
 ],
 "metadata": {
  "kernelspec": {
   "display_name": "venv",
   "language": "python",
   "name": "python3"
  },
  "language_info": {
   "codemirror_mode": {
    "name": "ipython",
    "version": 3
   },
   "file_extension": ".py",
   "mimetype": "text/x-python",
   "name": "python",
   "nbconvert_exporter": "python",
   "pygments_lexer": "ipython3",
   "version": "3.12.3"
  }
 },
 "nbformat": 4,
 "nbformat_minor": 5
}